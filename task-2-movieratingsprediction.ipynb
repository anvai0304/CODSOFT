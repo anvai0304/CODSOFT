{
 "cells": [
  {
   "cell_type": "code",
   "execution_count": 1,
   "id": "30cfe9e5",
   "metadata": {
    "_cell_guid": "b1076dfc-b9ad-4769-8c92-a6c4dae69d19",
    "_uuid": "8f2839f25d086af736a60e9eeb907d3b93b6e0e5",
    "execution": {
     "iopub.execute_input": "2024-01-13T04:22:10.610248Z",
     "iopub.status.busy": "2024-01-13T04:22:10.609744Z",
     "iopub.status.idle": "2024-01-13T04:22:12.404710Z",
     "shell.execute_reply": "2024-01-13T04:22:12.403588Z"
    },
    "papermill": {
     "duration": 1.811917,
     "end_time": "2024-01-13T04:22:12.407752",
     "exception": false,
     "start_time": "2024-01-13T04:22:10.595835",
     "status": "completed"
    },
    "tags": []
   },
   "outputs": [],
   "source": [
    "import numpy as np\n",
    "import pandas as pd\n",
    "import matplotlib.pyplot as plt\n",
    "%matplotlib inline\n",
    "import seaborn as sns"
   ]
  },
  {
   "cell_type": "markdown",
   "id": "ea021873",
   "metadata": {
    "papermill": {
     "duration": 0.011421,
     "end_time": "2024-01-13T04:22:12.431749",
     "exception": false,
     "start_time": "2024-01-13T04:22:12.420328",
     "status": "completed"
    },
    "tags": []
   },
   "source": [
    "## Load The Data"
   ]
  },
  {
   "cell_type": "code",
   "execution_count": 2,
   "id": "bba65f3d",
   "metadata": {
    "execution": {
     "iopub.execute_input": "2024-01-13T04:22:12.457389Z",
     "iopub.status.busy": "2024-01-13T04:22:12.456510Z",
     "iopub.status.idle": "2024-01-13T04:22:12.549607Z",
     "shell.execute_reply": "2024-01-13T04:22:12.548636Z"
    },
    "papermill": {
     "duration": 0.108672,
     "end_time": "2024-01-13T04:22:12.552087",
     "exception": false,
     "start_time": "2024-01-13T04:22:12.443415",
     "status": "completed"
    },
    "tags": []
   },
   "outputs": [],
   "source": [
    "movies = pd.read_csv('/kaggle/input/movies-dataset/IMDb Movies India.csv',  encoding = ('ISO-8859-1'))"
   ]
  },
  {
   "cell_type": "code",
   "execution_count": 3,
   "id": "c1990437",
   "metadata": {
    "execution": {
     "iopub.execute_input": "2024-01-13T04:22:12.578213Z",
     "iopub.status.busy": "2024-01-13T04:22:12.577515Z",
     "iopub.status.idle": "2024-01-13T04:22:12.607004Z",
     "shell.execute_reply": "2024-01-13T04:22:12.606205Z"
    },
    "papermill": {
     "duration": 0.04499,
     "end_time": "2024-01-13T04:22:12.609328",
     "exception": false,
     "start_time": "2024-01-13T04:22:12.564338",
     "status": "completed"
    },
    "tags": []
   },
   "outputs": [
    {
     "data": {
      "text/html": [
       "<div>\n",
       "<style scoped>\n",
       "    .dataframe tbody tr th:only-of-type {\n",
       "        vertical-align: middle;\n",
       "    }\n",
       "\n",
       "    .dataframe tbody tr th {\n",
       "        vertical-align: top;\n",
       "    }\n",
       "\n",
       "    .dataframe thead th {\n",
       "        text-align: right;\n",
       "    }\n",
       "</style>\n",
       "<table border=\"1\" class=\"dataframe\">\n",
       "  <thead>\n",
       "    <tr style=\"text-align: right;\">\n",
       "      <th></th>\n",
       "      <th>Name</th>\n",
       "      <th>Year</th>\n",
       "      <th>Duration</th>\n",
       "      <th>Genre</th>\n",
       "      <th>Rating</th>\n",
       "      <th>Votes</th>\n",
       "      <th>Director</th>\n",
       "      <th>Actor 1</th>\n",
       "      <th>Actor 2</th>\n",
       "      <th>Actor 3</th>\n",
       "    </tr>\n",
       "  </thead>\n",
       "  <tbody>\n",
       "    <tr>\n",
       "      <th>0</th>\n",
       "      <td></td>\n",
       "      <td>NaN</td>\n",
       "      <td>NaN</td>\n",
       "      <td>Drama</td>\n",
       "      <td>NaN</td>\n",
       "      <td>NaN</td>\n",
       "      <td>J.S. Randhawa</td>\n",
       "      <td>Manmauji</td>\n",
       "      <td>Birbal</td>\n",
       "      <td>Rajendra Bhatia</td>\n",
       "    </tr>\n",
       "    <tr>\n",
       "      <th>1</th>\n",
       "      <td>#Gadhvi (He thought he was Gandhi)</td>\n",
       "      <td>(2019)</td>\n",
       "      <td>109 min</td>\n",
       "      <td>Drama</td>\n",
       "      <td>7.0</td>\n",
       "      <td>8</td>\n",
       "      <td>Gaurav Bakshi</td>\n",
       "      <td>Rasika Dugal</td>\n",
       "      <td>Vivek Ghamande</td>\n",
       "      <td>Arvind Jangid</td>\n",
       "    </tr>\n",
       "    <tr>\n",
       "      <th>2</th>\n",
       "      <td>#Homecoming</td>\n",
       "      <td>(2021)</td>\n",
       "      <td>90 min</td>\n",
       "      <td>Drama, Musical</td>\n",
       "      <td>NaN</td>\n",
       "      <td>NaN</td>\n",
       "      <td>Soumyajit Majumdar</td>\n",
       "      <td>Sayani Gupta</td>\n",
       "      <td>Plabita Borthakur</td>\n",
       "      <td>Roy Angana</td>\n",
       "    </tr>\n",
       "    <tr>\n",
       "      <th>3</th>\n",
       "      <td>#Yaaram</td>\n",
       "      <td>(2019)</td>\n",
       "      <td>110 min</td>\n",
       "      <td>Comedy, Romance</td>\n",
       "      <td>4.4</td>\n",
       "      <td>35</td>\n",
       "      <td>Ovais Khan</td>\n",
       "      <td>Prateik</td>\n",
       "      <td>Ishita Raj</td>\n",
       "      <td>Siddhant Kapoor</td>\n",
       "    </tr>\n",
       "    <tr>\n",
       "      <th>4</th>\n",
       "      <td>...And Once Again</td>\n",
       "      <td>(2010)</td>\n",
       "      <td>105 min</td>\n",
       "      <td>Drama</td>\n",
       "      <td>NaN</td>\n",
       "      <td>NaN</td>\n",
       "      <td>Amol Palekar</td>\n",
       "      <td>Rajat Kapoor</td>\n",
       "      <td>Rituparna Sengupta</td>\n",
       "      <td>Antara Mali</td>\n",
       "    </tr>\n",
       "  </tbody>\n",
       "</table>\n",
       "</div>"
      ],
      "text/plain": [
       "                                 Name    Year Duration            Genre  \\\n",
       "0                                         NaN      NaN            Drama   \n",
       "1  #Gadhvi (He thought he was Gandhi)  (2019)  109 min            Drama   \n",
       "2                         #Homecoming  (2021)   90 min   Drama, Musical   \n",
       "3                             #Yaaram  (2019)  110 min  Comedy, Romance   \n",
       "4                   ...And Once Again  (2010)  105 min            Drama   \n",
       "\n",
       "   Rating Votes            Director       Actor 1             Actor 2  \\\n",
       "0     NaN   NaN       J.S. Randhawa      Manmauji              Birbal   \n",
       "1     7.0     8       Gaurav Bakshi  Rasika Dugal      Vivek Ghamande   \n",
       "2     NaN   NaN  Soumyajit Majumdar  Sayani Gupta   Plabita Borthakur   \n",
       "3     4.4    35          Ovais Khan       Prateik          Ishita Raj   \n",
       "4     NaN   NaN        Amol Palekar  Rajat Kapoor  Rituparna Sengupta   \n",
       "\n",
       "           Actor 3  \n",
       "0  Rajendra Bhatia  \n",
       "1    Arvind Jangid  \n",
       "2       Roy Angana  \n",
       "3  Siddhant Kapoor  \n",
       "4      Antara Mali  "
      ]
     },
     "execution_count": 3,
     "metadata": {},
     "output_type": "execute_result"
    }
   ],
   "source": [
    "movies.head()"
   ]
  },
  {
   "cell_type": "code",
   "execution_count": 4,
   "id": "4a2d42a6",
   "metadata": {
    "execution": {
     "iopub.execute_input": "2024-01-13T04:22:12.635920Z",
     "iopub.status.busy": "2024-01-13T04:22:12.634912Z",
     "iopub.status.idle": "2024-01-13T04:22:12.641481Z",
     "shell.execute_reply": "2024-01-13T04:22:12.640379Z"
    },
    "papermill": {
     "duration": 0.022139,
     "end_time": "2024-01-13T04:22:12.643694",
     "exception": false,
     "start_time": "2024-01-13T04:22:12.621555",
     "status": "completed"
    },
    "tags": []
   },
   "outputs": [
    {
     "data": {
      "text/plain": [
       "15509"
      ]
     },
     "execution_count": 4,
     "metadata": {},
     "output_type": "execute_result"
    }
   ],
   "source": [
    "# Number of Rows\n",
    "movies.shape[0]"
   ]
  },
  {
   "cell_type": "markdown",
   "id": "c4381894",
   "metadata": {
    "papermill": {
     "duration": 0.01178,
     "end_time": "2024-01-13T04:22:12.668147",
     "exception": false,
     "start_time": "2024-01-13T04:22:12.656367",
     "status": "completed"
    },
    "tags": []
   },
   "source": [
    "### Let's check for the missing values"
   ]
  },
  {
   "cell_type": "code",
   "execution_count": 5,
   "id": "e8d204fb",
   "metadata": {
    "execution": {
     "iopub.execute_input": "2024-01-13T04:22:12.694986Z",
     "iopub.status.busy": "2024-01-13T04:22:12.693707Z",
     "iopub.status.idle": "2024-01-13T04:22:12.717659Z",
     "shell.execute_reply": "2024-01-13T04:22:12.716465Z"
    },
    "papermill": {
     "duration": 0.039546,
     "end_time": "2024-01-13T04:22:12.719911",
     "exception": false,
     "start_time": "2024-01-13T04:22:12.680365",
     "status": "completed"
    },
    "tags": []
   },
   "outputs": [
    {
     "data": {
      "text/plain": [
       "Name        False\n",
       "Year         True\n",
       "Duration     True\n",
       "Genre        True\n",
       "Rating       True\n",
       "Votes        True\n",
       "Director     True\n",
       "Actor 1      True\n",
       "Actor 2      True\n",
       "Actor 3      True\n",
       "dtype: bool"
      ]
     },
     "execution_count": 5,
     "metadata": {},
     "output_type": "execute_result"
    }
   ],
   "source": [
    "movies.isnull().any()"
   ]
  },
  {
   "cell_type": "markdown",
   "id": "e4833feb",
   "metadata": {
    "papermill": {
     "duration": 0.011815,
     "end_time": "2024-01-13T04:22:12.744037",
     "exception": false,
     "start_time": "2024-01-13T04:22:12.732222",
     "status": "completed"
    },
    "tags": []
   },
   "source": [
    "#### Looks like except for 'Name', all other features have missing values!!"
   ]
  },
  {
   "cell_type": "code",
   "execution_count": 6,
   "id": "1137e3cb",
   "metadata": {
    "execution": {
     "iopub.execute_input": "2024-01-13T04:22:12.770237Z",
     "iopub.status.busy": "2024-01-13T04:22:12.769802Z",
     "iopub.status.idle": "2024-01-13T04:22:12.792116Z",
     "shell.execute_reply": "2024-01-13T04:22:12.791317Z"
    },
    "papermill": {
     "duration": 0.038005,
     "end_time": "2024-01-13T04:22:12.794383",
     "exception": false,
     "start_time": "2024-01-13T04:22:12.756378",
     "status": "completed"
    },
    "tags": []
   },
   "outputs": [
    {
     "data": {
      "text/plain": [
       "Name           0\n",
       "Year         528\n",
       "Duration    8269\n",
       "Genre       1877\n",
       "Rating      7590\n",
       "Votes       7589\n",
       "Director     525\n",
       "Actor 1     1617\n",
       "Actor 2     2384\n",
       "Actor 3     3144\n",
       "dtype: int64"
      ]
     },
     "execution_count": 6,
     "metadata": {},
     "output_type": "execute_result"
    }
   ],
   "source": [
    "movies.isnull().sum()"
   ]
  },
  {
   "cell_type": "code",
   "execution_count": 7,
   "id": "7036cbf8",
   "metadata": {
    "execution": {
     "iopub.execute_input": "2024-01-13T04:22:12.821326Z",
     "iopub.status.busy": "2024-01-13T04:22:12.820928Z",
     "iopub.status.idle": "2024-01-13T04:22:12.829714Z",
     "shell.execute_reply": "2024-01-13T04:22:12.828618Z"
    },
    "papermill": {
     "duration": 0.024677,
     "end_time": "2024-01-13T04:22:12.831982",
     "exception": false,
     "start_time": "2024-01-13T04:22:12.807305",
     "status": "completed"
    },
    "tags": []
   },
   "outputs": [
    {
     "data": {
      "text/plain": [
       "0    NaN\n",
       "1    7.0\n",
       "2    NaN\n",
       "3    4.4\n",
       "4    NaN\n",
       "Name: Rating, dtype: float64"
      ]
     },
     "execution_count": 7,
     "metadata": {},
     "output_type": "execute_result"
    }
   ],
   "source": [
    "# Target variable\n",
    "y = movies['Rating']\n",
    "y.head()"
   ]
  },
  {
   "cell_type": "code",
   "execution_count": 8,
   "id": "03804a98",
   "metadata": {
    "execution": {
     "iopub.execute_input": "2024-01-13T04:22:12.859344Z",
     "iopub.status.busy": "2024-01-13T04:22:12.858726Z",
     "iopub.status.idle": "2024-01-13T04:22:12.865966Z",
     "shell.execute_reply": "2024-01-13T04:22:12.864877Z"
    },
    "papermill": {
     "duration": 0.023542,
     "end_time": "2024-01-13T04:22:12.868094",
     "exception": false,
     "start_time": "2024-01-13T04:22:12.844552",
     "status": "completed"
    },
    "tags": []
   },
   "outputs": [
    {
     "data": {
      "text/plain": [
       "(15509,)"
      ]
     },
     "execution_count": 8,
     "metadata": {},
     "output_type": "execute_result"
    }
   ],
   "source": [
    "y = y.fillna(0)\n",
    "y.shape"
   ]
  },
  {
   "cell_type": "markdown",
   "id": "afdb0245",
   "metadata": {
    "papermill": {
     "duration": 0.012305,
     "end_time": "2024-01-13T04:22:12.893049",
     "exception": false,
     "start_time": "2024-01-13T04:22:12.880744",
     "status": "completed"
    },
    "tags": []
   },
   "source": [
    "#### Director count"
   ]
  },
  {
   "cell_type": "code",
   "execution_count": 9,
   "id": "aae37166",
   "metadata": {
    "execution": {
     "iopub.execute_input": "2024-01-13T04:22:12.920483Z",
     "iopub.status.busy": "2024-01-13T04:22:12.919840Z",
     "iopub.status.idle": "2024-01-13T04:22:12.937443Z",
     "shell.execute_reply": "2024-01-13T04:22:12.936372Z"
    },
    "papermill": {
     "duration": 0.03426,
     "end_time": "2024-01-13T04:22:12.939962",
     "exception": false,
     "start_time": "2024-01-13T04:22:12.905702",
     "status": "completed"
    },
    "tags": []
   },
   "outputs": [
    {
     "data": {
      "text/plain": [
       "Director\n",
       "Jayant Desai        58\n",
       "Kanti Shah          57\n",
       "Babubhai Mistry     50\n",
       "Mahesh Bhatt        48\n",
       "Master Bhagwan      47\n",
       "Nanabhai Bhatt      46\n",
       "Dhirubhai Desai     46\n",
       "B.R. Ishara         44\n",
       "David Dhawan        44\n",
       "Mohammed Hussain    44\n",
       "Name: count, dtype: int64"
      ]
     },
     "execution_count": 9,
     "metadata": {},
     "output_type": "execute_result"
    }
   ],
   "source": [
    "dir = movies['Director'].value_counts()\n",
    "d = dir.head(10)\n",
    "d"
   ]
  },
  {
   "cell_type": "markdown",
   "id": "a07f4122",
   "metadata": {
    "papermill": {
     "duration": 0.013212,
     "end_time": "2024-01-13T04:22:12.966047",
     "exception": false,
     "start_time": "2024-01-13T04:22:12.952835",
     "status": "completed"
    },
    "tags": []
   },
   "source": [
    "#### Actor 1 count"
   ]
  },
  {
   "cell_type": "code",
   "execution_count": 10,
   "id": "90198407",
   "metadata": {
    "execution": {
     "iopub.execute_input": "2024-01-13T04:22:12.993997Z",
     "iopub.status.busy": "2024-01-13T04:22:12.993601Z",
     "iopub.status.idle": "2024-01-13T04:22:13.006686Z",
     "shell.execute_reply": "2024-01-13T04:22:13.005801Z"
    },
    "papermill": {
     "duration": 0.029436,
     "end_time": "2024-01-13T04:22:13.008927",
     "exception": false,
     "start_time": "2024-01-13T04:22:12.979491",
     "status": "completed"
    },
    "tags": []
   },
   "outputs": [
    {
     "data": {
      "text/plain": [
       "Actor 1\n",
       "Ashok Kumar           158\n",
       "Dharmendra            140\n",
       "Jeetendra             140\n",
       "Mithun Chakraborty    133\n",
       "Amitabh Bachchan      129\n",
       "Rajesh Khanna         122\n",
       "Dev Anand              93\n",
       "Shashi Kapoor          91\n",
       "Akshay Kumar           88\n",
       "Sanjeev Kumar          83\n",
       "Name: count, dtype: int64"
      ]
     },
     "execution_count": 10,
     "metadata": {},
     "output_type": "execute_result"
    }
   ],
   "source": [
    "act_1 = movies['Actor 1'].value_counts()\n",
    "a_1 = act_1.head(10)\n",
    "a_1"
   ]
  },
  {
   "cell_type": "markdown",
   "id": "22761ea8",
   "metadata": {
    "papermill": {
     "duration": 0.012511,
     "end_time": "2024-01-13T04:22:13.034441",
     "exception": false,
     "start_time": "2024-01-13T04:22:13.021930",
     "status": "completed"
    },
    "tags": []
   },
   "source": [
    "#### Actor 2 count"
   ]
  },
  {
   "cell_type": "code",
   "execution_count": 11,
   "id": "773df576",
   "metadata": {
    "execution": {
     "iopub.execute_input": "2024-01-13T04:22:13.061947Z",
     "iopub.status.busy": "2024-01-13T04:22:13.061495Z",
     "iopub.status.idle": "2024-01-13T04:22:13.075740Z",
     "shell.execute_reply": "2024-01-13T04:22:13.074644Z"
    },
    "papermill": {
     "duration": 0.030987,
     "end_time": "2024-01-13T04:22:13.078257",
     "exception": false,
     "start_time": "2024-01-13T04:22:13.047270",
     "status": "completed"
    },
    "tags": []
   },
   "outputs": [
    {
     "data": {
      "text/plain": [
       "Actor 2\n",
       "Rekha                 83\n",
       "Hema Malini           72\n",
       "Mithun Chakraborty    63\n",
       "Dharmendra            61\n",
       "Mala Sinha            48\n",
       "Helen                 48\n",
       "Mumtaz                45\n",
       "Reena Roy             45\n",
       "Jaya Prada            44\n",
       "Shabana Azmi          44\n",
       "Name: count, dtype: int64"
      ]
     },
     "execution_count": 11,
     "metadata": {},
     "output_type": "execute_result"
    }
   ],
   "source": [
    "act_2 = movies['Actor 2'].value_counts()\n",
    "a_2 = act_2.head(10)\n",
    "a_2"
   ]
  },
  {
   "cell_type": "markdown",
   "id": "ce52ceab",
   "metadata": {
    "papermill": {
     "duration": 0.012785,
     "end_time": "2024-01-13T04:22:13.104272",
     "exception": false,
     "start_time": "2024-01-13T04:22:13.091487",
     "status": "completed"
    },
    "tags": []
   },
   "source": [
    "#### Actor 3 count"
   ]
  },
  {
   "cell_type": "code",
   "execution_count": 12,
   "id": "75136d92",
   "metadata": {
    "execution": {
     "iopub.execute_input": "2024-01-13T04:22:13.132354Z",
     "iopub.status.busy": "2024-01-13T04:22:13.131912Z",
     "iopub.status.idle": "2024-01-13T04:22:13.144841Z",
     "shell.execute_reply": "2024-01-13T04:22:13.143654Z"
    },
    "papermill": {
     "duration": 0.029812,
     "end_time": "2024-01-13T04:22:13.147184",
     "exception": false,
     "start_time": "2024-01-13T04:22:13.117372",
     "status": "completed"
    },
    "tags": []
   },
   "outputs": [
    {
     "data": {
      "text/plain": [
       "Actor 3\n",
       "Pran    91\n",
       "Name: count, dtype: int64"
      ]
     },
     "execution_count": 12,
     "metadata": {},
     "output_type": "execute_result"
    }
   ],
   "source": [
    "act_3 = movies['Actor 3'].value_counts()\n",
    "a_3 = act_3.head(1)\n",
    "a_3"
   ]
  },
  {
   "cell_type": "markdown",
   "id": "dec537b8",
   "metadata": {
    "papermill": {
     "duration": 0.013023,
     "end_time": "2024-01-13T04:22:13.173722",
     "exception": false,
     "start_time": "2024-01-13T04:22:13.160699",
     "status": "completed"
    },
    "tags": []
   },
   "source": [
    "#### Different Genre count"
   ]
  },
  {
   "cell_type": "code",
   "execution_count": 13,
   "id": "3bbfa6ad",
   "metadata": {
    "execution": {
     "iopub.execute_input": "2024-01-13T04:22:13.202906Z",
     "iopub.status.busy": "2024-01-13T04:22:13.202259Z",
     "iopub.status.idle": "2024-01-13T04:22:13.212175Z",
     "shell.execute_reply": "2024-01-13T04:22:13.211368Z"
    },
    "papermill": {
     "duration": 0.027296,
     "end_time": "2024-01-13T04:22:13.214374",
     "exception": false,
     "start_time": "2024-01-13T04:22:13.187078",
     "status": "completed"
    },
    "tags": []
   },
   "outputs": [
    {
     "data": {
      "text/plain": [
       "Genre\n",
       "Drama                   2780\n",
       "Action                  1289\n",
       "Thriller                 779\n",
       "Romance                  708\n",
       "Drama, Romance           524\n",
       "Comedy                   495\n",
       "Action, Crime, Drama     455\n",
       "Drama, Family            418\n",
       "Horror                   322\n",
       "Action, Drama            316\n",
       "Name: count, dtype: int64"
      ]
     },
     "execution_count": 13,
     "metadata": {},
     "output_type": "execute_result"
    }
   ],
   "source": [
    "genre_count = movies['Genre'].value_counts()\n",
    "g = genre_count.head(10)\n",
    "g"
   ]
  },
  {
   "cell_type": "code",
   "execution_count": 14,
   "id": "2cb8d2b1",
   "metadata": {
    "execution": {
     "iopub.execute_input": "2024-01-13T04:22:13.244418Z",
     "iopub.status.busy": "2024-01-13T04:22:13.243989Z",
     "iopub.status.idle": "2024-01-13T04:22:13.337546Z",
     "shell.execute_reply": "2024-01-13T04:22:13.336018Z"
    },
    "papermill": {
     "duration": 0.113379,
     "end_time": "2024-01-13T04:22:13.341804",
     "exception": false,
     "start_time": "2024-01-13T04:22:13.228425",
     "status": "completed"
    },
    "tags": []
   },
   "outputs": [],
   "source": [
    "X = movies.drop(['Rating'], axis = 1)"
   ]
  },
  {
   "cell_type": "code",
   "execution_count": 15,
   "id": "3129c437",
   "metadata": {
    "execution": {
     "iopub.execute_input": "2024-01-13T04:22:13.433066Z",
     "iopub.status.busy": "2024-01-13T04:22:13.432447Z",
     "iopub.status.idle": "2024-01-13T04:22:13.447666Z",
     "shell.execute_reply": "2024-01-13T04:22:13.446766Z"
    },
    "papermill": {
     "duration": 0.032532,
     "end_time": "2024-01-13T04:22:13.449840",
     "exception": false,
     "start_time": "2024-01-13T04:22:13.417308",
     "status": "completed"
    },
    "tags": []
   },
   "outputs": [
    {
     "data": {
      "text/html": [
       "<div>\n",
       "<style scoped>\n",
       "    .dataframe tbody tr th:only-of-type {\n",
       "        vertical-align: middle;\n",
       "    }\n",
       "\n",
       "    .dataframe tbody tr th {\n",
       "        vertical-align: top;\n",
       "    }\n",
       "\n",
       "    .dataframe thead th {\n",
       "        text-align: right;\n",
       "    }\n",
       "</style>\n",
       "<table border=\"1\" class=\"dataframe\">\n",
       "  <thead>\n",
       "    <tr style=\"text-align: right;\">\n",
       "      <th></th>\n",
       "      <th>Name</th>\n",
       "      <th>Year</th>\n",
       "      <th>Duration</th>\n",
       "      <th>Genre</th>\n",
       "      <th>Votes</th>\n",
       "      <th>Director</th>\n",
       "      <th>Actor 1</th>\n",
       "      <th>Actor 2</th>\n",
       "      <th>Actor 3</th>\n",
       "    </tr>\n",
       "  </thead>\n",
       "  <tbody>\n",
       "    <tr>\n",
       "      <th>0</th>\n",
       "      <td></td>\n",
       "      <td>NaN</td>\n",
       "      <td>NaN</td>\n",
       "      <td>Drama</td>\n",
       "      <td>NaN</td>\n",
       "      <td>J.S. Randhawa</td>\n",
       "      <td>Manmauji</td>\n",
       "      <td>Birbal</td>\n",
       "      <td>Rajendra Bhatia</td>\n",
       "    </tr>\n",
       "    <tr>\n",
       "      <th>1</th>\n",
       "      <td>#Gadhvi (He thought he was Gandhi)</td>\n",
       "      <td>(2019)</td>\n",
       "      <td>109 min</td>\n",
       "      <td>Drama</td>\n",
       "      <td>8</td>\n",
       "      <td>Gaurav Bakshi</td>\n",
       "      <td>Rasika Dugal</td>\n",
       "      <td>Vivek Ghamande</td>\n",
       "      <td>Arvind Jangid</td>\n",
       "    </tr>\n",
       "    <tr>\n",
       "      <th>2</th>\n",
       "      <td>#Homecoming</td>\n",
       "      <td>(2021)</td>\n",
       "      <td>90 min</td>\n",
       "      <td>Drama, Musical</td>\n",
       "      <td>NaN</td>\n",
       "      <td>Soumyajit Majumdar</td>\n",
       "      <td>Sayani Gupta</td>\n",
       "      <td>Plabita Borthakur</td>\n",
       "      <td>Roy Angana</td>\n",
       "    </tr>\n",
       "    <tr>\n",
       "      <th>3</th>\n",
       "      <td>#Yaaram</td>\n",
       "      <td>(2019)</td>\n",
       "      <td>110 min</td>\n",
       "      <td>Comedy, Romance</td>\n",
       "      <td>35</td>\n",
       "      <td>Ovais Khan</td>\n",
       "      <td>Prateik</td>\n",
       "      <td>Ishita Raj</td>\n",
       "      <td>Siddhant Kapoor</td>\n",
       "    </tr>\n",
       "    <tr>\n",
       "      <th>4</th>\n",
       "      <td>...And Once Again</td>\n",
       "      <td>(2010)</td>\n",
       "      <td>105 min</td>\n",
       "      <td>Drama</td>\n",
       "      <td>NaN</td>\n",
       "      <td>Amol Palekar</td>\n",
       "      <td>Rajat Kapoor</td>\n",
       "      <td>Rituparna Sengupta</td>\n",
       "      <td>Antara Mali</td>\n",
       "    </tr>\n",
       "  </tbody>\n",
       "</table>\n",
       "</div>"
      ],
      "text/plain": [
       "                                 Name    Year Duration            Genre Votes  \\\n",
       "0                                         NaN      NaN            Drama   NaN   \n",
       "1  #Gadhvi (He thought he was Gandhi)  (2019)  109 min            Drama     8   \n",
       "2                         #Homecoming  (2021)   90 min   Drama, Musical   NaN   \n",
       "3                             #Yaaram  (2019)  110 min  Comedy, Romance    35   \n",
       "4                   ...And Once Again  (2010)  105 min            Drama   NaN   \n",
       "\n",
       "             Director       Actor 1             Actor 2          Actor 3  \n",
       "0       J.S. Randhawa      Manmauji              Birbal  Rajendra Bhatia  \n",
       "1       Gaurav Bakshi  Rasika Dugal      Vivek Ghamande    Arvind Jangid  \n",
       "2  Soumyajit Majumdar  Sayani Gupta   Plabita Borthakur       Roy Angana  \n",
       "3          Ovais Khan       Prateik          Ishita Raj  Siddhant Kapoor  \n",
       "4        Amol Palekar  Rajat Kapoor  Rituparna Sengupta      Antara Mali  "
      ]
     },
     "execution_count": 15,
     "metadata": {},
     "output_type": "execute_result"
    }
   ],
   "source": [
    "X.head()"
   ]
  },
  {
   "cell_type": "code",
   "execution_count": 16,
   "id": "07c4f5d3",
   "metadata": {
    "execution": {
     "iopub.execute_input": "2024-01-13T04:22:13.480058Z",
     "iopub.status.busy": "2024-01-13T04:22:13.478902Z",
     "iopub.status.idle": "2024-01-13T04:22:13.513050Z",
     "shell.execute_reply": "2024-01-13T04:22:13.511796Z"
    },
    "papermill": {
     "duration": 0.051761,
     "end_time": "2024-01-13T04:22:13.515473",
     "exception": false,
     "start_time": "2024-01-13T04:22:13.463712",
     "status": "completed"
    },
    "tags": []
   },
   "outputs": [
    {
     "data": {
      "text/html": [
       "<div>\n",
       "<style scoped>\n",
       "    .dataframe tbody tr th:only-of-type {\n",
       "        vertical-align: middle;\n",
       "    }\n",
       "\n",
       "    .dataframe tbody tr th {\n",
       "        vertical-align: top;\n",
       "    }\n",
       "\n",
       "    .dataframe thead th {\n",
       "        text-align: right;\n",
       "    }\n",
       "</style>\n",
       "<table border=\"1\" class=\"dataframe\">\n",
       "  <thead>\n",
       "    <tr style=\"text-align: right;\">\n",
       "      <th></th>\n",
       "      <th>Name</th>\n",
       "      <th>Year</th>\n",
       "      <th>Duration</th>\n",
       "      <th>Genre</th>\n",
       "      <th>Votes</th>\n",
       "      <th>Director</th>\n",
       "      <th>Actor 1</th>\n",
       "      <th>Actor 2</th>\n",
       "      <th>Actor 3</th>\n",
       "    </tr>\n",
       "  </thead>\n",
       "  <tbody>\n",
       "    <tr>\n",
       "      <th>0</th>\n",
       "      <td></td>\n",
       "      <td>0</td>\n",
       "      <td>0</td>\n",
       "      <td>Drama</td>\n",
       "      <td>0</td>\n",
       "      <td>J.S. Randhawa</td>\n",
       "      <td>Manmauji</td>\n",
       "      <td>Birbal</td>\n",
       "      <td>Rajendra Bhatia</td>\n",
       "    </tr>\n",
       "    <tr>\n",
       "      <th>1</th>\n",
       "      <td>#Gadhvi (He thought he was Gandhi)</td>\n",
       "      <td>(2019)</td>\n",
       "      <td>109 min</td>\n",
       "      <td>Drama</td>\n",
       "      <td>8</td>\n",
       "      <td>Gaurav Bakshi</td>\n",
       "      <td>Rasika Dugal</td>\n",
       "      <td>Vivek Ghamande</td>\n",
       "      <td>Arvind Jangid</td>\n",
       "    </tr>\n",
       "    <tr>\n",
       "      <th>2</th>\n",
       "      <td>#Homecoming</td>\n",
       "      <td>(2021)</td>\n",
       "      <td>90 min</td>\n",
       "      <td>Drama, Musical</td>\n",
       "      <td>0</td>\n",
       "      <td>Soumyajit Majumdar</td>\n",
       "      <td>Sayani Gupta</td>\n",
       "      <td>Plabita Borthakur</td>\n",
       "      <td>Roy Angana</td>\n",
       "    </tr>\n",
       "    <tr>\n",
       "      <th>3</th>\n",
       "      <td>#Yaaram</td>\n",
       "      <td>(2019)</td>\n",
       "      <td>110 min</td>\n",
       "      <td>Comedy, Romance</td>\n",
       "      <td>35</td>\n",
       "      <td>Ovais Khan</td>\n",
       "      <td>Prateik</td>\n",
       "      <td>Ishita Raj</td>\n",
       "      <td>Siddhant Kapoor</td>\n",
       "    </tr>\n",
       "    <tr>\n",
       "      <th>4</th>\n",
       "      <td>...And Once Again</td>\n",
       "      <td>(2010)</td>\n",
       "      <td>105 min</td>\n",
       "      <td>Drama</td>\n",
       "      <td>0</td>\n",
       "      <td>Amol Palekar</td>\n",
       "      <td>Rajat Kapoor</td>\n",
       "      <td>Rituparna Sengupta</td>\n",
       "      <td>Antara Mali</td>\n",
       "    </tr>\n",
       "  </tbody>\n",
       "</table>\n",
       "</div>"
      ],
      "text/plain": [
       "                                 Name    Year Duration            Genre Votes  \\\n",
       "0                                           0        0            Drama     0   \n",
       "1  #Gadhvi (He thought he was Gandhi)  (2019)  109 min            Drama     8   \n",
       "2                         #Homecoming  (2021)   90 min   Drama, Musical     0   \n",
       "3                             #Yaaram  (2019)  110 min  Comedy, Romance    35   \n",
       "4                   ...And Once Again  (2010)  105 min            Drama     0   \n",
       "\n",
       "             Director       Actor 1             Actor 2          Actor 3  \n",
       "0       J.S. Randhawa      Manmauji              Birbal  Rajendra Bhatia  \n",
       "1       Gaurav Bakshi  Rasika Dugal      Vivek Ghamande    Arvind Jangid  \n",
       "2  Soumyajit Majumdar  Sayani Gupta   Plabita Borthakur       Roy Angana  \n",
       "3          Ovais Khan       Prateik          Ishita Raj  Siddhant Kapoor  \n",
       "4        Amol Palekar  Rajat Kapoor  Rituparna Sengupta      Antara Mali  "
      ]
     },
     "execution_count": 16,
     "metadata": {},
     "output_type": "execute_result"
    }
   ],
   "source": [
    "# Let's see how the model goes with dropping 'na' values\n",
    "X = X.fillna(0)\n",
    "X.head()"
   ]
  },
  {
   "cell_type": "code",
   "execution_count": 17,
   "id": "0f45fad6",
   "metadata": {
    "execution": {
     "iopub.execute_input": "2024-01-13T04:22:13.546465Z",
     "iopub.status.busy": "2024-01-13T04:22:13.545483Z",
     "iopub.status.idle": "2024-01-13T04:22:13.552431Z",
     "shell.execute_reply": "2024-01-13T04:22:13.551027Z"
    },
    "papermill": {
     "duration": 0.025149,
     "end_time": "2024-01-13T04:22:13.554974",
     "exception": false,
     "start_time": "2024-01-13T04:22:13.529825",
     "status": "completed"
    },
    "tags": []
   },
   "outputs": [
    {
     "data": {
      "text/plain": [
       "15509"
      ]
     },
     "execution_count": 17,
     "metadata": {},
     "output_type": "execute_result"
    }
   ],
   "source": [
    "X.shape[0]"
   ]
  },
  {
   "cell_type": "code",
   "execution_count": 18,
   "id": "f176099f",
   "metadata": {
    "execution": {
     "iopub.execute_input": "2024-01-13T04:22:13.587118Z",
     "iopub.status.busy": "2024-01-13T04:22:13.586734Z",
     "iopub.status.idle": "2024-01-13T04:22:13.611729Z",
     "shell.execute_reply": "2024-01-13T04:22:13.610643Z"
    },
    "papermill": {
     "duration": 0.044737,
     "end_time": "2024-01-13T04:22:13.614584",
     "exception": false,
     "start_time": "2024-01-13T04:22:13.569847",
     "status": "completed"
    },
    "tags": []
   },
   "outputs": [
    {
     "data": {
      "text/plain": [
       "Name        False\n",
       "Year        False\n",
       "Duration    False\n",
       "Genre       False\n",
       "Votes       False\n",
       "Director    False\n",
       "Actor 1     False\n",
       "Actor 2     False\n",
       "Actor 3     False\n",
       "dtype: bool"
      ]
     },
     "execution_count": 18,
     "metadata": {},
     "output_type": "execute_result"
    }
   ],
   "source": [
    "X.isnull().any()"
   ]
  },
  {
   "cell_type": "code",
   "execution_count": 19,
   "id": "bf2c46f4",
   "metadata": {
    "execution": {
     "iopub.execute_input": "2024-01-13T04:22:13.647214Z",
     "iopub.status.busy": "2024-01-13T04:22:13.646121Z",
     "iopub.status.idle": "2024-01-13T04:22:13.652430Z",
     "shell.execute_reply": "2024-01-13T04:22:13.651568Z"
    },
    "papermill": {
     "duration": 0.025318,
     "end_time": "2024-01-13T04:22:13.654972",
     "exception": false,
     "start_time": "2024-01-13T04:22:13.629654",
     "status": "completed"
    },
    "tags": []
   },
   "outputs": [],
   "source": [
    "actors = pd.concat([X['Actor 1'], X['Actor 2'], X['Actor 3']])"
   ]
  },
  {
   "cell_type": "code",
   "execution_count": 20,
   "id": "69711cd7",
   "metadata": {
    "execution": {
     "iopub.execute_input": "2024-01-13T04:22:13.686479Z",
     "iopub.status.busy": "2024-01-13T04:22:13.686048Z",
     "iopub.status.idle": "2024-01-13T04:22:13.707074Z",
     "shell.execute_reply": "2024-01-13T04:22:13.705877Z"
    },
    "papermill": {
     "duration": 0.039189,
     "end_time": "2024-01-13T04:22:13.709408",
     "exception": false,
     "start_time": "2024-01-13T04:22:13.670219",
     "status": "completed"
    },
    "tags": []
   },
   "outputs": [
    {
     "data": {
      "text/plain": [
       "0                     7145\n",
       "Mithun Chakraborty     241\n",
       "Dharmendra             231\n",
       "Ashok Kumar            227\n",
       "Jeetendra              179\n",
       "Amitabh Bachchan       178\n",
       "Rekha                  142\n",
       "Rajesh Khanna          139\n",
       "Shashi Kapoor          133\n",
       "Shatrughan Sinha       131\n",
       "Name: count, dtype: int64"
      ]
     },
     "execution_count": 20,
     "metadata": {},
     "output_type": "execute_result"
    }
   ],
   "source": [
    "top_ten_actors = actors.value_counts().head(10) # On the basis of number of movies done\n",
    "top_ten_actors"
   ]
  },
  {
   "cell_type": "code",
   "execution_count": 21,
   "id": "f8c88206",
   "metadata": {
    "execution": {
     "iopub.execute_input": "2024-01-13T04:22:13.741138Z",
     "iopub.status.busy": "2024-01-13T04:22:13.740303Z",
     "iopub.status.idle": "2024-01-13T04:22:13.758303Z",
     "shell.execute_reply": "2024-01-13T04:22:13.757448Z"
    },
    "papermill": {
     "duration": 0.036788,
     "end_time": "2024-01-13T04:22:13.760874",
     "exception": false,
     "start_time": "2024-01-13T04:22:13.724086",
     "status": "completed"
    },
    "tags": []
   },
   "outputs": [],
   "source": [
    "X = X.astype('str')"
   ]
  },
  {
   "cell_type": "markdown",
   "id": "0f642d4a",
   "metadata": {
    "papermill": {
     "duration": 0.014505,
     "end_time": "2024-01-13T04:22:13.790043",
     "exception": false,
     "start_time": "2024-01-13T04:22:13.775538",
     "status": "completed"
    },
    "tags": []
   },
   "source": [
    "### We will do Ordinal Encoding for converting categorical data to numerical data"
   ]
  },
  {
   "cell_type": "code",
   "execution_count": 22,
   "id": "24356aea",
   "metadata": {
    "execution": {
     "iopub.execute_input": "2024-01-13T04:22:13.821941Z",
     "iopub.status.busy": "2024-01-13T04:22:13.821150Z",
     "iopub.status.idle": "2024-01-13T04:22:13.975823Z",
     "shell.execute_reply": "2024-01-13T04:22:13.974622Z"
    },
    "papermill": {
     "duration": 0.174234,
     "end_time": "2024-01-13T04:22:13.979089",
     "exception": false,
     "start_time": "2024-01-13T04:22:13.804855",
     "status": "completed"
    },
    "tags": []
   },
   "outputs": [],
   "source": [
    "from sklearn.preprocessing import OrdinalEncoder\n",
    "oe = OrdinalEncoder()"
   ]
  },
  {
   "cell_type": "code",
   "execution_count": 23,
   "id": "3bca5200",
   "metadata": {
    "execution": {
     "iopub.execute_input": "2024-01-13T04:22:14.011066Z",
     "iopub.status.busy": "2024-01-13T04:22:14.010253Z",
     "iopub.status.idle": "2024-01-13T04:22:14.254767Z",
     "shell.execute_reply": "2024-01-13T04:22:14.253566Z"
    },
    "papermill": {
     "duration": 0.263265,
     "end_time": "2024-01-13T04:22:14.257361",
     "exception": false,
     "start_time": "2024-01-13T04:22:13.994096",
     "status": "completed"
    },
    "tags": []
   },
   "outputs": [],
   "source": [
    "X = oe.fit_transform(X)"
   ]
  },
  {
   "cell_type": "markdown",
   "id": "76998c1e",
   "metadata": {
    "papermill": {
     "duration": 0.014964,
     "end_time": "2024-01-13T04:22:14.287241",
     "exception": false,
     "start_time": "2024-01-13T04:22:14.272277",
     "status": "completed"
    },
    "tags": []
   },
   "source": [
    "### Split the data into training and testing"
   ]
  },
  {
   "cell_type": "code",
   "execution_count": 24,
   "id": "75f7c799",
   "metadata": {
    "execution": {
     "iopub.execute_input": "2024-01-13T04:22:14.318910Z",
     "iopub.status.busy": "2024-01-13T04:22:14.318173Z",
     "iopub.status.idle": "2024-01-13T04:22:14.434673Z",
     "shell.execute_reply": "2024-01-13T04:22:14.433114Z"
    },
    "papermill": {
     "duration": 0.135579,
     "end_time": "2024-01-13T04:22:14.437533",
     "exception": false,
     "start_time": "2024-01-13T04:22:14.301954",
     "status": "completed"
    },
    "tags": []
   },
   "outputs": [],
   "source": [
    "from sklearn.model_selection import train_test_split\n",
    "\n",
    "X_train,X_test,y_train,y_test = train_test_split(X,y,test_size = 0.3, random_state = 42)"
   ]
  },
  {
   "cell_type": "markdown",
   "id": "b3874e9c",
   "metadata": {
    "papermill": {
     "duration": 0.014904,
     "end_time": "2024-01-13T04:22:14.467395",
     "exception": false,
     "start_time": "2024-01-13T04:22:14.452491",
     "status": "completed"
    },
    "tags": []
   },
   "source": [
    "#### It's a regression problem , and we will use Random Forest Regressor as it is one of the most powerful model"
   ]
  },
  {
   "cell_type": "code",
   "execution_count": 25,
   "id": "8bff8a68",
   "metadata": {
    "execution": {
     "iopub.execute_input": "2024-01-13T04:22:14.499660Z",
     "iopub.status.busy": "2024-01-13T04:22:14.499206Z",
     "iopub.status.idle": "2024-01-13T04:22:14.752181Z",
     "shell.execute_reply": "2024-01-13T04:22:14.750952Z"
    },
    "papermill": {
     "duration": 0.272305,
     "end_time": "2024-01-13T04:22:14.755019",
     "exception": false,
     "start_time": "2024-01-13T04:22:14.482714",
     "status": "completed"
    },
    "tags": []
   },
   "outputs": [],
   "source": [
    "from sklearn.ensemble import RandomForestRegressor\n",
    "from sklearn.metrics import r2_score"
   ]
  },
  {
   "cell_type": "code",
   "execution_count": 26,
   "id": "95c43e5d",
   "metadata": {
    "execution": {
     "iopub.execute_input": "2024-01-13T04:22:14.787197Z",
     "iopub.status.busy": "2024-01-13T04:22:14.786419Z",
     "iopub.status.idle": "2024-01-13T04:22:14.791218Z",
     "shell.execute_reply": "2024-01-13T04:22:14.790451Z"
    },
    "papermill": {
     "duration": 0.023722,
     "end_time": "2024-01-13T04:22:14.793620",
     "exception": false,
     "start_time": "2024-01-13T04:22:14.769898",
     "status": "completed"
    },
    "tags": []
   },
   "outputs": [],
   "source": [
    "# Model\n",
    "model = RandomForestRegressor()"
   ]
  },
  {
   "cell_type": "code",
   "execution_count": 27,
   "id": "d063b26c",
   "metadata": {
    "execution": {
     "iopub.execute_input": "2024-01-13T04:22:14.825180Z",
     "iopub.status.busy": "2024-01-13T04:22:14.824404Z",
     "iopub.status.idle": "2024-01-13T04:22:19.604268Z",
     "shell.execute_reply": "2024-01-13T04:22:19.602940Z"
    },
    "papermill": {
     "duration": 4.79892,
     "end_time": "2024-01-13T04:22:19.607126",
     "exception": false,
     "start_time": "2024-01-13T04:22:14.808206",
     "status": "completed"
    },
    "tags": []
   },
   "outputs": [],
   "source": [
    "# Fit the model\n",
    "model.fit(X_train,y_train)\n",
    "\n",
    "# Predict the model\n",
    "y_pred = model.predict(X_test)"
   ]
  },
  {
   "cell_type": "code",
   "execution_count": 28,
   "id": "7f446650",
   "metadata": {
    "execution": {
     "iopub.execute_input": "2024-01-13T04:22:19.639165Z",
     "iopub.status.busy": "2024-01-13T04:22:19.638378Z",
     "iopub.status.idle": "2024-01-13T04:22:19.646680Z",
     "shell.execute_reply": "2024-01-13T04:22:19.645570Z"
    },
    "papermill": {
     "duration": 0.026838,
     "end_time": "2024-01-13T04:22:19.649033",
     "exception": false,
     "start_time": "2024-01-13T04:22:19.622195",
     "status": "completed"
    },
    "tags": []
   },
   "outputs": [
    {
     "data": {
      "text/plain": [
       "0.919023856681358"
      ]
     },
     "execution_count": 28,
     "metadata": {},
     "output_type": "execute_result"
    }
   ],
   "source": [
    "# Check the performance of the model\n",
    "r2 = r2_score(y_test,y_pred)\n",
    "r2"
   ]
  },
  {
   "cell_type": "markdown",
   "id": "743cecd4",
   "metadata": {
    "papermill": {
     "duration": 0.014501,
     "end_time": "2024-01-13T04:22:19.678437",
     "exception": false,
     "start_time": "2024-01-13T04:22:19.663936",
     "status": "completed"
    },
    "tags": []
   },
   "source": [
    "#### Random Forest gives a good performance!!"
   ]
  }
 ],
 "metadata": {
  "kaggle": {
   "accelerator": "none",
   "dataSources": [
    {
     "datasetId": 4296162,
     "sourceId": 7390464,
     "sourceType": "datasetVersion"
    }
   ],
   "dockerImageVersionId": 30635,
   "isGpuEnabled": false,
   "isInternetEnabled": true,
   "language": "python",
   "sourceType": "notebook"
  },
  "kernelspec": {
   "display_name": "Python 3",
   "language": "python",
   "name": "python3"
  },
  "language_info": {
   "codemirror_mode": {
    "name": "ipython",
    "version": 3
   },
   "file_extension": ".py",
   "mimetype": "text/x-python",
   "name": "python",
   "nbconvert_exporter": "python",
   "pygments_lexer": "ipython3",
   "version": "3.10.12"
  },
  "papermill": {
   "default_parameters": {},
   "duration": 13.261313,
   "end_time": "2024-01-13T04:22:20.314229",
   "environment_variables": {},
   "exception": null,
   "input_path": "__notebook__.ipynb",
   "output_path": "__notebook__.ipynb",
   "parameters": {},
   "start_time": "2024-01-13T04:22:07.052916",
   "version": "2.4.0"
  }
 },
 "nbformat": 4,
 "nbformat_minor": 5
}
