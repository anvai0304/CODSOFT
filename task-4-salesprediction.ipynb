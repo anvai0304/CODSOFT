{
 "cells": [
  {
   "cell_type": "code",
   "execution_count": 1,
   "id": "3996858e",
   "metadata": {
    "_cell_guid": "b1076dfc-b9ad-4769-8c92-a6c4dae69d19",
    "_uuid": "8f2839f25d086af736a60e9eeb907d3b93b6e0e5",
    "execution": {
     "iopub.execute_input": "2024-01-12T14:52:27.194589Z",
     "iopub.status.busy": "2024-01-12T14:52:27.194197Z",
     "iopub.status.idle": "2024-01-12T14:52:28.856523Z",
     "shell.execute_reply": "2024-01-12T14:52:28.855132Z"
    },
    "papermill": {
     "duration": 1.674576,
     "end_time": "2024-01-12T14:52:28.859511",
     "exception": false,
     "start_time": "2024-01-12T14:52:27.184935",
     "status": "completed"
    },
    "tags": []
   },
   "outputs": [],
   "source": [
    "import pandas as pd\n",
    "import numpy as np\n",
    "import matplotlib.pyplot as plt\n",
    "%matplotlib inline\n",
    "import seaborn as sns"
   ]
  },
  {
   "cell_type": "markdown",
   "id": "7f90ff28",
   "metadata": {
    "papermill": {
     "duration": 0.006694,
     "end_time": "2024-01-12T14:52:28.873100",
     "exception": false,
     "start_time": "2024-01-12T14:52:28.866406",
     "status": "completed"
    },
    "tags": []
   },
   "source": [
    "### Load The Data"
   ]
  },
  {
   "cell_type": "code",
   "execution_count": 2,
   "id": "1d775a86",
   "metadata": {
    "execution": {
     "iopub.execute_input": "2024-01-12T14:52:28.888025Z",
     "iopub.status.busy": "2024-01-12T14:52:28.887454Z",
     "iopub.status.idle": "2024-01-12T14:52:28.916835Z",
     "shell.execute_reply": "2024-01-12T14:52:28.915226Z"
    },
    "papermill": {
     "duration": 0.040458,
     "end_time": "2024-01-12T14:52:28.919941",
     "exception": false,
     "start_time": "2024-01-12T14:52:28.879483",
     "status": "completed"
    },
    "tags": []
   },
   "outputs": [],
   "source": [
    "sales = pd.read_csv('/kaggle/input/advertising-dataset/advertising.csv')"
   ]
  },
  {
   "cell_type": "code",
   "execution_count": 3,
   "id": "170eb9d3",
   "metadata": {
    "execution": {
     "iopub.execute_input": "2024-01-12T14:52:28.935673Z",
     "iopub.status.busy": "2024-01-12T14:52:28.934745Z",
     "iopub.status.idle": "2024-01-12T14:52:28.960428Z",
     "shell.execute_reply": "2024-01-12T14:52:28.959289Z"
    },
    "papermill": {
     "duration": 0.036381,
     "end_time": "2024-01-12T14:52:28.962939",
     "exception": false,
     "start_time": "2024-01-12T14:52:28.926558",
     "status": "completed"
    },
    "tags": []
   },
   "outputs": [
    {
     "data": {
      "text/html": [
       "<div>\n",
       "<style scoped>\n",
       "    .dataframe tbody tr th:only-of-type {\n",
       "        vertical-align: middle;\n",
       "    }\n",
       "\n",
       "    .dataframe tbody tr th {\n",
       "        vertical-align: top;\n",
       "    }\n",
       "\n",
       "    .dataframe thead th {\n",
       "        text-align: right;\n",
       "    }\n",
       "</style>\n",
       "<table border=\"1\" class=\"dataframe\">\n",
       "  <thead>\n",
       "    <tr style=\"text-align: right;\">\n",
       "      <th></th>\n",
       "      <th>TV</th>\n",
       "      <th>Radio</th>\n",
       "      <th>Newspaper</th>\n",
       "      <th>Sales</th>\n",
       "    </tr>\n",
       "  </thead>\n",
       "  <tbody>\n",
       "    <tr>\n",
       "      <th>0</th>\n",
       "      <td>230.1</td>\n",
       "      <td>37.8</td>\n",
       "      <td>69.2</td>\n",
       "      <td>22.1</td>\n",
       "    </tr>\n",
       "    <tr>\n",
       "      <th>1</th>\n",
       "      <td>44.5</td>\n",
       "      <td>39.3</td>\n",
       "      <td>45.1</td>\n",
       "      <td>10.4</td>\n",
       "    </tr>\n",
       "    <tr>\n",
       "      <th>2</th>\n",
       "      <td>17.2</td>\n",
       "      <td>45.9</td>\n",
       "      <td>69.3</td>\n",
       "      <td>12.0</td>\n",
       "    </tr>\n",
       "    <tr>\n",
       "      <th>3</th>\n",
       "      <td>151.5</td>\n",
       "      <td>41.3</td>\n",
       "      <td>58.5</td>\n",
       "      <td>16.5</td>\n",
       "    </tr>\n",
       "    <tr>\n",
       "      <th>4</th>\n",
       "      <td>180.8</td>\n",
       "      <td>10.8</td>\n",
       "      <td>58.4</td>\n",
       "      <td>17.9</td>\n",
       "    </tr>\n",
       "  </tbody>\n",
       "</table>\n",
       "</div>"
      ],
      "text/plain": [
       "      TV  Radio  Newspaper  Sales\n",
       "0  230.1   37.8       69.2   22.1\n",
       "1   44.5   39.3       45.1   10.4\n",
       "2   17.2   45.9       69.3   12.0\n",
       "3  151.5   41.3       58.5   16.5\n",
       "4  180.8   10.8       58.4   17.9"
      ]
     },
     "execution_count": 3,
     "metadata": {},
     "output_type": "execute_result"
    }
   ],
   "source": [
    "sales.head()"
   ]
  },
  {
   "cell_type": "code",
   "execution_count": 4,
   "id": "5c2c53b6",
   "metadata": {
    "execution": {
     "iopub.execute_input": "2024-01-12T14:52:28.978424Z",
     "iopub.status.busy": "2024-01-12T14:52:28.977626Z",
     "iopub.status.idle": "2024-01-12T14:52:28.988064Z",
     "shell.execute_reply": "2024-01-12T14:52:28.986861Z"
    },
    "papermill": {
     "duration": 0.020798,
     "end_time": "2024-01-12T14:52:28.990380",
     "exception": false,
     "start_time": "2024-01-12T14:52:28.969582",
     "status": "completed"
    },
    "tags": []
   },
   "outputs": [
    {
     "data": {
      "text/plain": [
       "0    22.1\n",
       "1    10.4\n",
       "2    12.0\n",
       "3    16.5\n",
       "4    17.9\n",
       "Name: Sales, dtype: float64"
      ]
     },
     "execution_count": 4,
     "metadata": {},
     "output_type": "execute_result"
    }
   ],
   "source": [
    "# Target variable\n",
    "y = sales['Sales']\n",
    "y.head()"
   ]
  },
  {
   "cell_type": "code",
   "execution_count": 5,
   "id": "9b204b81",
   "metadata": {
    "execution": {
     "iopub.execute_input": "2024-01-12T14:52:29.006340Z",
     "iopub.status.busy": "2024-01-12T14:52:29.005550Z",
     "iopub.status.idle": "2024-01-12T14:52:29.025161Z",
     "shell.execute_reply": "2024-01-12T14:52:29.023960Z"
    },
    "papermill": {
     "duration": 0.030384,
     "end_time": "2024-01-12T14:52:29.027641",
     "exception": false,
     "start_time": "2024-01-12T14:52:28.997257",
     "status": "completed"
    },
    "tags": []
   },
   "outputs": [
    {
     "data": {
      "text/html": [
       "<div>\n",
       "<style scoped>\n",
       "    .dataframe tbody tr th:only-of-type {\n",
       "        vertical-align: middle;\n",
       "    }\n",
       "\n",
       "    .dataframe tbody tr th {\n",
       "        vertical-align: top;\n",
       "    }\n",
       "\n",
       "    .dataframe thead th {\n",
       "        text-align: right;\n",
       "    }\n",
       "</style>\n",
       "<table border=\"1\" class=\"dataframe\">\n",
       "  <thead>\n",
       "    <tr style=\"text-align: right;\">\n",
       "      <th></th>\n",
       "      <th>TV</th>\n",
       "      <th>Radio</th>\n",
       "      <th>Newspaper</th>\n",
       "    </tr>\n",
       "  </thead>\n",
       "  <tbody>\n",
       "    <tr>\n",
       "      <th>0</th>\n",
       "      <td>230.1</td>\n",
       "      <td>37.8</td>\n",
       "      <td>69.2</td>\n",
       "    </tr>\n",
       "    <tr>\n",
       "      <th>1</th>\n",
       "      <td>44.5</td>\n",
       "      <td>39.3</td>\n",
       "      <td>45.1</td>\n",
       "    </tr>\n",
       "    <tr>\n",
       "      <th>2</th>\n",
       "      <td>17.2</td>\n",
       "      <td>45.9</td>\n",
       "      <td>69.3</td>\n",
       "    </tr>\n",
       "    <tr>\n",
       "      <th>3</th>\n",
       "      <td>151.5</td>\n",
       "      <td>41.3</td>\n",
       "      <td>58.5</td>\n",
       "    </tr>\n",
       "    <tr>\n",
       "      <th>4</th>\n",
       "      <td>180.8</td>\n",
       "      <td>10.8</td>\n",
       "      <td>58.4</td>\n",
       "    </tr>\n",
       "  </tbody>\n",
       "</table>\n",
       "</div>"
      ],
      "text/plain": [
       "      TV  Radio  Newspaper\n",
       "0  230.1   37.8       69.2\n",
       "1   44.5   39.3       45.1\n",
       "2   17.2   45.9       69.3\n",
       "3  151.5   41.3       58.5\n",
       "4  180.8   10.8       58.4"
      ]
     },
     "execution_count": 5,
     "metadata": {},
     "output_type": "execute_result"
    }
   ],
   "source": [
    "X = sales.drop(['Sales'], axis = 1)\n",
    "X.head()"
   ]
  },
  {
   "cell_type": "markdown",
   "id": "8be44cf0",
   "metadata": {
    "papermill": {
     "duration": 0.006692,
     "end_time": "2024-01-12T14:52:29.041327",
     "exception": false,
     "start_time": "2024-01-12T14:52:29.034635",
     "status": "completed"
    },
    "tags": []
   },
   "source": [
    "### Let's check the strength of the correlation of features with the target variable using HeatMap"
   ]
  },
  {
   "cell_type": "code",
   "execution_count": 6,
   "id": "e7dfa66b",
   "metadata": {
    "execution": {
     "iopub.execute_input": "2024-01-12T14:52:29.057395Z",
     "iopub.status.busy": "2024-01-12T14:52:29.056772Z",
     "iopub.status.idle": "2024-01-12T14:52:29.071727Z",
     "shell.execute_reply": "2024-01-12T14:52:29.070627Z"
    },
    "papermill": {
     "duration": 0.025948,
     "end_time": "2024-01-12T14:52:29.074211",
     "exception": false,
     "start_time": "2024-01-12T14:52:29.048263",
     "status": "completed"
    },
    "tags": []
   },
   "outputs": [
    {
     "data": {
      "text/html": [
       "<div>\n",
       "<style scoped>\n",
       "    .dataframe tbody tr th:only-of-type {\n",
       "        vertical-align: middle;\n",
       "    }\n",
       "\n",
       "    .dataframe tbody tr th {\n",
       "        vertical-align: top;\n",
       "    }\n",
       "\n",
       "    .dataframe thead th {\n",
       "        text-align: right;\n",
       "    }\n",
       "</style>\n",
       "<table border=\"1\" class=\"dataframe\">\n",
       "  <thead>\n",
       "    <tr style=\"text-align: right;\">\n",
       "      <th></th>\n",
       "      <th>TV</th>\n",
       "      <th>Radio</th>\n",
       "      <th>Newspaper</th>\n",
       "      <th>Sales</th>\n",
       "    </tr>\n",
       "  </thead>\n",
       "  <tbody>\n",
       "    <tr>\n",
       "      <th>TV</th>\n",
       "      <td>1.000000</td>\n",
       "      <td>0.054809</td>\n",
       "      <td>0.056648</td>\n",
       "      <td>0.901208</td>\n",
       "    </tr>\n",
       "    <tr>\n",
       "      <th>Radio</th>\n",
       "      <td>0.054809</td>\n",
       "      <td>1.000000</td>\n",
       "      <td>0.354104</td>\n",
       "      <td>0.349631</td>\n",
       "    </tr>\n",
       "    <tr>\n",
       "      <th>Newspaper</th>\n",
       "      <td>0.056648</td>\n",
       "      <td>0.354104</td>\n",
       "      <td>1.000000</td>\n",
       "      <td>0.157960</td>\n",
       "    </tr>\n",
       "    <tr>\n",
       "      <th>Sales</th>\n",
       "      <td>0.901208</td>\n",
       "      <td>0.349631</td>\n",
       "      <td>0.157960</td>\n",
       "      <td>1.000000</td>\n",
       "    </tr>\n",
       "  </tbody>\n",
       "</table>\n",
       "</div>"
      ],
      "text/plain": [
       "                 TV     Radio  Newspaper     Sales\n",
       "TV         1.000000  0.054809   0.056648  0.901208\n",
       "Radio      0.054809  1.000000   0.354104  0.349631\n",
       "Newspaper  0.056648  0.354104   1.000000  0.157960\n",
       "Sales      0.901208  0.349631   0.157960  1.000000"
      ]
     },
     "execution_count": 6,
     "metadata": {},
     "output_type": "execute_result"
    }
   ],
   "source": [
    "corr = sales.corr()\n",
    "corr"
   ]
  },
  {
   "cell_type": "code",
   "execution_count": 7,
   "id": "ee8541aa",
   "metadata": {
    "execution": {
     "iopub.execute_input": "2024-01-12T14:52:29.090833Z",
     "iopub.status.busy": "2024-01-12T14:52:29.090159Z",
     "iopub.status.idle": "2024-01-12T14:52:29.573486Z",
     "shell.execute_reply": "2024-01-12T14:52:29.572193Z"
    },
    "papermill": {
     "duration": 0.495212,
     "end_time": "2024-01-12T14:52:29.576768",
     "exception": false,
     "start_time": "2024-01-12T14:52:29.081556",
     "status": "completed"
    },
    "tags": []
   },
   "outputs": [
    {
     "data": {
      "text/plain": [
       "<Axes: >"
      ]
     },
     "execution_count": 7,
     "metadata": {},
     "output_type": "execute_result"
    },
    {
     "data": {
      "image/png": "[encoded data removed]",
      "text/plain": [
       "<Figure size 640x480 with 2 Axes>"
      ]
     },
     "metadata": {},
     "output_type": "display_data"
    }
   ],
   "source": [
    "sns.heatmap(corr,cmap = 'Blues', annot = True)"
   ]
  },
  {
   "cell_type": "markdown",
   "id": "5a5360a0",
   "metadata": {
    "papermill": {
     "duration": 0.007764,
     "end_time": "2024-01-12T14:52:29.593256",
     "exception": false,
     "start_time": "2024-01-12T14:52:29.585492",
     "status": "completed"
    },
    "tags": []
   },
   "source": [
    "#### There's a very strong relation of 'Tv' with Sales and other features too have decent relation"
   ]
  },
  {
   "cell_type": "markdown",
   "id": "0d07f02d",
   "metadata": {
    "papermill": {
     "duration": 0.00765,
     "end_time": "2024-01-12T14:52:29.608922",
     "exception": false,
     "start_time": "2024-01-12T14:52:29.601272",
     "status": "completed"
    },
    "tags": []
   },
   "source": [
    "### Split the data into training and testing"
   ]
  },
  {
   "cell_type": "code",
   "execution_count": 8,
   "id": "d424c305",
   "metadata": {
    "execution": {
     "iopub.execute_input": "2024-01-12T14:52:29.627121Z",
     "iopub.status.busy": "2024-01-12T14:52:29.626388Z",
     "iopub.status.idle": "2024-01-12T14:52:29.876477Z",
     "shell.execute_reply": "2024-01-12T14:52:29.875414Z"
    },
    "papermill": {
     "duration": 0.262349,
     "end_time": "2024-01-12T14:52:29.879245",
     "exception": false,
     "start_time": "2024-01-12T14:52:29.616896",
     "status": "completed"
    },
    "tags": []
   },
   "outputs": [],
   "source": [
    "from sklearn.model_selection import train_test_split\n",
    "\n",
    "X_train,X_test,y_train,y_test = train_test_split(X,y,test_size = 0.3, random_state = 42)"
   ]
  },
  {
   "cell_type": "markdown",
   "id": "0e3122f8",
   "metadata": {
    "papermill": {
     "duration": 0.007649,
     "end_time": "2024-01-12T14:52:29.895614",
     "exception": false,
     "start_time": "2024-01-12T14:52:29.887965",
     "status": "completed"
    },
    "tags": []
   },
   "source": [
    "### As the correlation is strong, we will go for a regression model\n",
    "\n",
    "##### We will use Random Forest Regressor as it is a very strong bagging method which improves the performance of the model"
   ]
  },
  {
   "cell_type": "code",
   "execution_count": 9,
   "id": "2a04bb66",
   "metadata": {
    "execution": {
     "iopub.execute_input": "2024-01-12T14:52:29.912910Z",
     "iopub.status.busy": "2024-01-12T14:52:29.912512Z",
     "iopub.status.idle": "2024-01-12T14:52:30.123935Z",
     "shell.execute_reply": "2024-01-12T14:52:30.122905Z"
    },
    "papermill": {
     "duration": 0.223482,
     "end_time": "2024-01-12T14:52:30.126807",
     "exception": false,
     "start_time": "2024-01-12T14:52:29.903325",
     "status": "completed"
    },
    "tags": []
   },
   "outputs": [],
   "source": [
    "from sklearn.ensemble import RandomForestRegressor"
   ]
  },
  {
   "cell_type": "code",
   "execution_count": 10,
   "id": "4d685917",
   "metadata": {
    "execution": {
     "iopub.execute_input": "2024-01-12T14:52:30.144546Z",
     "iopub.status.busy": "2024-01-12T14:52:30.144119Z",
     "iopub.status.idle": "2024-01-12T14:52:30.148376Z",
     "shell.execute_reply": "2024-01-12T14:52:30.147598Z"
    },
    "papermill": {
     "duration": 0.015516,
     "end_time": "2024-01-12T14:52:30.150472",
     "exception": false,
     "start_time": "2024-01-12T14:52:30.134956",
     "status": "completed"
    },
    "tags": []
   },
   "outputs": [],
   "source": [
    "# Model\n",
    "model = RandomForestRegressor()"
   ]
  },
  {
   "cell_type": "code",
   "execution_count": 11,
   "id": "842bb2f5",
   "metadata": {
    "execution": {
     "iopub.execute_input": "2024-01-12T14:52:30.168160Z",
     "iopub.status.busy": "2024-01-12T14:52:30.167498Z",
     "iopub.status.idle": "2024-01-12T14:52:30.385013Z",
     "shell.execute_reply": "2024-01-12T14:52:30.384029Z"
    },
    "papermill": {
     "duration": 0.229397,
     "end_time": "2024-01-12T14:52:30.387687",
     "exception": false,
     "start_time": "2024-01-12T14:52:30.158290",
     "status": "completed"
    },
    "tags": []
   },
   "outputs": [],
   "source": [
    "# Fit the model\n",
    "model.fit(X_train,y_train)\n",
    "\n",
    "# Predict the model\n",
    "y_pred = model.predict(X_test)"
   ]
  },
  {
   "cell_type": "code",
   "execution_count": 12,
   "id": "596fc58a",
   "metadata": {
    "execution": {
     "iopub.execute_input": "2024-01-12T14:52:30.405041Z",
     "iopub.status.busy": "2024-01-12T14:52:30.404675Z",
     "iopub.status.idle": "2024-01-12T14:52:30.409330Z",
     "shell.execute_reply": "2024-01-12T14:52:30.408237Z"
    },
    "papermill": {
     "duration": 0.016158,
     "end_time": "2024-01-12T14:52:30.411640",
     "exception": false,
     "start_time": "2024-01-12T14:52:30.395482",
     "status": "completed"
    },
    "tags": []
   },
   "outputs": [],
   "source": [
    "from sklearn.metrics import r2_score"
   ]
  },
  {
   "cell_type": "code",
   "execution_count": 13,
   "id": "2733d1ac",
   "metadata": {
    "execution": {
     "iopub.execute_input": "2024-01-12T14:52:30.428522Z",
     "iopub.status.busy": "2024-01-12T14:52:30.428118Z",
     "iopub.status.idle": "2024-01-12T14:52:30.437337Z",
     "shell.execute_reply": "2024-01-12T14:52:30.436280Z"
    },
    "papermill": {
     "duration": 0.020231,
     "end_time": "2024-01-12T14:52:30.439556",
     "exception": false,
     "start_time": "2024-01-12T14:52:30.419325",
     "status": "completed"
    },
    "tags": []
   },
   "outputs": [
    {
     "data": {
      "text/plain": [
       "0.9464138903352568"
      ]
     },
     "execution_count": 13,
     "metadata": {},
     "output_type": "execute_result"
    }
   ],
   "source": [
    "# Check the performance of the model\n",
    "r2 = r2_score(y_test,y_pred)\n",
    "r2"
   ]
  },
  {
   "cell_type": "markdown",
   "id": "9f22bca1",
   "metadata": {
    "papermill": {
     "duration": 0.007659,
     "end_time": "2024-01-12T14:52:30.455455",
     "exception": false,
     "start_time": "2024-01-12T14:52:30.447796",
     "status": "completed"
    },
    "tags": []
   },
   "source": [
    "#### Our model performs pretty good!!"
   ]
  }
 ],
 "metadata": {
  "kaggle": {
   "accelerator": "none",
   "dataSources": [
    {
     "datasetId": 4296011,
     "sourceId": 7390219,
     "sourceType": "datasetVersion"
    }
   ],
   "dockerImageVersionId": 30635,
   "isGpuEnabled": false,
   "isInternetEnabled": true,
   "language": "python",
   "sourceType": "notebook"
  },
  "kernelspec": {
   "display_name": "Python 3",
   "language": "python",
   "name": "python3"
  },
  "language_info": {
   "codemirror_mode": {
    "name": "ipython",
    "version": 3
   },
   "file_extension": ".py",
   "mimetype": "text/x-python",
   "name": "python",
   "nbconvert_exporter": "python",
   "pygments_lexer": "ipython3",
   "version": "3.10.12"
  },
  "papermill": {
   "default_parameters": {},
   "duration": 7.259675,
   "end_time": "2024-01-12T14:52:31.083289",
   "environment_variables": {},
   "exception": null,
   "input_path": "__notebook__.ipynb",
   "output_path": "__notebook__.ipynb",
   "parameters": {},
   "start_time": "2024-01-12T14:52:23.823614",
   "version": "2.4.0"
  }
 },
 "nbformat": 4,
 "nbformat_minor": 5
}
