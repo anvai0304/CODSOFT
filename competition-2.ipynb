{
 "cells": [
  {
   "cell_type": "code",
   "execution_count": 1,
   "id": "d940d02a",
   "metadata": {
    "_cell_guid": "42a5b800-983a-4791-9347-89ddf0424e1d",
    "_uuid": "908e4d3b-022f-4c44-8529-2c3d82b8c1bd",
    "collapsed": false,
    "execution": {
     "iopub.execute_input": "2024-05-06T05:17:02.362832Z",
     "iopub.status.busy": "2024-05-06T05:17:02.362036Z",
     "iopub.status.idle": "2024-05-06T05:17:05.025105Z",
     "shell.execute_reply": "2024-05-06T05:17:05.023197Z"
    },
    "jupyter": {
     "outputs_hidden": false
    },
    "papermill": {
     "duration": 2.682223,
     "end_time": "2024-05-06T05:17:05.029049",
     "exception": false,
     "start_time": "2024-05-06T05:17:02.346826",
     "status": "completed"
    },
    "tags": []
   },
   "outputs": [],
   "source": [
    "# Import necessary libraries\n",
    "import numpy as np\n",
    "import pandas as pd\n",
    "import matplotlib.pyplot as plt\n",
    "%matplotlib inline\n",
    "import seaborn as sns"
   ]
  },
  {
   "cell_type": "markdown",
   "id": "79a0ea1d",
   "metadata": {
    "_cell_guid": "3f34359b-6f9e-4b58-8d20-7ba0322a43cc",
    "_uuid": "bc86d61b-afe8-4893-818d-8a1a94df6438",
    "papermill": {
     "duration": 0.013241,
     "end_time": "2024-05-06T05:17:05.057395",
     "exception": false,
     "start_time": "2024-05-06T05:17:05.044154",
     "status": "completed"
    },
    "tags": []
   },
   "source": [
    "### Read the train and test data"
   ]
  },
  {
   "cell_type": "code",
   "execution_count": 2,
   "id": "32c32558",
   "metadata": {
    "_cell_guid": "99e5175b-72b0-41d3-a635-77e6c2fd850c",
    "_uuid": "ce9cdacc-c3b6-4459-811f-a6f1f1a245fe",
    "collapsed": false,
    "execution": {
     "iopub.execute_input": "2024-05-06T05:17:05.086934Z",
     "iopub.status.busy": "2024-05-06T05:17:05.086397Z",
     "iopub.status.idle": "2024-05-06T05:17:09.883042Z",
     "shell.execute_reply": "2024-05-06T05:17:09.881765Z"
    },
    "jupyter": {
     "outputs_hidden": false
    },
    "papermill": {
     "duration": 4.815221,
     "end_time": "2024-05-06T05:17:09.885824",
     "exception": false,
     "start_time": "2024-05-06T05:17:05.070603",
     "status": "completed"
    },
    "tags": []
   },
   "outputs": [],
   "source": [
    "train = pd.read_csv('/kaggle/input/playground-series-s4e5/train.csv')\n",
    "test = pd.read_csv('/kaggle/input/playground-series-s4e5/test.csv')"
   ]
  },
  {
   "cell_type": "code",
   "execution_count": 3,
   "id": "cc1abe35",
   "metadata": {
    "_cell_guid": "44aa09ee-57c9-4445-8188-86d073125225",
    "_uuid": "668e390b-a3bc-4666-8772-78a1df74e1f7",
    "collapsed": false,
    "execution": {
     "iopub.execute_input": "2024-05-06T05:17:09.913045Z",
     "iopub.status.busy": "2024-05-06T05:17:09.912689Z",
     "iopub.status.idle": "2024-05-06T05:17:09.950063Z",
     "shell.execute_reply": "2024-05-06T05:17:09.948823Z"
    },
    "jupyter": {
     "outputs_hidden": false
    },
    "papermill": {
     "duration": 0.054068,
     "end_time": "2024-05-06T05:17:09.952666",
     "exception": false,
     "start_time": "2024-05-06T05:17:09.898598",
     "status": "completed"
    },
    "tags": []
   },
   "outputs": [
    {
     "data": {
      "text/html": [
       "<div>\n",
       "<style scoped>\n",
       "    .dataframe tbody tr th:only-of-type {\n",
       "        vertical-align: middle;\n",
       "    }\n",
       "\n",
       "    .dataframe tbody tr th {\n",
       "        vertical-align: top;\n",
       "    }\n",
       "\n",
       "    .dataframe thead th {\n",
       "        text-align: right;\n",
       "    }\n",
       "</style>\n",
       "<table border=\"1\" class=\"dataframe\">\n",
       "  <thead>\n",
       "    <tr style=\"text-align: right;\">\n",
       "      <th></th>\n",
       "      <th>id</th>\n",
       "      <th>MonsoonIntensity</th>\n",
       "      <th>TopographyDrainage</th>\n",
       "      <th>RiverManagement</th>\n",
       "      <th>Deforestation</th>\n",
       "      <th>Urbanization</th>\n",
       "      <th>ClimateChange</th>\n",
       "      <th>DamsQuality</th>\n",
       "      <th>Siltation</th>\n",
       "      <th>AgriculturalPractices</th>\n",
       "      <th>...</th>\n",
       "      <th>DrainageSystems</th>\n",
       "      <th>CoastalVulnerability</th>\n",
       "      <th>Landslides</th>\n",
       "      <th>Watersheds</th>\n",
       "      <th>DeterioratingInfrastructure</th>\n",
       "      <th>PopulationScore</th>\n",
       "      <th>WetlandLoss</th>\n",
       "      <th>InadequatePlanning</th>\n",
       "      <th>PoliticalFactors</th>\n",
       "      <th>FloodProbability</th>\n",
       "    </tr>\n",
       "  </thead>\n",
       "  <tbody>\n",
       "    <tr>\n",
       "      <th>0</th>\n",
       "      <td>0</td>\n",
       "      <td>5</td>\n",
       "      <td>8</td>\n",
       "      <td>5</td>\n",
       "      <td>8</td>\n",
       "      <td>6</td>\n",
       "      <td>4</td>\n",
       "      <td>4</td>\n",
       "      <td>3</td>\n",
       "      <td>3</td>\n",
       "      <td>...</td>\n",
       "      <td>5</td>\n",
       "      <td>3</td>\n",
       "      <td>3</td>\n",
       "      <td>5</td>\n",
       "      <td>4</td>\n",
       "      <td>7</td>\n",
       "      <td>5</td>\n",
       "      <td>7</td>\n",
       "      <td>3</td>\n",
       "      <td>0.445</td>\n",
       "    </tr>\n",
       "    <tr>\n",
       "      <th>1</th>\n",
       "      <td>1</td>\n",
       "      <td>6</td>\n",
       "      <td>7</td>\n",
       "      <td>4</td>\n",
       "      <td>4</td>\n",
       "      <td>8</td>\n",
       "      <td>8</td>\n",
       "      <td>3</td>\n",
       "      <td>5</td>\n",
       "      <td>4</td>\n",
       "      <td>...</td>\n",
       "      <td>7</td>\n",
       "      <td>2</td>\n",
       "      <td>0</td>\n",
       "      <td>3</td>\n",
       "      <td>5</td>\n",
       "      <td>3</td>\n",
       "      <td>3</td>\n",
       "      <td>4</td>\n",
       "      <td>3</td>\n",
       "      <td>0.450</td>\n",
       "    </tr>\n",
       "    <tr>\n",
       "      <th>2</th>\n",
       "      <td>2</td>\n",
       "      <td>6</td>\n",
       "      <td>5</td>\n",
       "      <td>6</td>\n",
       "      <td>7</td>\n",
       "      <td>3</td>\n",
       "      <td>7</td>\n",
       "      <td>1</td>\n",
       "      <td>5</td>\n",
       "      <td>4</td>\n",
       "      <td>...</td>\n",
       "      <td>7</td>\n",
       "      <td>3</td>\n",
       "      <td>7</td>\n",
       "      <td>5</td>\n",
       "      <td>6</td>\n",
       "      <td>8</td>\n",
       "      <td>2</td>\n",
       "      <td>3</td>\n",
       "      <td>3</td>\n",
       "      <td>0.530</td>\n",
       "    </tr>\n",
       "    <tr>\n",
       "      <th>3</th>\n",
       "      <td>3</td>\n",
       "      <td>3</td>\n",
       "      <td>4</td>\n",
       "      <td>6</td>\n",
       "      <td>5</td>\n",
       "      <td>4</td>\n",
       "      <td>8</td>\n",
       "      <td>4</td>\n",
       "      <td>7</td>\n",
       "      <td>6</td>\n",
       "      <td>...</td>\n",
       "      <td>2</td>\n",
       "      <td>4</td>\n",
       "      <td>7</td>\n",
       "      <td>4</td>\n",
       "      <td>4</td>\n",
       "      <td>6</td>\n",
       "      <td>5</td>\n",
       "      <td>7</td>\n",
       "      <td>5</td>\n",
       "      <td>0.535</td>\n",
       "    </tr>\n",
       "    <tr>\n",
       "      <th>4</th>\n",
       "      <td>4</td>\n",
       "      <td>5</td>\n",
       "      <td>3</td>\n",
       "      <td>2</td>\n",
       "      <td>6</td>\n",
       "      <td>4</td>\n",
       "      <td>4</td>\n",
       "      <td>3</td>\n",
       "      <td>3</td>\n",
       "      <td>3</td>\n",
       "      <td>...</td>\n",
       "      <td>2</td>\n",
       "      <td>2</td>\n",
       "      <td>6</td>\n",
       "      <td>6</td>\n",
       "      <td>4</td>\n",
       "      <td>1</td>\n",
       "      <td>2</td>\n",
       "      <td>3</td>\n",
       "      <td>5</td>\n",
       "      <td>0.415</td>\n",
       "    </tr>\n",
       "  </tbody>\n",
       "</table>\n",
       "<p>5 rows × 22 columns</p>\n",
       "</div>"
      ],
      "text/plain": [
       "   id  MonsoonIntensity  TopographyDrainage  RiverManagement  Deforestation  \\\n",
       "0   0                 5                   8                5              8   \n",
       "1   1                 6                   7                4              4   \n",
       "2   2                 6                   5                6              7   \n",
       "3   3                 3                   4                6              5   \n",
       "4   4                 5                   3                2              6   \n",
       "\n",
       "   Urbanization  ClimateChange  DamsQuality  Siltation  AgriculturalPractices  \\\n",
       "0             6              4            4          3                      3   \n",
       "1             8              8            3          5                      4   \n",
       "2             3              7            1          5                      4   \n",
       "3             4              8            4          7                      6   \n",
       "4             4              4            3          3                      3   \n",
       "\n",
       "   ...  DrainageSystems  CoastalVulnerability  Landslides  Watersheds  \\\n",
       "0  ...                5                     3           3           5   \n",
       "1  ...                7                     2           0           3   \n",
       "2  ...                7                     3           7           5   \n",
       "3  ...                2                     4           7           4   \n",
       "4  ...                2                     2           6           6   \n",
       "\n",
       "   DeterioratingInfrastructure  PopulationScore  WetlandLoss  \\\n",
       "0                            4                7            5   \n",
       "1                            5                3            3   \n",
       "2                            6                8            2   \n",
       "3                            4                6            5   \n",
       "4                            4                1            2   \n",
       "\n",
       "   InadequatePlanning  PoliticalFactors  FloodProbability  \n",
       "0                   7                 3             0.445  \n",
       "1                   4                 3             0.450  \n",
       "2                   3                 3             0.530  \n",
       "3                   7                 5             0.535  \n",
       "4                   3                 5             0.415  \n",
       "\n",
       "[5 rows x 22 columns]"
      ]
     },
     "execution_count": 3,
     "metadata": {},
     "output_type": "execute_result"
    }
   ],
   "source": [
    "train.head()"
   ]
  },
  {
   "cell_type": "code",
   "execution_count": 4,
   "id": "257697f0",
   "metadata": {
    "_cell_guid": "b92ab216-a302-464d-9243-79d24d4d8156",
    "_uuid": "460cffa4-fa89-4442-839a-b8cb8475ddcf",
    "collapsed": false,
    "execution": {
     "iopub.execute_input": "2024-05-06T05:17:09.980266Z",
     "iopub.status.busy": "2024-05-06T05:17:09.979871Z",
     "iopub.status.idle": "2024-05-06T05:17:09.986652Z",
     "shell.execute_reply": "2024-05-06T05:17:09.985453Z"
    },
    "jupyter": {
     "outputs_hidden": false
    },
    "papermill": {
     "duration": 0.023216,
     "end_time": "2024-05-06T05:17:09.988871",
     "exception": false,
     "start_time": "2024-05-06T05:17:09.965655",
     "status": "completed"
    },
    "tags": []
   },
   "outputs": [
    {
     "data": {
      "text/plain": [
       "(1117957, 22)"
      ]
     },
     "execution_count": 4,
     "metadata": {},
     "output_type": "execute_result"
    }
   ],
   "source": [
    "train.shape"
   ]
  },
  {
   "cell_type": "code",
   "execution_count": 5,
   "id": "2c2f418a",
   "metadata": {
    "_cell_guid": "e694aefc-a503-48ab-ba80-ea89cff59de2",
    "_uuid": "cd4cf669-4d0e-448f-9f5e-72d12cce19f6",
    "collapsed": false,
    "execution": {
     "iopub.execute_input": "2024-05-06T05:17:10.016825Z",
     "iopub.status.busy": "2024-05-06T05:17:10.016444Z",
     "iopub.status.idle": "2024-05-06T05:17:10.023453Z",
     "shell.execute_reply": "2024-05-06T05:17:10.022034Z"
    },
    "jupyter": {
     "outputs_hidden": false
    },
    "papermill": {
     "duration": 0.023803,
     "end_time": "2024-05-06T05:17:10.025677",
     "exception": false,
     "start_time": "2024-05-06T05:17:10.001874",
     "status": "completed"
    },
    "tags": []
   },
   "outputs": [
    {
     "data": {
      "text/plain": [
       "(745305, 21)"
      ]
     },
     "execution_count": 5,
     "metadata": {},
     "output_type": "execute_result"
    }
   ],
   "source": [
    "test.shape"
   ]
  },
  {
   "cell_type": "code",
   "execution_count": 6,
   "id": "b0fc20a4",
   "metadata": {
    "_cell_guid": "ca8ec292-97e0-49f2-aa59-967913eb4daa",
    "_uuid": "f51c93b8-4780-44e2-806a-f10bb07646c1",
    "collapsed": false,
    "execution": {
     "iopub.execute_input": "2024-05-06T05:17:10.053017Z",
     "iopub.status.busy": "2024-05-06T05:17:10.052644Z",
     "iopub.status.idle": "2024-05-06T05:17:10.224549Z",
     "shell.execute_reply": "2024-05-06T05:17:10.223242Z"
    },
    "jupyter": {
     "outputs_hidden": false
    },
    "papermill": {
     "duration": 0.188481,
     "end_time": "2024-05-06T05:17:10.226965",
     "exception": false,
     "start_time": "2024-05-06T05:17:10.038484",
     "status": "completed"
    },
    "tags": []
   },
   "outputs": [
    {
     "data": {
      "text/html": [
       "<div>\n",
       "<style scoped>\n",
       "    .dataframe tbody tr th:only-of-type {\n",
       "        vertical-align: middle;\n",
       "    }\n",
       "\n",
       "    .dataframe tbody tr th {\n",
       "        vertical-align: top;\n",
       "    }\n",
       "\n",
       "    .dataframe thead th {\n",
       "        text-align: right;\n",
       "    }\n",
       "</style>\n",
       "<table border=\"1\" class=\"dataframe\">\n",
       "  <thead>\n",
       "    <tr style=\"text-align: right;\">\n",
       "      <th></th>\n",
       "      <th>id</th>\n",
       "      <th>MonsoonIntensity</th>\n",
       "      <th>TopographyDrainage</th>\n",
       "      <th>RiverManagement</th>\n",
       "      <th>Deforestation</th>\n",
       "      <th>Urbanization</th>\n",
       "      <th>ClimateChange</th>\n",
       "      <th>DamsQuality</th>\n",
       "      <th>Siltation</th>\n",
       "      <th>AgriculturalPractices</th>\n",
       "      <th>...</th>\n",
       "      <th>IneffectiveDisasterPreparedness</th>\n",
       "      <th>DrainageSystems</th>\n",
       "      <th>CoastalVulnerability</th>\n",
       "      <th>Landslides</th>\n",
       "      <th>Watersheds</th>\n",
       "      <th>DeterioratingInfrastructure</th>\n",
       "      <th>PopulationScore</th>\n",
       "      <th>WetlandLoss</th>\n",
       "      <th>InadequatePlanning</th>\n",
       "      <th>PoliticalFactors</th>\n",
       "    </tr>\n",
       "  </thead>\n",
       "  <tbody>\n",
       "    <tr>\n",
       "      <th>0</th>\n",
       "      <td>0</td>\n",
       "      <td>5</td>\n",
       "      <td>8</td>\n",
       "      <td>5</td>\n",
       "      <td>8</td>\n",
       "      <td>6</td>\n",
       "      <td>4</td>\n",
       "      <td>4</td>\n",
       "      <td>3</td>\n",
       "      <td>3</td>\n",
       "      <td>...</td>\n",
       "      <td>2</td>\n",
       "      <td>5</td>\n",
       "      <td>3</td>\n",
       "      <td>3</td>\n",
       "      <td>5</td>\n",
       "      <td>4</td>\n",
       "      <td>7</td>\n",
       "      <td>5</td>\n",
       "      <td>7</td>\n",
       "      <td>3</td>\n",
       "    </tr>\n",
       "    <tr>\n",
       "      <th>1</th>\n",
       "      <td>1</td>\n",
       "      <td>6</td>\n",
       "      <td>7</td>\n",
       "      <td>4</td>\n",
       "      <td>4</td>\n",
       "      <td>8</td>\n",
       "      <td>8</td>\n",
       "      <td>3</td>\n",
       "      <td>5</td>\n",
       "      <td>4</td>\n",
       "      <td>...</td>\n",
       "      <td>9</td>\n",
       "      <td>7</td>\n",
       "      <td>2</td>\n",
       "      <td>0</td>\n",
       "      <td>3</td>\n",
       "      <td>5</td>\n",
       "      <td>3</td>\n",
       "      <td>3</td>\n",
       "      <td>4</td>\n",
       "      <td>3</td>\n",
       "    </tr>\n",
       "    <tr>\n",
       "      <th>2</th>\n",
       "      <td>2</td>\n",
       "      <td>6</td>\n",
       "      <td>5</td>\n",
       "      <td>6</td>\n",
       "      <td>7</td>\n",
       "      <td>3</td>\n",
       "      <td>7</td>\n",
       "      <td>1</td>\n",
       "      <td>5</td>\n",
       "      <td>4</td>\n",
       "      <td>...</td>\n",
       "      <td>6</td>\n",
       "      <td>7</td>\n",
       "      <td>3</td>\n",
       "      <td>7</td>\n",
       "      <td>5</td>\n",
       "      <td>6</td>\n",
       "      <td>8</td>\n",
       "      <td>2</td>\n",
       "      <td>3</td>\n",
       "      <td>3</td>\n",
       "    </tr>\n",
       "    <tr>\n",
       "      <th>3</th>\n",
       "      <td>3</td>\n",
       "      <td>3</td>\n",
       "      <td>4</td>\n",
       "      <td>6</td>\n",
       "      <td>5</td>\n",
       "      <td>4</td>\n",
       "      <td>8</td>\n",
       "      <td>4</td>\n",
       "      <td>7</td>\n",
       "      <td>6</td>\n",
       "      <td>...</td>\n",
       "      <td>5</td>\n",
       "      <td>2</td>\n",
       "      <td>4</td>\n",
       "      <td>7</td>\n",
       "      <td>4</td>\n",
       "      <td>4</td>\n",
       "      <td>6</td>\n",
       "      <td>5</td>\n",
       "      <td>7</td>\n",
       "      <td>5</td>\n",
       "    </tr>\n",
       "    <tr>\n",
       "      <th>4</th>\n",
       "      <td>4</td>\n",
       "      <td>5</td>\n",
       "      <td>3</td>\n",
       "      <td>2</td>\n",
       "      <td>6</td>\n",
       "      <td>4</td>\n",
       "      <td>4</td>\n",
       "      <td>3</td>\n",
       "      <td>3</td>\n",
       "      <td>3</td>\n",
       "      <td>...</td>\n",
       "      <td>5</td>\n",
       "      <td>2</td>\n",
       "      <td>2</td>\n",
       "      <td>6</td>\n",
       "      <td>6</td>\n",
       "      <td>4</td>\n",
       "      <td>1</td>\n",
       "      <td>2</td>\n",
       "      <td>3</td>\n",
       "      <td>5</td>\n",
       "    </tr>\n",
       "  </tbody>\n",
       "</table>\n",
       "<p>5 rows × 21 columns</p>\n",
       "</div>"
      ],
      "text/plain": [
       "   id  MonsoonIntensity  TopographyDrainage  RiverManagement  Deforestation  \\\n",
       "0   0                 5                   8                5              8   \n",
       "1   1                 6                   7                4              4   \n",
       "2   2                 6                   5                6              7   \n",
       "3   3                 3                   4                6              5   \n",
       "4   4                 5                   3                2              6   \n",
       "\n",
       "   Urbanization  ClimateChange  DamsQuality  Siltation  AgriculturalPractices  \\\n",
       "0             6              4            4          3                      3   \n",
       "1             8              8            3          5                      4   \n",
       "2             3              7            1          5                      4   \n",
       "3             4              8            4          7                      6   \n",
       "4             4              4            3          3                      3   \n",
       "\n",
       "   ...  IneffectiveDisasterPreparedness  DrainageSystems  \\\n",
       "0  ...                                2                5   \n",
       "1  ...                                9                7   \n",
       "2  ...                                6                7   \n",
       "3  ...                                5                2   \n",
       "4  ...                                5                2   \n",
       "\n",
       "   CoastalVulnerability  Landslides  Watersheds  DeterioratingInfrastructure  \\\n",
       "0                     3           3           5                            4   \n",
       "1                     2           0           3                            5   \n",
       "2                     3           7           5                            6   \n",
       "3                     4           7           4                            4   \n",
       "4                     2           6           6                            4   \n",
       "\n",
       "   PopulationScore  WetlandLoss  InadequatePlanning  PoliticalFactors  \n",
       "0                7            5                   7                 3  \n",
       "1                3            3                   4                 3  \n",
       "2                8            2                   3                 3  \n",
       "3                6            5                   7                 5  \n",
       "4                1            2                   3                 5  \n",
       "\n",
       "[5 rows x 21 columns]"
      ]
     },
     "execution_count": 6,
     "metadata": {},
     "output_type": "execute_result"
    }
   ],
   "source": [
    "# Split the data into dependent and independent\n",
    "X = train.drop(['FloodProbability'], axis = 1)\n",
    "X.head()    # Independent variables"
   ]
  },
  {
   "cell_type": "code",
   "execution_count": 7,
   "id": "31d3fd2d",
   "metadata": {
    "_cell_guid": "7dbb1942-9e1e-4f1c-834c-67f2d6658169",
    "_uuid": "52d654cc-e64a-4c13-bed5-e9ec32cde4c2",
    "collapsed": false,
    "execution": {
     "iopub.execute_input": "2024-05-06T05:17:10.258142Z",
     "iopub.status.busy": "2024-05-06T05:17:10.257548Z",
     "iopub.status.idle": "2024-05-06T05:17:10.265930Z",
     "shell.execute_reply": "2024-05-06T05:17:10.264827Z"
    },
    "jupyter": {
     "outputs_hidden": false
    },
    "papermill": {
     "duration": 0.027334,
     "end_time": "2024-05-06T05:17:10.268896",
     "exception": false,
     "start_time": "2024-05-06T05:17:10.241562",
     "status": "completed"
    },
    "tags": []
   },
   "outputs": [
    {
     "data": {
      "text/plain": [
       "0    0.445\n",
       "1    0.450\n",
       "2    0.530\n",
       "3    0.535\n",
       "4    0.415\n",
       "Name: FloodProbability, dtype: float64"
      ]
     },
     "execution_count": 7,
     "metadata": {},
     "output_type": "execute_result"
    }
   ],
   "source": [
    "y = train['FloodProbability']\n",
    "y.head()    # Dependent variable"
   ]
  },
  {
   "cell_type": "code",
   "execution_count": 8,
   "id": "cf177177",
   "metadata": {
    "_cell_guid": "128cc28f-867e-48e9-935c-6a26ae828104",
    "_uuid": "4750d5e0-355b-43f3-8e69-f06a886918d3",
    "collapsed": false,
    "execution": {
     "iopub.execute_input": "2024-05-06T05:17:10.301167Z",
     "iopub.status.busy": "2024-05-06T05:17:10.300169Z",
     "iopub.status.idle": "2024-05-06T05:17:10.312421Z",
     "shell.execute_reply": "2024-05-06T05:17:10.311042Z"
    },
    "jupyter": {
     "outputs_hidden": false
    },
    "papermill": {
     "duration": 0.031472,
     "end_time": "2024-05-06T05:17:10.314516",
     "exception": false,
     "start_time": "2024-05-06T05:17:10.283044",
     "status": "completed"
    },
    "tags": []
   },
   "outputs": [
    {
     "data": {
      "text/html": [
       "<div>\n",
       "<style scoped>\n",
       "    .dataframe tbody tr th:only-of-type {\n",
       "        vertical-align: middle;\n",
       "    }\n",
       "\n",
       "    .dataframe tbody tr th {\n",
       "        vertical-align: top;\n",
       "    }\n",
       "\n",
       "    .dataframe thead th {\n",
       "        text-align: right;\n",
       "    }\n",
       "</style>\n",
       "<table border=\"1\" class=\"dataframe\">\n",
       "  <thead>\n",
       "    <tr style=\"text-align: right;\">\n",
       "      <th></th>\n",
       "    </tr>\n",
       "  </thead>\n",
       "  <tbody>\n",
       "    <tr>\n",
       "      <th>0</th>\n",
       "    </tr>\n",
       "    <tr>\n",
       "      <th>1</th>\n",
       "    </tr>\n",
       "    <tr>\n",
       "      <th>2</th>\n",
       "    </tr>\n",
       "    <tr>\n",
       "      <th>3</th>\n",
       "    </tr>\n",
       "    <tr>\n",
       "      <th>4</th>\n",
       "    </tr>\n",
       "    <tr>\n",
       "      <th>...</th>\n",
       "    </tr>\n",
       "    <tr>\n",
       "      <th>1117952</th>\n",
       "    </tr>\n",
       "    <tr>\n",
       "      <th>1117953</th>\n",
       "    </tr>\n",
       "    <tr>\n",
       "      <th>1117954</th>\n",
       "    </tr>\n",
       "    <tr>\n",
       "      <th>1117955</th>\n",
       "    </tr>\n",
       "    <tr>\n",
       "      <th>1117956</th>\n",
       "    </tr>\n",
       "  </tbody>\n",
       "</table>\n",
       "<p>1117957 rows × 0 columns</p>\n",
       "</div>"
      ],
      "text/plain": [
       "Empty DataFrame\n",
       "Columns: []\n",
       "Index: [0, 1, 2, 3, 4, 5, 6, 7, 8, 9, 10, 11, 12, 13, 14, 15, 16, 17, 18, 19, 20, 21, 22, 23, 24, 25, 26, 27, 28, 29, 30, 31, 32, 33, 34, 35, 36, 37, 38, 39, 40, 41, 42, 43, 44, 45, 46, 47, 48, 49, 50, 51, 52, 53, 54, 55, 56, 57, 58, 59, 60, 61, 62, 63, 64, 65, 66, 67, 68, 69, 70, 71, 72, 73, 74, 75, 76, 77, 78, 79, 80, 81, 82, 83, 84, 85, 86, 87, 88, 89, 90, 91, 92, 93, 94, 95, 96, 97, 98, 99, ...]\n",
       "\n",
       "[1117957 rows x 0 columns]"
      ]
     },
     "execution_count": 8,
     "metadata": {},
     "output_type": "execute_result"
    }
   ],
   "source": [
    "X.select_dtypes(include = 'object')"
   ]
  },
  {
   "cell_type": "markdown",
   "id": "e10cd883",
   "metadata": {
    "_cell_guid": "9e9ae35e-4a52-4db5-a06b-888038f0604d",
    "_uuid": "10c11d13-3179-4621-810b-cc8186d69f73",
    "papermill": {
     "duration": 0.013013,
     "end_time": "2024-05-06T05:17:10.341423",
     "exception": false,
     "start_time": "2024-05-06T05:17:10.328410",
     "status": "completed"
    },
    "tags": []
   },
   "source": [
    "#### So basically no categorical features"
   ]
  },
  {
   "cell_type": "code",
   "execution_count": 9,
   "id": "8fc98ded",
   "metadata": {
    "_cell_guid": "968eba4a-fd99-48a3-a890-00ae62b5b9bf",
    "_uuid": "019a022f-a0fa-4f2b-b6cf-4e0d3df300c2",
    "collapsed": false,
    "execution": {
     "iopub.execute_input": "2024-05-06T05:17:10.370866Z",
     "iopub.status.busy": "2024-05-06T05:17:10.370353Z",
     "iopub.status.idle": "2024-05-06T05:17:10.424136Z",
     "shell.execute_reply": "2024-05-06T05:17:10.423035Z"
    },
    "jupyter": {
     "outputs_hidden": false
    },
    "papermill": {
     "duration": 0.071883,
     "end_time": "2024-05-06T05:17:10.426701",
     "exception": false,
     "start_time": "2024-05-06T05:17:10.354818",
     "status": "completed"
    },
    "tags": []
   },
   "outputs": [
    {
     "data": {
      "text/plain": [
       "id                                 0\n",
       "MonsoonIntensity                   0\n",
       "TopographyDrainage                 0\n",
       "RiverManagement                    0\n",
       "Deforestation                      0\n",
       "Urbanization                       0\n",
       "ClimateChange                      0\n",
       "DamsQuality                        0\n",
       "Siltation                          0\n",
       "AgriculturalPractices              0\n",
       "Encroachments                      0\n",
       "IneffectiveDisasterPreparedness    0\n",
       "DrainageSystems                    0\n",
       "CoastalVulnerability               0\n",
       "Landslides                         0\n",
       "Watersheds                         0\n",
       "DeterioratingInfrastructure        0\n",
       "PopulationScore                    0\n",
       "WetlandLoss                        0\n",
       "InadequatePlanning                 0\n",
       "PoliticalFactors                   0\n",
       "dtype: int64"
      ]
     },
     "execution_count": 9,
     "metadata": {},
     "output_type": "execute_result"
    }
   ],
   "source": [
    "# Check for missing values\n",
    "X.isnull().sum()"
   ]
  },
  {
   "cell_type": "code",
   "execution_count": 10,
   "id": "859b6e9d",
   "metadata": {
    "_cell_guid": "84c5ad84-fdfd-43cd-9fd9-75bff0e33267",
    "_uuid": "d5d2675e-b47e-4135-b022-574b69f5078a",
    "collapsed": false,
    "execution": {
     "iopub.execute_input": "2024-05-06T05:17:10.456220Z",
     "iopub.status.busy": "2024-05-06T05:17:10.455787Z",
     "iopub.status.idle": "2024-05-06T05:17:10.480091Z",
     "shell.execute_reply": "2024-05-06T05:17:10.478982Z"
    },
    "jupyter": {
     "outputs_hidden": false
    },
    "papermill": {
     "duration": 0.041925,
     "end_time": "2024-05-06T05:17:10.482374",
     "exception": false,
     "start_time": "2024-05-06T05:17:10.440449",
     "status": "completed"
    },
    "tags": []
   },
   "outputs": [
    {
     "data": {
      "text/plain": [
       "id                                 0\n",
       "MonsoonIntensity                   0\n",
       "TopographyDrainage                 0\n",
       "RiverManagement                    0\n",
       "Deforestation                      0\n",
       "Urbanization                       0\n",
       "ClimateChange                      0\n",
       "DamsQuality                        0\n",
       "Siltation                          0\n",
       "AgriculturalPractices              0\n",
       "Encroachments                      0\n",
       "IneffectiveDisasterPreparedness    0\n",
       "DrainageSystems                    0\n",
       "CoastalVulnerability               0\n",
       "Landslides                         0\n",
       "Watersheds                         0\n",
       "DeterioratingInfrastructure        0\n",
       "PopulationScore                    0\n",
       "WetlandLoss                        0\n",
       "InadequatePlanning                 0\n",
       "PoliticalFactors                   0\n",
       "dtype: int64"
      ]
     },
     "execution_count": 10,
     "metadata": {},
     "output_type": "execute_result"
    }
   ],
   "source": [
    "test.isnull().sum()"
   ]
  },
  {
   "cell_type": "code",
   "execution_count": 11,
   "id": "72172762",
   "metadata": {
    "_cell_guid": "45919b10-b732-45ff-adf7-33e9dc70de5e",
    "_uuid": "8dd3f13b-0401-432b-b076-b6df28293d43",
    "collapsed": false,
    "execution": {
     "iopub.execute_input": "2024-05-06T05:17:10.512471Z",
     "iopub.status.busy": "2024-05-06T05:17:10.511802Z",
     "iopub.status.idle": "2024-05-06T05:17:10.516459Z",
     "shell.execute_reply": "2024-05-06T05:17:10.515270Z"
    },
    "jupyter": {
     "outputs_hidden": false
    },
    "papermill": {
     "duration": 0.021739,
     "end_time": "2024-05-06T05:17:10.518505",
     "exception": false,
     "start_time": "2024-05-06T05:17:10.496766",
     "status": "completed"
    },
    "tags": []
   },
   "outputs": [],
   "source": [
    "# Ok cool!! No missing values!"
   ]
  },
  {
   "cell_type": "code",
   "execution_count": 12,
   "id": "2004ba26",
   "metadata": {
    "_cell_guid": "04ab7448-deae-4683-be94-a5a8b8f0a2ae",
    "_uuid": "ec9fa2a2-c93b-4cf2-a235-8605ece42bf9",
    "collapsed": false,
    "execution": {
     "iopub.execute_input": "2024-05-06T05:17:10.548081Z",
     "iopub.status.busy": "2024-05-06T05:17:10.547719Z",
     "iopub.status.idle": "2024-05-06T05:17:12.384916Z",
     "shell.execute_reply": "2024-05-06T05:17:12.383596Z"
    },
    "jupyter": {
     "outputs_hidden": false
    },
    "papermill": {
     "duration": 1.855518,
     "end_time": "2024-05-06T05:17:12.388124",
     "exception": false,
     "start_time": "2024-05-06T05:17:10.532606",
     "status": "completed"
    },
    "tags": []
   },
   "outputs": [
    {
     "data": {
      "text/html": [
       "<div>\n",
       "<style scoped>\n",
       "    .dataframe tbody tr th:only-of-type {\n",
       "        vertical-align: middle;\n",
       "    }\n",
       "\n",
       "    .dataframe tbody tr th {\n",
       "        vertical-align: top;\n",
       "    }\n",
       "\n",
       "    .dataframe thead th {\n",
       "        text-align: right;\n",
       "    }\n",
       "</style>\n",
       "<table border=\"1\" class=\"dataframe\">\n",
       "  <thead>\n",
       "    <tr style=\"text-align: right;\">\n",
       "      <th></th>\n",
       "      <th>id</th>\n",
       "      <th>MonsoonIntensity</th>\n",
       "      <th>TopographyDrainage</th>\n",
       "      <th>RiverManagement</th>\n",
       "      <th>Deforestation</th>\n",
       "      <th>Urbanization</th>\n",
       "      <th>ClimateChange</th>\n",
       "      <th>DamsQuality</th>\n",
       "      <th>Siltation</th>\n",
       "      <th>AgriculturalPractices</th>\n",
       "      <th>...</th>\n",
       "      <th>DrainageSystems</th>\n",
       "      <th>CoastalVulnerability</th>\n",
       "      <th>Landslides</th>\n",
       "      <th>Watersheds</th>\n",
       "      <th>DeterioratingInfrastructure</th>\n",
       "      <th>PopulationScore</th>\n",
       "      <th>WetlandLoss</th>\n",
       "      <th>InadequatePlanning</th>\n",
       "      <th>PoliticalFactors</th>\n",
       "      <th>FloodProbability</th>\n",
       "    </tr>\n",
       "  </thead>\n",
       "  <tbody>\n",
       "    <tr>\n",
       "      <th>id</th>\n",
       "      <td>1.000000</td>\n",
       "      <td>-0.000093</td>\n",
       "      <td>-0.001518</td>\n",
       "      <td>-0.000413</td>\n",
       "      <td>-0.000080</td>\n",
       "      <td>0.000580</td>\n",
       "      <td>-0.000188</td>\n",
       "      <td>0.000133</td>\n",
       "      <td>0.000281</td>\n",
       "      <td>-0.000103</td>\n",
       "      <td>...</td>\n",
       "      <td>0.000558</td>\n",
       "      <td>-0.001386</td>\n",
       "      <td>0.001078</td>\n",
       "      <td>0.000215</td>\n",
       "      <td>-0.000385</td>\n",
       "      <td>0.000625</td>\n",
       "      <td>0.000931</td>\n",
       "      <td>-0.001535</td>\n",
       "      <td>-0.000155</td>\n",
       "      <td>-0.000184</td>\n",
       "    </tr>\n",
       "    <tr>\n",
       "      <th>MonsoonIntensity</th>\n",
       "      <td>-0.000093</td>\n",
       "      <td>1.000000</td>\n",
       "      <td>-0.007362</td>\n",
       "      <td>-0.008070</td>\n",
       "      <td>-0.007251</td>\n",
       "      <td>-0.009309</td>\n",
       "      <td>-0.008031</td>\n",
       "      <td>-0.007787</td>\n",
       "      <td>-0.007836</td>\n",
       "      <td>-0.008232</td>\n",
       "      <td>...</td>\n",
       "      <td>-0.009716</td>\n",
       "      <td>-0.010659</td>\n",
       "      <td>-0.009121</td>\n",
       "      <td>-0.008900</td>\n",
       "      <td>-0.008486</td>\n",
       "      <td>-0.008679</td>\n",
       "      <td>-0.006811</td>\n",
       "      <td>-0.008155</td>\n",
       "      <td>-0.008474</td>\n",
       "      <td>0.189098</td>\n",
       "    </tr>\n",
       "    <tr>\n",
       "      <th>TopographyDrainage</th>\n",
       "      <td>-0.001518</td>\n",
       "      <td>-0.007362</td>\n",
       "      <td>1.000000</td>\n",
       "      <td>-0.009924</td>\n",
       "      <td>-0.008548</td>\n",
       "      <td>-0.010532</td>\n",
       "      <td>-0.009619</td>\n",
       "      <td>-0.007607</td>\n",
       "      <td>-0.009824</td>\n",
       "      <td>-0.009496</td>\n",
       "      <td>...</td>\n",
       "      <td>-0.010056</td>\n",
       "      <td>-0.012526</td>\n",
       "      <td>-0.010240</td>\n",
       "      <td>-0.011067</td>\n",
       "      <td>-0.006628</td>\n",
       "      <td>-0.010815</td>\n",
       "      <td>-0.010267</td>\n",
       "      <td>-0.011617</td>\n",
       "      <td>-0.012350</td>\n",
       "      <td>0.187635</td>\n",
       "    </tr>\n",
       "    <tr>\n",
       "      <th>RiverManagement</th>\n",
       "      <td>-0.000413</td>\n",
       "      <td>-0.008070</td>\n",
       "      <td>-0.009924</td>\n",
       "      <td>1.000000</td>\n",
       "      <td>-0.008574</td>\n",
       "      <td>-0.012292</td>\n",
       "      <td>-0.009237</td>\n",
       "      <td>-0.008711</td>\n",
       "      <td>-0.010058</td>\n",
       "      <td>-0.010783</td>\n",
       "      <td>...</td>\n",
       "      <td>-0.011277</td>\n",
       "      <td>-0.011680</td>\n",
       "      <td>-0.008994</td>\n",
       "      <td>-0.011412</td>\n",
       "      <td>-0.005827</td>\n",
       "      <td>-0.006727</td>\n",
       "      <td>-0.010069</td>\n",
       "      <td>-0.009673</td>\n",
       "      <td>-0.011550</td>\n",
       "      <td>0.187131</td>\n",
       "    </tr>\n",
       "    <tr>\n",
       "      <th>Deforestation</th>\n",
       "      <td>-0.000080</td>\n",
       "      <td>-0.007251</td>\n",
       "      <td>-0.008548</td>\n",
       "      <td>-0.008574</td>\n",
       "      <td>1.000000</td>\n",
       "      <td>-0.012248</td>\n",
       "      <td>-0.008266</td>\n",
       "      <td>-0.009356</td>\n",
       "      <td>-0.011536</td>\n",
       "      <td>-0.010039</td>\n",
       "      <td>...</td>\n",
       "      <td>-0.010490</td>\n",
       "      <td>-0.012388</td>\n",
       "      <td>-0.009257</td>\n",
       "      <td>-0.010671</td>\n",
       "      <td>-0.008862</td>\n",
       "      <td>-0.011777</td>\n",
       "      <td>-0.011004</td>\n",
       "      <td>-0.010424</td>\n",
       "      <td>-0.009661</td>\n",
       "      <td>0.184001</td>\n",
       "    </tr>\n",
       "    <tr>\n",
       "      <th>Urbanization</th>\n",
       "      <td>0.000580</td>\n",
       "      <td>-0.009309</td>\n",
       "      <td>-0.010532</td>\n",
       "      <td>-0.012292</td>\n",
       "      <td>-0.012248</td>\n",
       "      <td>1.000000</td>\n",
       "      <td>-0.011199</td>\n",
       "      <td>-0.011128</td>\n",
       "      <td>-0.010153</td>\n",
       "      <td>-0.010559</td>\n",
       "      <td>...</td>\n",
       "      <td>-0.012572</td>\n",
       "      <td>-0.014497</td>\n",
       "      <td>-0.010582</td>\n",
       "      <td>-0.012107</td>\n",
       "      <td>-0.010656</td>\n",
       "      <td>-0.011485</td>\n",
       "      <td>-0.011023</td>\n",
       "      <td>-0.011584</td>\n",
       "      <td>-0.013005</td>\n",
       "      <td>0.180861</td>\n",
       "    </tr>\n",
       "    <tr>\n",
       "      <th>ClimateChange</th>\n",
       "      <td>-0.000188</td>\n",
       "      <td>-0.008031</td>\n",
       "      <td>-0.009619</td>\n",
       "      <td>-0.009237</td>\n",
       "      <td>-0.008266</td>\n",
       "      <td>-0.011199</td>\n",
       "      <td>1.000000</td>\n",
       "      <td>-0.008427</td>\n",
       "      <td>-0.009457</td>\n",
       "      <td>-0.011517</td>\n",
       "      <td>...</td>\n",
       "      <td>-0.009650</td>\n",
       "      <td>-0.013005</td>\n",
       "      <td>-0.009352</td>\n",
       "      <td>-0.009882</td>\n",
       "      <td>-0.006324</td>\n",
       "      <td>-0.010332</td>\n",
       "      <td>-0.009376</td>\n",
       "      <td>-0.010772</td>\n",
       "      <td>-0.011379</td>\n",
       "      <td>0.184761</td>\n",
       "    </tr>\n",
       "    <tr>\n",
       "      <th>DamsQuality</th>\n",
       "      <td>0.000133</td>\n",
       "      <td>-0.007787</td>\n",
       "      <td>-0.007607</td>\n",
       "      <td>-0.008711</td>\n",
       "      <td>-0.009356</td>\n",
       "      <td>-0.011128</td>\n",
       "      <td>-0.008427</td>\n",
       "      <td>1.000000</td>\n",
       "      <td>-0.009401</td>\n",
       "      <td>-0.009033</td>\n",
       "      <td>...</td>\n",
       "      <td>-0.010439</td>\n",
       "      <td>-0.012096</td>\n",
       "      <td>-0.009924</td>\n",
       "      <td>-0.009085</td>\n",
       "      <td>-0.009831</td>\n",
       "      <td>-0.009599</td>\n",
       "      <td>-0.009372</td>\n",
       "      <td>-0.011374</td>\n",
       "      <td>-0.013081</td>\n",
       "      <td>0.187996</td>\n",
       "    </tr>\n",
       "    <tr>\n",
       "      <th>Siltation</th>\n",
       "      <td>0.000281</td>\n",
       "      <td>-0.007836</td>\n",
       "      <td>-0.009824</td>\n",
       "      <td>-0.010058</td>\n",
       "      <td>-0.011536</td>\n",
       "      <td>-0.010153</td>\n",
       "      <td>-0.009457</td>\n",
       "      <td>-0.009401</td>\n",
       "      <td>1.000000</td>\n",
       "      <td>-0.010179</td>\n",
       "      <td>...</td>\n",
       "      <td>-0.010702</td>\n",
       "      <td>-0.011762</td>\n",
       "      <td>-0.009173</td>\n",
       "      <td>-0.009457</td>\n",
       "      <td>-0.006312</td>\n",
       "      <td>-0.008739</td>\n",
       "      <td>-0.008667</td>\n",
       "      <td>-0.009079</td>\n",
       "      <td>-0.008493</td>\n",
       "      <td>0.186789</td>\n",
       "    </tr>\n",
       "    <tr>\n",
       "      <th>AgriculturalPractices</th>\n",
       "      <td>-0.000103</td>\n",
       "      <td>-0.008232</td>\n",
       "      <td>-0.009496</td>\n",
       "      <td>-0.010783</td>\n",
       "      <td>-0.010039</td>\n",
       "      <td>-0.010559</td>\n",
       "      <td>-0.011517</td>\n",
       "      <td>-0.009033</td>\n",
       "      <td>-0.010179</td>\n",
       "      <td>1.000000</td>\n",
       "      <td>...</td>\n",
       "      <td>-0.010845</td>\n",
       "      <td>-0.011415</td>\n",
       "      <td>-0.010624</td>\n",
       "      <td>-0.009901</td>\n",
       "      <td>-0.008708</td>\n",
       "      <td>-0.008958</td>\n",
       "      <td>-0.011392</td>\n",
       "      <td>-0.010418</td>\n",
       "      <td>-0.011157</td>\n",
       "      <td>0.183366</td>\n",
       "    </tr>\n",
       "    <tr>\n",
       "      <th>Encroachments</th>\n",
       "      <td>-0.000147</td>\n",
       "      <td>-0.010309</td>\n",
       "      <td>-0.012887</td>\n",
       "      <td>-0.011615</td>\n",
       "      <td>-0.013175</td>\n",
       "      <td>-0.010784</td>\n",
       "      <td>-0.012533</td>\n",
       "      <td>-0.010890</td>\n",
       "      <td>-0.010628</td>\n",
       "      <td>-0.012244</td>\n",
       "      <td>...</td>\n",
       "      <td>-0.011994</td>\n",
       "      <td>-0.016203</td>\n",
       "      <td>-0.011299</td>\n",
       "      <td>-0.013542</td>\n",
       "      <td>-0.010404</td>\n",
       "      <td>-0.010645</td>\n",
       "      <td>-0.010364</td>\n",
       "      <td>-0.012175</td>\n",
       "      <td>-0.011860</td>\n",
       "      <td>0.178841</td>\n",
       "    </tr>\n",
       "    <tr>\n",
       "      <th>IneffectiveDisasterPreparedness</th>\n",
       "      <td>-0.000208</td>\n",
       "      <td>-0.008032</td>\n",
       "      <td>-0.010746</td>\n",
       "      <td>-0.010675</td>\n",
       "      <td>-0.009512</td>\n",
       "      <td>-0.012685</td>\n",
       "      <td>-0.011346</td>\n",
       "      <td>-0.009515</td>\n",
       "      <td>-0.009099</td>\n",
       "      <td>-0.010763</td>\n",
       "      <td>...</td>\n",
       "      <td>-0.012613</td>\n",
       "      <td>-0.009798</td>\n",
       "      <td>-0.009669</td>\n",
       "      <td>-0.011588</td>\n",
       "      <td>-0.009871</td>\n",
       "      <td>-0.011893</td>\n",
       "      <td>-0.010299</td>\n",
       "      <td>-0.012080</td>\n",
       "      <td>-0.010563</td>\n",
       "      <td>0.183109</td>\n",
       "    </tr>\n",
       "    <tr>\n",
       "      <th>DrainageSystems</th>\n",
       "      <td>0.000558</td>\n",
       "      <td>-0.009716</td>\n",
       "      <td>-0.010056</td>\n",
       "      <td>-0.011277</td>\n",
       "      <td>-0.010490</td>\n",
       "      <td>-0.012572</td>\n",
       "      <td>-0.009650</td>\n",
       "      <td>-0.010439</td>\n",
       "      <td>-0.010702</td>\n",
       "      <td>-0.010845</td>\n",
       "      <td>...</td>\n",
       "      <td>1.000000</td>\n",
       "      <td>-0.013467</td>\n",
       "      <td>-0.011215</td>\n",
       "      <td>-0.012690</td>\n",
       "      <td>-0.009601</td>\n",
       "      <td>-0.011975</td>\n",
       "      <td>-0.011199</td>\n",
       "      <td>-0.013060</td>\n",
       "      <td>-0.012244</td>\n",
       "      <td>0.179305</td>\n",
       "    </tr>\n",
       "    <tr>\n",
       "      <th>CoastalVulnerability</th>\n",
       "      <td>-0.001386</td>\n",
       "      <td>-0.010659</td>\n",
       "      <td>-0.012526</td>\n",
       "      <td>-0.011680</td>\n",
       "      <td>-0.012388</td>\n",
       "      <td>-0.014497</td>\n",
       "      <td>-0.013005</td>\n",
       "      <td>-0.012096</td>\n",
       "      <td>-0.011762</td>\n",
       "      <td>-0.011415</td>\n",
       "      <td>...</td>\n",
       "      <td>-0.013467</td>\n",
       "      <td>1.000000</td>\n",
       "      <td>-0.013177</td>\n",
       "      <td>-0.012018</td>\n",
       "      <td>-0.009699</td>\n",
       "      <td>-0.013256</td>\n",
       "      <td>-0.011989</td>\n",
       "      <td>-0.014006</td>\n",
       "      <td>-0.013275</td>\n",
       "      <td>0.177774</td>\n",
       "    </tr>\n",
       "    <tr>\n",
       "      <th>Landslides</th>\n",
       "      <td>0.001078</td>\n",
       "      <td>-0.009121</td>\n",
       "      <td>-0.010240</td>\n",
       "      <td>-0.008994</td>\n",
       "      <td>-0.009257</td>\n",
       "      <td>-0.010582</td>\n",
       "      <td>-0.009352</td>\n",
       "      <td>-0.009924</td>\n",
       "      <td>-0.009173</td>\n",
       "      <td>-0.010624</td>\n",
       "      <td>...</td>\n",
       "      <td>-0.011215</td>\n",
       "      <td>-0.013177</td>\n",
       "      <td>1.000000</td>\n",
       "      <td>-0.012123</td>\n",
       "      <td>-0.007216</td>\n",
       "      <td>-0.008959</td>\n",
       "      <td>-0.011226</td>\n",
       "      <td>-0.011052</td>\n",
       "      <td>-0.010277</td>\n",
       "      <td>0.185346</td>\n",
       "    </tr>\n",
       "    <tr>\n",
       "      <th>Watersheds</th>\n",
       "      <td>0.000215</td>\n",
       "      <td>-0.008900</td>\n",
       "      <td>-0.011067</td>\n",
       "      <td>-0.011412</td>\n",
       "      <td>-0.010671</td>\n",
       "      <td>-0.012107</td>\n",
       "      <td>-0.009882</td>\n",
       "      <td>-0.009085</td>\n",
       "      <td>-0.009457</td>\n",
       "      <td>-0.009901</td>\n",
       "      <td>...</td>\n",
       "      <td>-0.012690</td>\n",
       "      <td>-0.012018</td>\n",
       "      <td>-0.012123</td>\n",
       "      <td>1.000000</td>\n",
       "      <td>-0.009812</td>\n",
       "      <td>-0.010315</td>\n",
       "      <td>-0.012403</td>\n",
       "      <td>-0.013059</td>\n",
       "      <td>-0.011324</td>\n",
       "      <td>0.181907</td>\n",
       "    </tr>\n",
       "    <tr>\n",
       "      <th>DeterioratingInfrastructure</th>\n",
       "      <td>-0.000385</td>\n",
       "      <td>-0.008486</td>\n",
       "      <td>-0.006628</td>\n",
       "      <td>-0.005827</td>\n",
       "      <td>-0.008862</td>\n",
       "      <td>-0.010656</td>\n",
       "      <td>-0.006324</td>\n",
       "      <td>-0.009831</td>\n",
       "      <td>-0.006312</td>\n",
       "      <td>-0.008708</td>\n",
       "      <td>...</td>\n",
       "      <td>-0.009601</td>\n",
       "      <td>-0.009699</td>\n",
       "      <td>-0.007216</td>\n",
       "      <td>-0.009812</td>\n",
       "      <td>1.000000</td>\n",
       "      <td>-0.007608</td>\n",
       "      <td>-0.008607</td>\n",
       "      <td>-0.008214</td>\n",
       "      <td>-0.009388</td>\n",
       "      <td>0.190007</td>\n",
       "    </tr>\n",
       "    <tr>\n",
       "      <th>PopulationScore</th>\n",
       "      <td>0.000625</td>\n",
       "      <td>-0.008679</td>\n",
       "      <td>-0.010815</td>\n",
       "      <td>-0.006727</td>\n",
       "      <td>-0.011777</td>\n",
       "      <td>-0.011485</td>\n",
       "      <td>-0.010332</td>\n",
       "      <td>-0.009599</td>\n",
       "      <td>-0.008739</td>\n",
       "      <td>-0.008958</td>\n",
       "      <td>...</td>\n",
       "      <td>-0.011975</td>\n",
       "      <td>-0.013256</td>\n",
       "      <td>-0.008959</td>\n",
       "      <td>-0.010315</td>\n",
       "      <td>-0.007608</td>\n",
       "      <td>1.000000</td>\n",
       "      <td>-0.011128</td>\n",
       "      <td>-0.009847</td>\n",
       "      <td>-0.012772</td>\n",
       "      <td>0.185890</td>\n",
       "    </tr>\n",
       "    <tr>\n",
       "      <th>WetlandLoss</th>\n",
       "      <td>0.000931</td>\n",
       "      <td>-0.006811</td>\n",
       "      <td>-0.010267</td>\n",
       "      <td>-0.010069</td>\n",
       "      <td>-0.011004</td>\n",
       "      <td>-0.011023</td>\n",
       "      <td>-0.009376</td>\n",
       "      <td>-0.009372</td>\n",
       "      <td>-0.008667</td>\n",
       "      <td>-0.011392</td>\n",
       "      <td>...</td>\n",
       "      <td>-0.011199</td>\n",
       "      <td>-0.011989</td>\n",
       "      <td>-0.011226</td>\n",
       "      <td>-0.012403</td>\n",
       "      <td>-0.008607</td>\n",
       "      <td>-0.011128</td>\n",
       "      <td>1.000000</td>\n",
       "      <td>-0.009830</td>\n",
       "      <td>-0.011061</td>\n",
       "      <td>0.183396</td>\n",
       "    </tr>\n",
       "    <tr>\n",
       "      <th>InadequatePlanning</th>\n",
       "      <td>-0.001535</td>\n",
       "      <td>-0.008155</td>\n",
       "      <td>-0.011617</td>\n",
       "      <td>-0.009673</td>\n",
       "      <td>-0.010424</td>\n",
       "      <td>-0.011584</td>\n",
       "      <td>-0.010772</td>\n",
       "      <td>-0.011374</td>\n",
       "      <td>-0.009079</td>\n",
       "      <td>-0.010418</td>\n",
       "      <td>...</td>\n",
       "      <td>-0.013060</td>\n",
       "      <td>-0.014006</td>\n",
       "      <td>-0.011052</td>\n",
       "      <td>-0.013059</td>\n",
       "      <td>-0.008214</td>\n",
       "      <td>-0.009847</td>\n",
       "      <td>-0.009830</td>\n",
       "      <td>1.000000</td>\n",
       "      <td>-0.011540</td>\n",
       "      <td>0.180968</td>\n",
       "    </tr>\n",
       "    <tr>\n",
       "      <th>PoliticalFactors</th>\n",
       "      <td>-0.000155</td>\n",
       "      <td>-0.008474</td>\n",
       "      <td>-0.012350</td>\n",
       "      <td>-0.011550</td>\n",
       "      <td>-0.009661</td>\n",
       "      <td>-0.013005</td>\n",
       "      <td>-0.011379</td>\n",
       "      <td>-0.013081</td>\n",
       "      <td>-0.008493</td>\n",
       "      <td>-0.011157</td>\n",
       "      <td>...</td>\n",
       "      <td>-0.012244</td>\n",
       "      <td>-0.013275</td>\n",
       "      <td>-0.010277</td>\n",
       "      <td>-0.011324</td>\n",
       "      <td>-0.009388</td>\n",
       "      <td>-0.012772</td>\n",
       "      <td>-0.011061</td>\n",
       "      <td>-0.011540</td>\n",
       "      <td>1.000000</td>\n",
       "      <td>0.182417</td>\n",
       "    </tr>\n",
       "    <tr>\n",
       "      <th>FloodProbability</th>\n",
       "      <td>-0.000184</td>\n",
       "      <td>0.189098</td>\n",
       "      <td>0.187635</td>\n",
       "      <td>0.187131</td>\n",
       "      <td>0.184001</td>\n",
       "      <td>0.180861</td>\n",
       "      <td>0.184761</td>\n",
       "      <td>0.187996</td>\n",
       "      <td>0.186789</td>\n",
       "      <td>0.183366</td>\n",
       "      <td>...</td>\n",
       "      <td>0.179305</td>\n",
       "      <td>0.177774</td>\n",
       "      <td>0.185346</td>\n",
       "      <td>0.181907</td>\n",
       "      <td>0.190007</td>\n",
       "      <td>0.185890</td>\n",
       "      <td>0.183396</td>\n",
       "      <td>0.180968</td>\n",
       "      <td>0.182417</td>\n",
       "      <td>1.000000</td>\n",
       "    </tr>\n",
       "  </tbody>\n",
       "</table>\n",
       "<p>22 rows × 22 columns</p>\n",
       "</div>"
      ],
      "text/plain": [
       "                                       id  MonsoonIntensity  \\\n",
       "id                               1.000000         -0.000093   \n",
       "MonsoonIntensity                -0.000093          1.000000   \n",
       "TopographyDrainage              -0.001518         -0.007362   \n",
       "RiverManagement                 -0.000413         -0.008070   \n",
       "Deforestation                   -0.000080         -0.007251   \n",
       "Urbanization                     0.000580         -0.009309   \n",
       "ClimateChange                   -0.000188         -0.008031   \n",
       "DamsQuality                      0.000133         -0.007787   \n",
       "Siltation                        0.000281         -0.007836   \n",
       "AgriculturalPractices           -0.000103         -0.008232   \n",
       "Encroachments                   -0.000147         -0.010309   \n",
       "IneffectiveDisasterPreparedness -0.000208         -0.008032   \n",
       "DrainageSystems                  0.000558         -0.009716   \n",
       "CoastalVulnerability            -0.001386         -0.010659   \n",
       "Landslides                       0.001078         -0.009121   \n",
       "Watersheds                       0.000215         -0.008900   \n",
       "DeterioratingInfrastructure     -0.000385         -0.008486   \n",
       "PopulationScore                  0.000625         -0.008679   \n",
       "WetlandLoss                      0.000931         -0.006811   \n",
       "InadequatePlanning              -0.001535         -0.008155   \n",
       "PoliticalFactors                -0.000155         -0.008474   \n",
       "FloodProbability                -0.000184          0.189098   \n",
       "\n",
       "                                 TopographyDrainage  RiverManagement  \\\n",
       "id                                        -0.001518        -0.000413   \n",
       "MonsoonIntensity                          -0.007362        -0.008070   \n",
       "TopographyDrainage                         1.000000        -0.009924   \n",
       "RiverManagement                           -0.009924         1.000000   \n",
       "Deforestation                             -0.008548        -0.008574   \n",
       "Urbanization                              -0.010532        -0.012292   \n",
       "ClimateChange                             -0.009619        -0.009237   \n",
       "DamsQuality                               -0.007607        -0.008711   \n",
       "Siltation                                 -0.009824        -0.010058   \n",
       "AgriculturalPractices                     -0.009496        -0.010783   \n",
       "Encroachments                             -0.012887        -0.011615   \n",
       "IneffectiveDisasterPreparedness           -0.010746        -0.010675   \n",
       "DrainageSystems                           -0.010056        -0.011277   \n",
       "CoastalVulnerability                      -0.012526        -0.011680   \n",
       "Landslides                                -0.010240        -0.008994   \n",
       "Watersheds                                -0.011067        -0.011412   \n",
       "DeterioratingInfrastructure               -0.006628        -0.005827   \n",
       "PopulationScore                           -0.010815        -0.006727   \n",
       "WetlandLoss                               -0.010267        -0.010069   \n",
       "InadequatePlanning                        -0.011617        -0.009673   \n",
       "PoliticalFactors                          -0.012350        -0.011550   \n",
       "FloodProbability                           0.187635         0.187131   \n",
       "\n",
       "                                 Deforestation  Urbanization  ClimateChange  \\\n",
       "id                                   -0.000080      0.000580      -0.000188   \n",
       "MonsoonIntensity                     -0.007251     -0.009309      -0.008031   \n",
       "TopographyDrainage                   -0.008548     -0.010532      -0.009619   \n",
       "RiverManagement                      -0.008574     -0.012292      -0.009237   \n",
       "Deforestation                         1.000000     -0.012248      -0.008266   \n",
       "Urbanization                         -0.012248      1.000000      -0.011199   \n",
       "ClimateChange                        -0.008266     -0.011199       1.000000   \n",
       "DamsQuality                          -0.009356     -0.011128      -0.008427   \n",
       "Siltation                            -0.011536     -0.010153      -0.009457   \n",
       "AgriculturalPractices                -0.010039     -0.010559      -0.011517   \n",
       "Encroachments                        -0.013175     -0.010784      -0.012533   \n",
       "IneffectiveDisasterPreparedness      -0.009512     -0.012685      -0.011346   \n",
       "DrainageSystems                      -0.010490     -0.012572      -0.009650   \n",
       "CoastalVulnerability                 -0.012388     -0.014497      -0.013005   \n",
       "Landslides                           -0.009257     -0.010582      -0.009352   \n",
       "Watersheds                           -0.010671     -0.012107      -0.009882   \n",
       "DeterioratingInfrastructure          -0.008862     -0.010656      -0.006324   \n",
       "PopulationScore                      -0.011777     -0.011485      -0.010332   \n",
       "WetlandLoss                          -0.011004     -0.011023      -0.009376   \n",
       "InadequatePlanning                   -0.010424     -0.011584      -0.010772   \n",
       "PoliticalFactors                     -0.009661     -0.013005      -0.011379   \n",
       "FloodProbability                      0.184001      0.180861       0.184761   \n",
       "\n",
       "                                 DamsQuality  Siltation  \\\n",
       "id                                  0.000133   0.000281   \n",
       "MonsoonIntensity                   -0.007787  -0.007836   \n",
       "TopographyDrainage                 -0.007607  -0.009824   \n",
       "RiverManagement                    -0.008711  -0.010058   \n",
       "Deforestation                      -0.009356  -0.011536   \n",
       "Urbanization                       -0.011128  -0.010153   \n",
       "ClimateChange                      -0.008427  -0.009457   \n",
       "DamsQuality                         1.000000  -0.009401   \n",
       "Siltation                          -0.009401   1.000000   \n",
       "AgriculturalPractices              -0.009033  -0.010179   \n",
       "Encroachments                      -0.010890  -0.010628   \n",
       "IneffectiveDisasterPreparedness    -0.009515  -0.009099   \n",
       "DrainageSystems                    -0.010439  -0.010702   \n",
       "CoastalVulnerability               -0.012096  -0.011762   \n",
       "Landslides                         -0.009924  -0.009173   \n",
       "Watersheds                         -0.009085  -0.009457   \n",
       "DeterioratingInfrastructure        -0.009831  -0.006312   \n",
       "PopulationScore                    -0.009599  -0.008739   \n",
       "WetlandLoss                        -0.009372  -0.008667   \n",
       "InadequatePlanning                 -0.011374  -0.009079   \n",
       "PoliticalFactors                   -0.013081  -0.008493   \n",
       "FloodProbability                    0.187996   0.186789   \n",
       "\n",
       "                                 AgriculturalPractices  ...  DrainageSystems  \\\n",
       "id                                           -0.000103  ...         0.000558   \n",
       "MonsoonIntensity                             -0.008232  ...        -0.009716   \n",
       "TopographyDrainage                           -0.009496  ...        -0.010056   \n",
       "RiverManagement                              -0.010783  ...        -0.011277   \n",
       "Deforestation                                -0.010039  ...        -0.010490   \n",
       "Urbanization                                 -0.010559  ...        -0.012572   \n",
       "ClimateChange                                -0.011517  ...        -0.009650   \n",
       "DamsQuality                                  -0.009033  ...        -0.010439   \n",
       "Siltation                                    -0.010179  ...        -0.010702   \n",
       "AgriculturalPractices                         1.000000  ...        -0.010845   \n",
       "Encroachments                                -0.012244  ...        -0.011994   \n",
       "IneffectiveDisasterPreparedness              -0.010763  ...        -0.012613   \n",
       "DrainageSystems                              -0.010845  ...         1.000000   \n",
       "CoastalVulnerability                         -0.011415  ...        -0.013467   \n",
       "Landslides                                   -0.010624  ...        -0.011215   \n",
       "Watersheds                                   -0.009901  ...        -0.012690   \n",
       "DeterioratingInfrastructure                  -0.008708  ...        -0.009601   \n",
       "PopulationScore                              -0.008958  ...        -0.011975   \n",
       "WetlandLoss                                  -0.011392  ...        -0.011199   \n",
       "InadequatePlanning                           -0.010418  ...        -0.013060   \n",
       "PoliticalFactors                             -0.011157  ...        -0.012244   \n",
       "FloodProbability                              0.183366  ...         0.179305   \n",
       "\n",
       "                                 CoastalVulnerability  Landslides  Watersheds  \\\n",
       "id                                          -0.001386    0.001078    0.000215   \n",
       "MonsoonIntensity                            -0.010659   -0.009121   -0.008900   \n",
       "TopographyDrainage                          -0.012526   -0.010240   -0.011067   \n",
       "RiverManagement                             -0.011680   -0.008994   -0.011412   \n",
       "Deforestation                               -0.012388   -0.009257   -0.010671   \n",
       "Urbanization                                -0.014497   -0.010582   -0.012107   \n",
       "ClimateChange                               -0.013005   -0.009352   -0.009882   \n",
       "DamsQuality                                 -0.012096   -0.009924   -0.009085   \n",
       "Siltation                                   -0.011762   -0.009173   -0.009457   \n",
       "AgriculturalPractices                       -0.011415   -0.010624   -0.009901   \n",
       "Encroachments                               -0.016203   -0.011299   -0.013542   \n",
       "IneffectiveDisasterPreparedness             -0.009798   -0.009669   -0.011588   \n",
       "DrainageSystems                             -0.013467   -0.011215   -0.012690   \n",
       "CoastalVulnerability                         1.000000   -0.013177   -0.012018   \n",
       "Landslides                                  -0.013177    1.000000   -0.012123   \n",
       "Watersheds                                  -0.012018   -0.012123    1.000000   \n",
       "DeterioratingInfrastructure                 -0.009699   -0.007216   -0.009812   \n",
       "PopulationScore                             -0.013256   -0.008959   -0.010315   \n",
       "WetlandLoss                                 -0.011989   -0.011226   -0.012403   \n",
       "InadequatePlanning                          -0.014006   -0.011052   -0.013059   \n",
       "PoliticalFactors                            -0.013275   -0.010277   -0.011324   \n",
       "FloodProbability                             0.177774    0.185346    0.181907   \n",
       "\n",
       "                                 DeterioratingInfrastructure  PopulationScore  \\\n",
       "id                                                 -0.000385         0.000625   \n",
       "MonsoonIntensity                                   -0.008486        -0.008679   \n",
       "TopographyDrainage                                 -0.006628        -0.010815   \n",
       "RiverManagement                                    -0.005827        -0.006727   \n",
       "Deforestation                                      -0.008862        -0.011777   \n",
       "Urbanization                                       -0.010656        -0.011485   \n",
       "ClimateChange                                      -0.006324        -0.010332   \n",
       "DamsQuality                                        -0.009831        -0.009599   \n",
       "Siltation                                          -0.006312        -0.008739   \n",
       "AgriculturalPractices                              -0.008708        -0.008958   \n",
       "Encroachments                                      -0.010404        -0.010645   \n",
       "IneffectiveDisasterPreparedness                    -0.009871        -0.011893   \n",
       "DrainageSystems                                    -0.009601        -0.011975   \n",
       "CoastalVulnerability                               -0.009699        -0.013256   \n",
       "Landslides                                         -0.007216        -0.008959   \n",
       "Watersheds                                         -0.009812        -0.010315   \n",
       "DeterioratingInfrastructure                         1.000000        -0.007608   \n",
       "PopulationScore                                    -0.007608         1.000000   \n",
       "WetlandLoss                                        -0.008607        -0.011128   \n",
       "InadequatePlanning                                 -0.008214        -0.009847   \n",
       "PoliticalFactors                                   -0.009388        -0.012772   \n",
       "FloodProbability                                    0.190007         0.185890   \n",
       "\n",
       "                                 WetlandLoss  InadequatePlanning  \\\n",
       "id                                  0.000931           -0.001535   \n",
       "MonsoonIntensity                   -0.006811           -0.008155   \n",
       "TopographyDrainage                 -0.010267           -0.011617   \n",
       "RiverManagement                    -0.010069           -0.009673   \n",
       "Deforestation                      -0.011004           -0.010424   \n",
       "Urbanization                       -0.011023           -0.011584   \n",
       "ClimateChange                      -0.009376           -0.010772   \n",
       "DamsQuality                        -0.009372           -0.011374   \n",
       "Siltation                          -0.008667           -0.009079   \n",
       "AgriculturalPractices              -0.011392           -0.010418   \n",
       "Encroachments                      -0.010364           -0.012175   \n",
       "IneffectiveDisasterPreparedness    -0.010299           -0.012080   \n",
       "DrainageSystems                    -0.011199           -0.013060   \n",
       "CoastalVulnerability               -0.011989           -0.014006   \n",
       "Landslides                         -0.011226           -0.011052   \n",
       "Watersheds                         -0.012403           -0.013059   \n",
       "DeterioratingInfrastructure        -0.008607           -0.008214   \n",
       "PopulationScore                    -0.011128           -0.009847   \n",
       "WetlandLoss                         1.000000           -0.009830   \n",
       "InadequatePlanning                 -0.009830            1.000000   \n",
       "PoliticalFactors                   -0.011061           -0.011540   \n",
       "FloodProbability                    0.183396            0.180968   \n",
       "\n",
       "                                 PoliticalFactors  FloodProbability  \n",
       "id                                      -0.000155         -0.000184  \n",
       "MonsoonIntensity                        -0.008474          0.189098  \n",
       "TopographyDrainage                      -0.012350          0.187635  \n",
       "RiverManagement                         -0.011550          0.187131  \n",
       "Deforestation                           -0.009661          0.184001  \n",
       "Urbanization                            -0.013005          0.180861  \n",
       "ClimateChange                           -0.011379          0.184761  \n",
       "DamsQuality                             -0.013081          0.187996  \n",
       "Siltation                               -0.008493          0.186789  \n",
       "AgriculturalPractices                   -0.011157          0.183366  \n",
       "Encroachments                           -0.011860          0.178841  \n",
       "IneffectiveDisasterPreparedness         -0.010563          0.183109  \n",
       "DrainageSystems                         -0.012244          0.179305  \n",
       "CoastalVulnerability                    -0.013275          0.177774  \n",
       "Landslides                              -0.010277          0.185346  \n",
       "Watersheds                              -0.011324          0.181907  \n",
       "DeterioratingInfrastructure             -0.009388          0.190007  \n",
       "PopulationScore                         -0.012772          0.185890  \n",
       "WetlandLoss                             -0.011061          0.183396  \n",
       "InadequatePlanning                      -0.011540          0.180968  \n",
       "PoliticalFactors                         1.000000          0.182417  \n",
       "FloodProbability                         0.182417          1.000000  \n",
       "\n",
       "[22 rows x 22 columns]"
      ]
     },
     "execution_count": 12,
     "metadata": {},
     "output_type": "execute_result"
    }
   ],
   "source": [
    "# Now let's see the correlation\n",
    "X_corr = train.corr()\n",
    "X_corr"
   ]
  },
  {
   "cell_type": "code",
   "execution_count": 13,
   "id": "fcb8f9e8",
   "metadata": {
    "_cell_guid": "af9dd1b1-0f67-4517-af7f-e9af94f4f77e",
    "_uuid": "89a94647-6924-4ad1-8bc9-5e9de5c17deb",
    "collapsed": false,
    "execution": {
     "iopub.execute_input": "2024-05-06T05:17:12.419264Z",
     "iopub.status.busy": "2024-05-06T05:17:12.418850Z",
     "iopub.status.idle": "2024-05-06T05:17:14.213433Z",
     "shell.execute_reply": "2024-05-06T05:17:14.212245Z"
    },
    "jupyter": {
     "outputs_hidden": false
    },
    "papermill": {
     "duration": 1.815736,
     "end_time": "2024-05-06T05:17:14.218546",
     "exception": false,
     "start_time": "2024-05-06T05:17:12.402810",
     "status": "completed"
    },
    "tags": []
   },
   "outputs": [
    {
     "data": {
      "image/png": "[encoded data removed]",
      "text/plain": [
       "<Figure size 2200x1800 with 2 Axes>"
      ]
     },
     "metadata": {},
     "output_type": "display_data"
    }
   ],
   "source": [
    "# HEATMAP\n",
    "plt.figure(figsize=(22,18))\n",
    "sns.heatmap(X_corr, annot = True, cmap = 'viridis')\n",
    "plt.show()"
   ]
  },
  {
   "cell_type": "code",
   "execution_count": 14,
   "id": "19f14d16",
   "metadata": {
    "_cell_guid": "f0262fab-d7d5-4ccc-9f5e-a1068285f92c",
    "_uuid": "7aea3c1d-90fa-4548-b249-1cc18916b3f5",
    "collapsed": false,
    "execution": {
     "iopub.execute_input": "2024-05-06T05:17:14.259640Z",
     "iopub.status.busy": "2024-05-06T05:17:14.259026Z",
     "iopub.status.idle": "2024-05-06T05:17:14.931288Z",
     "shell.execute_reply": "2024-05-06T05:17:14.930398Z"
    },
    "jupyter": {
     "outputs_hidden": false
    },
    "papermill": {
     "duration": 0.696373,
     "end_time": "2024-05-06T05:17:14.934424",
     "exception": false,
     "start_time": "2024-05-06T05:17:14.238051",
     "status": "completed"
    },
    "tags": []
   },
   "outputs": [
    {
     "data": {
      "image/png": "[encoded data removed]",
      "text/plain": [
       "<Figure size 1500x1200 with 1 Axes>"
      ]
     },
     "metadata": {},
     "output_type": "display_data"
    }
   ],
   "source": [
    "# Very strong correlation\n",
    "plt.figure(figsize=(15,12))\n",
    "sns.heatmap(X_corr, mask = (X_corr < 0.1), annot = True, cmap = 'Greens',cbar = False)\n",
    "plt.show()"
   ]
  },
  {
   "cell_type": "code",
   "execution_count": 15,
   "id": "dfcb4ded",
   "metadata": {
    "_cell_guid": "8cc6fab4-9b01-41f8-806e-7dc1dcc5f974",
    "_uuid": "fb7bb039-d2e2-4d18-88f1-e86060713f96",
    "collapsed": false,
    "execution": {
     "iopub.execute_input": "2024-05-06T05:17:14.982130Z",
     "iopub.status.busy": "2024-05-06T05:17:14.981416Z",
     "iopub.status.idle": "2024-05-06T05:17:14.985628Z",
     "shell.execute_reply": "2024-05-06T05:17:14.984722Z"
    },
    "jupyter": {
     "outputs_hidden": false
    },
    "papermill": {
     "duration": 0.02998,
     "end_time": "2024-05-06T05:17:14.987816",
     "exception": false,
     "start_time": "2024-05-06T05:17:14.957836",
     "status": "completed"
    },
    "tags": []
   },
   "outputs": [],
   "source": [
    "# We can see that every factor has a positive relation ranging from 0.18 to 0.19"
   ]
  },
  {
   "cell_type": "code",
   "execution_count": 16,
   "id": "a7eecbaf",
   "metadata": {
    "execution": {
     "iopub.execute_input": "2024-05-06T05:17:15.032817Z",
     "iopub.status.busy": "2024-05-06T05:17:15.031907Z",
     "iopub.status.idle": "2024-05-06T05:17:15.202784Z",
     "shell.execute_reply": "2024-05-06T05:17:15.201294Z"
    },
    "papermill": {
     "duration": 0.196486,
     "end_time": "2024-05-06T05:17:15.205593",
     "exception": false,
     "start_time": "2024-05-06T05:17:15.009107",
     "status": "completed"
    },
    "tags": []
   },
   "outputs": [
    {
     "data": {
      "text/html": [
       "<div>\n",
       "<style scoped>\n",
       "    .dataframe tbody tr th:only-of-type {\n",
       "        vertical-align: middle;\n",
       "    }\n",
       "\n",
       "    .dataframe tbody tr th {\n",
       "        vertical-align: top;\n",
       "    }\n",
       "\n",
       "    .dataframe thead th {\n",
       "        text-align: right;\n",
       "    }\n",
       "</style>\n",
       "<table border=\"1\" class=\"dataframe\">\n",
       "  <thead>\n",
       "    <tr style=\"text-align: right;\">\n",
       "      <th></th>\n",
       "      <th>id</th>\n",
       "      <th>MonsoonIntensity</th>\n",
       "      <th>TopographyDrainage</th>\n",
       "      <th>RiverManagement</th>\n",
       "      <th>Deforestation</th>\n",
       "      <th>Urbanization</th>\n",
       "      <th>ClimateChange</th>\n",
       "      <th>DamsQuality</th>\n",
       "      <th>Siltation</th>\n",
       "      <th>AgriculturalPractices</th>\n",
       "      <th>...</th>\n",
       "      <th>IneffectiveDisasterPreparedness</th>\n",
       "      <th>DrainageSystems</th>\n",
       "      <th>CoastalVulnerability</th>\n",
       "      <th>Landslides</th>\n",
       "      <th>Watersheds</th>\n",
       "      <th>DeterioratingInfrastructure</th>\n",
       "      <th>PopulationScore</th>\n",
       "      <th>WetlandLoss</th>\n",
       "      <th>InadequatePlanning</th>\n",
       "      <th>PoliticalFactors</th>\n",
       "    </tr>\n",
       "  </thead>\n",
       "  <tbody>\n",
       "    <tr>\n",
       "      <th>0</th>\n",
       "      <td>0</td>\n",
       "      <td>5</td>\n",
       "      <td>8</td>\n",
       "      <td>5</td>\n",
       "      <td>8</td>\n",
       "      <td>6</td>\n",
       "      <td>4</td>\n",
       "      <td>4</td>\n",
       "      <td>3</td>\n",
       "      <td>3</td>\n",
       "      <td>...</td>\n",
       "      <td>2</td>\n",
       "      <td>5</td>\n",
       "      <td>3</td>\n",
       "      <td>3</td>\n",
       "      <td>5</td>\n",
       "      <td>4</td>\n",
       "      <td>7</td>\n",
       "      <td>5</td>\n",
       "      <td>7</td>\n",
       "      <td>3</td>\n",
       "    </tr>\n",
       "    <tr>\n",
       "      <th>1</th>\n",
       "      <td>1</td>\n",
       "      <td>6</td>\n",
       "      <td>7</td>\n",
       "      <td>4</td>\n",
       "      <td>4</td>\n",
       "      <td>8</td>\n",
       "      <td>8</td>\n",
       "      <td>3</td>\n",
       "      <td>5</td>\n",
       "      <td>4</td>\n",
       "      <td>...</td>\n",
       "      <td>9</td>\n",
       "      <td>7</td>\n",
       "      <td>2</td>\n",
       "      <td>0</td>\n",
       "      <td>3</td>\n",
       "      <td>5</td>\n",
       "      <td>3</td>\n",
       "      <td>3</td>\n",
       "      <td>4</td>\n",
       "      <td>3</td>\n",
       "    </tr>\n",
       "    <tr>\n",
       "      <th>2</th>\n",
       "      <td>2</td>\n",
       "      <td>6</td>\n",
       "      <td>5</td>\n",
       "      <td>6</td>\n",
       "      <td>7</td>\n",
       "      <td>3</td>\n",
       "      <td>7</td>\n",
       "      <td>1</td>\n",
       "      <td>5</td>\n",
       "      <td>4</td>\n",
       "      <td>...</td>\n",
       "      <td>6</td>\n",
       "      <td>7</td>\n",
       "      <td>3</td>\n",
       "      <td>7</td>\n",
       "      <td>5</td>\n",
       "      <td>6</td>\n",
       "      <td>8</td>\n",
       "      <td>2</td>\n",
       "      <td>3</td>\n",
       "      <td>3</td>\n",
       "    </tr>\n",
       "    <tr>\n",
       "      <th>3</th>\n",
       "      <td>3</td>\n",
       "      <td>3</td>\n",
       "      <td>4</td>\n",
       "      <td>6</td>\n",
       "      <td>5</td>\n",
       "      <td>4</td>\n",
       "      <td>8</td>\n",
       "      <td>4</td>\n",
       "      <td>7</td>\n",
       "      <td>6</td>\n",
       "      <td>...</td>\n",
       "      <td>5</td>\n",
       "      <td>2</td>\n",
       "      <td>4</td>\n",
       "      <td>7</td>\n",
       "      <td>4</td>\n",
       "      <td>4</td>\n",
       "      <td>6</td>\n",
       "      <td>5</td>\n",
       "      <td>7</td>\n",
       "      <td>5</td>\n",
       "    </tr>\n",
       "    <tr>\n",
       "      <th>4</th>\n",
       "      <td>4</td>\n",
       "      <td>5</td>\n",
       "      <td>3</td>\n",
       "      <td>2</td>\n",
       "      <td>6</td>\n",
       "      <td>4</td>\n",
       "      <td>4</td>\n",
       "      <td>3</td>\n",
       "      <td>3</td>\n",
       "      <td>3</td>\n",
       "      <td>...</td>\n",
       "      <td>5</td>\n",
       "      <td>2</td>\n",
       "      <td>2</td>\n",
       "      <td>6</td>\n",
       "      <td>6</td>\n",
       "      <td>4</td>\n",
       "      <td>1</td>\n",
       "      <td>2</td>\n",
       "      <td>3</td>\n",
       "      <td>5</td>\n",
       "    </tr>\n",
       "    <tr>\n",
       "      <th>...</th>\n",
       "      <td>...</td>\n",
       "      <td>...</td>\n",
       "      <td>...</td>\n",
       "      <td>...</td>\n",
       "      <td>...</td>\n",
       "      <td>...</td>\n",
       "      <td>...</td>\n",
       "      <td>...</td>\n",
       "      <td>...</td>\n",
       "      <td>...</td>\n",
       "      <td>...</td>\n",
       "      <td>...</td>\n",
       "      <td>...</td>\n",
       "      <td>...</td>\n",
       "      <td>...</td>\n",
       "      <td>...</td>\n",
       "      <td>...</td>\n",
       "      <td>...</td>\n",
       "      <td>...</td>\n",
       "      <td>...</td>\n",
       "      <td>...</td>\n",
       "    </tr>\n",
       "    <tr>\n",
       "      <th>1117952</th>\n",
       "      <td>1117952</td>\n",
       "      <td>3</td>\n",
       "      <td>3</td>\n",
       "      <td>4</td>\n",
       "      <td>10</td>\n",
       "      <td>4</td>\n",
       "      <td>5</td>\n",
       "      <td>5</td>\n",
       "      <td>7</td>\n",
       "      <td>10</td>\n",
       "      <td>...</td>\n",
       "      <td>3</td>\n",
       "      <td>7</td>\n",
       "      <td>8</td>\n",
       "      <td>7</td>\n",
       "      <td>2</td>\n",
       "      <td>2</td>\n",
       "      <td>1</td>\n",
       "      <td>4</td>\n",
       "      <td>6</td>\n",
       "      <td>4</td>\n",
       "    </tr>\n",
       "    <tr>\n",
       "      <th>1117953</th>\n",
       "      <td>1117953</td>\n",
       "      <td>2</td>\n",
       "      <td>2</td>\n",
       "      <td>4</td>\n",
       "      <td>3</td>\n",
       "      <td>9</td>\n",
       "      <td>5</td>\n",
       "      <td>8</td>\n",
       "      <td>1</td>\n",
       "      <td>3</td>\n",
       "      <td>...</td>\n",
       "      <td>5</td>\n",
       "      <td>9</td>\n",
       "      <td>4</td>\n",
       "      <td>4</td>\n",
       "      <td>3</td>\n",
       "      <td>7</td>\n",
       "      <td>4</td>\n",
       "      <td>9</td>\n",
       "      <td>4</td>\n",
       "      <td>5</td>\n",
       "    </tr>\n",
       "    <tr>\n",
       "      <th>1117954</th>\n",
       "      <td>1117954</td>\n",
       "      <td>7</td>\n",
       "      <td>3</td>\n",
       "      <td>9</td>\n",
       "      <td>4</td>\n",
       "      <td>6</td>\n",
       "      <td>5</td>\n",
       "      <td>9</td>\n",
       "      <td>1</td>\n",
       "      <td>3</td>\n",
       "      <td>...</td>\n",
       "      <td>5</td>\n",
       "      <td>5</td>\n",
       "      <td>5</td>\n",
       "      <td>5</td>\n",
       "      <td>5</td>\n",
       "      <td>6</td>\n",
       "      <td>5</td>\n",
       "      <td>5</td>\n",
       "      <td>2</td>\n",
       "      <td>4</td>\n",
       "    </tr>\n",
       "    <tr>\n",
       "      <th>1117955</th>\n",
       "      <td>1117955</td>\n",
       "      <td>7</td>\n",
       "      <td>3</td>\n",
       "      <td>3</td>\n",
       "      <td>7</td>\n",
       "      <td>5</td>\n",
       "      <td>2</td>\n",
       "      <td>3</td>\n",
       "      <td>4</td>\n",
       "      <td>6</td>\n",
       "      <td>...</td>\n",
       "      <td>6</td>\n",
       "      <td>6</td>\n",
       "      <td>8</td>\n",
       "      <td>5</td>\n",
       "      <td>3</td>\n",
       "      <td>4</td>\n",
       "      <td>6</td>\n",
       "      <td>7</td>\n",
       "      <td>6</td>\n",
       "      <td>4</td>\n",
       "    </tr>\n",
       "    <tr>\n",
       "      <th>1117956</th>\n",
       "      <td>1117956</td>\n",
       "      <td>4</td>\n",
       "      <td>5</td>\n",
       "      <td>6</td>\n",
       "      <td>9</td>\n",
       "      <td>5</td>\n",
       "      <td>5</td>\n",
       "      <td>2</td>\n",
       "      <td>8</td>\n",
       "      <td>4</td>\n",
       "      <td>...</td>\n",
       "      <td>1</td>\n",
       "      <td>4</td>\n",
       "      <td>8</td>\n",
       "      <td>6</td>\n",
       "      <td>5</td>\n",
       "      <td>5</td>\n",
       "      <td>6</td>\n",
       "      <td>7</td>\n",
       "      <td>7</td>\n",
       "      <td>8</td>\n",
       "    </tr>\n",
       "  </tbody>\n",
       "</table>\n",
       "<p>1117957 rows × 21 columns</p>\n",
       "</div>"
      ],
      "text/plain": [
       "              id  MonsoonIntensity  TopographyDrainage  RiverManagement  \\\n",
       "0              0                 5                   8                5   \n",
       "1              1                 6                   7                4   \n",
       "2              2                 6                   5                6   \n",
       "3              3                 3                   4                6   \n",
       "4              4                 5                   3                2   \n",
       "...          ...               ...                 ...              ...   \n",
       "1117952  1117952                 3                   3                4   \n",
       "1117953  1117953                 2                   2                4   \n",
       "1117954  1117954                 7                   3                9   \n",
       "1117955  1117955                 7                   3                3   \n",
       "1117956  1117956                 4                   5                6   \n",
       "\n",
       "         Deforestation  Urbanization  ClimateChange  DamsQuality  Siltation  \\\n",
       "0                    8             6              4            4          3   \n",
       "1                    4             8              8            3          5   \n",
       "2                    7             3              7            1          5   \n",
       "3                    5             4              8            4          7   \n",
       "4                    6             4              4            3          3   \n",
       "...                ...           ...            ...          ...        ...   \n",
       "1117952             10             4              5            5          7   \n",
       "1117953              3             9              5            8          1   \n",
       "1117954              4             6              5            9          1   \n",
       "1117955              7             5              2            3          4   \n",
       "1117956              9             5              5            2          8   \n",
       "\n",
       "         AgriculturalPractices  ...  IneffectiveDisasterPreparedness  \\\n",
       "0                            3  ...                                2   \n",
       "1                            4  ...                                9   \n",
       "2                            4  ...                                6   \n",
       "3                            6  ...                                5   \n",
       "4                            3  ...                                5   \n",
       "...                        ...  ...                              ...   \n",
       "1117952                     10  ...                                3   \n",
       "1117953                      3  ...                                5   \n",
       "1117954                      3  ...                                5   \n",
       "1117955                      6  ...                                6   \n",
       "1117956                      4  ...                                1   \n",
       "\n",
       "         DrainageSystems  CoastalVulnerability  Landslides  Watersheds  \\\n",
       "0                      5                     3           3           5   \n",
       "1                      7                     2           0           3   \n",
       "2                      7                     3           7           5   \n",
       "3                      2                     4           7           4   \n",
       "4                      2                     2           6           6   \n",
       "...                  ...                   ...         ...         ...   \n",
       "1117952                7                     8           7           2   \n",
       "1117953                9                     4           4           3   \n",
       "1117954                5                     5           5           5   \n",
       "1117955                6                     8           5           3   \n",
       "1117956                4                     8           6           5   \n",
       "\n",
       "         DeterioratingInfrastructure  PopulationScore  WetlandLoss  \\\n",
       "0                                  4                7            5   \n",
       "1                                  5                3            3   \n",
       "2                                  6                8            2   \n",
       "3                                  4                6            5   \n",
       "4                                  4                1            2   \n",
       "...                              ...              ...          ...   \n",
       "1117952                            2                1            4   \n",
       "1117953                            7                4            9   \n",
       "1117954                            6                5            5   \n",
       "1117955                            4                6            7   \n",
       "1117956                            5                6            7   \n",
       "\n",
       "         InadequatePlanning  PoliticalFactors  \n",
       "0                         7                 3  \n",
       "1                         4                 3  \n",
       "2                         3                 3  \n",
       "3                         7                 5  \n",
       "4                         3                 5  \n",
       "...                     ...               ...  \n",
       "1117952                   6                 4  \n",
       "1117953                   4                 5  \n",
       "1117954                   2                 4  \n",
       "1117955                   6                 4  \n",
       "1117956                   7                 8  \n",
       "\n",
       "[1117957 rows x 21 columns]"
      ]
     },
     "execution_count": 16,
     "metadata": {},
     "output_type": "execute_result"
    }
   ],
   "source": [
    "X"
   ]
  },
  {
   "cell_type": "code",
   "execution_count": 17,
   "id": "750abd04",
   "metadata": {
    "execution": {
     "iopub.execute_input": "2024-05-06T05:17:15.252199Z",
     "iopub.status.busy": "2024-05-06T05:17:15.251815Z",
     "iopub.status.idle": "2024-05-06T05:17:15.259372Z",
     "shell.execute_reply": "2024-05-06T05:17:15.258193Z"
    },
    "papermill": {
     "duration": 0.033849,
     "end_time": "2024-05-06T05:17:15.261634",
     "exception": false,
     "start_time": "2024-05-06T05:17:15.227785",
     "status": "completed"
    },
    "tags": []
   },
   "outputs": [],
   "source": [
    "# Feature Engineering\n",
    "def cleaning(df):\n",
    "    features = df.columns.tolist()\n",
    "    df['mean_feature'] = 0.1*df[features].mean(axis = 1)\n",
    "    df['max_feature'] = df[features].max(axis = 1)\n",
    "    df['min_feature'] = df[features].min(axis = 1)\n",
    "    df['std_feature'] = df[features].std(axis = 1)\n",
    "    df['median_feature'] = 0.1*df[features].median(axis = 1)\n",
    "    df['sum_feature'] = df[features].sum(axis = 1)\n",
    "    df['variance_feature'] = df[features].var(axis = 1)\n",
    "    df['range_feature'] = df['max_feature'] - df['min_feature']\n",
    "    df['skew_feature'] = df[features].skew(axis = 1)\n",
    "    df['kurtosis_feature'] = df[features].kurtosis(axis = 1)\n",
    "    return df\n",
    "    "
   ]
  },
  {
   "cell_type": "code",
   "execution_count": 18,
   "id": "891b5130",
   "metadata": {
    "execution": {
     "iopub.execute_input": "2024-05-06T05:17:15.307169Z",
     "iopub.status.busy": "2024-05-06T05:17:15.306794Z",
     "iopub.status.idle": "2024-05-06T05:17:24.607392Z",
     "shell.execute_reply": "2024-05-06T05:17:24.606107Z"
    },
    "papermill": {
     "duration": 9.32656,
     "end_time": "2024-05-06T05:17:24.610108",
     "exception": false,
     "start_time": "2024-05-06T05:17:15.283548",
     "status": "completed"
    },
    "tags": []
   },
   "outputs": [],
   "source": [
    "X = cleaning(X)\n",
    "test = cleaning(test)"
   ]
  },
  {
   "cell_type": "code",
   "execution_count": null,
   "id": "01e052d6",
   "metadata": {
    "papermill": {
     "duration": 0.023811,
     "end_time": "2024-05-06T05:17:24.656392",
     "exception": false,
     "start_time": "2024-05-06T05:17:24.632581",
     "status": "completed"
    },
    "tags": []
   },
   "outputs": [],
   "source": []
  },
  {
   "cell_type": "markdown",
   "id": "cf188ab3",
   "metadata": {
    "_cell_guid": "d5d20d49-02ad-4ae6-b04b-49dfa077a8f5",
    "_uuid": "b536d089-e531-4f40-a283-9b155038c683",
    "papermill": {
     "duration": 0.022041,
     "end_time": "2024-05-06T05:17:24.761829",
     "exception": false,
     "start_time": "2024-05-06T05:17:24.739788",
     "status": "completed"
    },
    "tags": []
   },
   "source": [
    "### Split the data into training and testing set"
   ]
  },
  {
   "cell_type": "code",
   "execution_count": 19,
   "id": "b6a15950",
   "metadata": {
    "_cell_guid": "16bc14a8-b1a3-421e-a6ce-9d470827386e",
    "_uuid": "b97dea33-edc3-42fe-88d5-e6c4df6d67be",
    "collapsed": false,
    "execution": {
     "iopub.execute_input": "2024-05-06T05:17:24.809832Z",
     "iopub.status.busy": "2024-05-06T05:17:24.809188Z",
     "iopub.status.idle": "2024-05-06T05:17:25.688151Z",
     "shell.execute_reply": "2024-05-06T05:17:25.686624Z"
    },
    "jupyter": {
     "outputs_hidden": false
    },
    "papermill": {
     "duration": 0.905931,
     "end_time": "2024-05-06T05:17:25.690674",
     "exception": false,
     "start_time": "2024-05-06T05:17:24.784743",
     "status": "completed"
    },
    "tags": []
   },
   "outputs": [],
   "source": [
    "from sklearn.model_selection import train_test_split\n",
    "\n",
    "X_train, X_test, y_train, y_test = train_test_split(X, y, test_size = 0.2, random_state = 42)"
   ]
  },
  {
   "cell_type": "code",
   "execution_count": 20,
   "id": "216386b1",
   "metadata": {
    "_cell_guid": "491af40f-c463-4178-b2d9-a905d71fd3ab",
    "_uuid": "fd8ca9ed-c1ec-4c98-9989-35477e31da2e",
    "collapsed": false,
    "execution": {
     "iopub.execute_input": "2024-05-06T05:17:25.738361Z",
     "iopub.status.busy": "2024-05-06T05:17:25.737930Z",
     "iopub.status.idle": "2024-05-06T05:17:26.017635Z",
     "shell.execute_reply": "2024-05-06T05:17:26.016595Z"
    },
    "jupyter": {
     "outputs_hidden": false
    },
    "papermill": {
     "duration": 0.30649,
     "end_time": "2024-05-06T05:17:26.020093",
     "exception": false,
     "start_time": "2024-05-06T05:17:25.713603",
     "status": "completed"
    },
    "tags": []
   },
   "outputs": [],
   "source": [
    "from sklearn.linear_model import Ridge, Lasso, LinearRegression\n",
    "from sklearn.preprocessing import StandardScaler\n",
    "from sklearn.model_selection import cross_val_score, GridSearchCV\n",
    "from sklearn.pipeline import Pipeline\n",
    "from sklearn.metrics import mean_squared_error, r2_score\n",
    "from sklearn.ensemble import RandomForestRegressor"
   ]
  },
  {
   "cell_type": "code",
   "execution_count": 21,
   "id": "4b2ba144",
   "metadata": {
    "_cell_guid": "c6dc3675-c03e-47a7-a10a-a78d65bc7ef1",
    "_uuid": "fd6f142b-4de4-4cc8-9119-e0a6050f8481",
    "collapsed": false,
    "execution": {
     "iopub.execute_input": "2024-05-06T05:17:26.068047Z",
     "iopub.status.busy": "2024-05-06T05:17:26.067310Z",
     "iopub.status.idle": "2024-05-06T05:17:26.071201Z",
     "shell.execute_reply": "2024-05-06T05:17:26.070375Z"
    },
    "jupyter": {
     "outputs_hidden": false
    },
    "papermill": {
     "duration": 0.030657,
     "end_time": "2024-05-06T05:17:26.073357",
     "exception": false,
     "start_time": "2024-05-06T05:17:26.042700",
     "status": "completed"
    },
    "tags": []
   },
   "outputs": [],
   "source": [
    "# # Create a pipeline for scaling and instantiating the model\n",
    "# pipeline = Pipeline([('scaler', StandardScaler()),\n",
    "#                     ('ridge', Ridge(alpha = 0.1, solver = 'sag', tol = 0.001))])"
   ]
  },
  {
   "cell_type": "code",
   "execution_count": 22,
   "id": "f33230ee",
   "metadata": {
    "execution": {
     "iopub.execute_input": "2024-05-06T05:17:26.120059Z",
     "iopub.status.busy": "2024-05-06T05:17:26.119341Z",
     "iopub.status.idle": "2024-05-06T05:17:26.123181Z",
     "shell.execute_reply": "2024-05-06T05:17:26.122333Z"
    },
    "papermill": {
     "duration": 0.029385,
     "end_time": "2024-05-06T05:17:26.125325",
     "exception": false,
     "start_time": "2024-05-06T05:17:26.095940",
     "status": "completed"
    },
    "tags": []
   },
   "outputs": [],
   "source": [
    "# lasso_params = {\n",
    "#     'alpha':100, 'tol':0.001\n",
    "# }"
   ]
  },
  {
   "cell_type": "code",
   "execution_count": 23,
   "id": "a585958a",
   "metadata": {
    "execution": {
     "iopub.execute_input": "2024-05-06T05:17:26.172117Z",
     "iopub.status.busy": "2024-05-06T05:17:26.171415Z",
     "iopub.status.idle": "2024-05-06T05:17:26.175950Z",
     "shell.execute_reply": "2024-05-06T05:17:26.174794Z"
    },
    "papermill": {
     "duration": 0.030601,
     "end_time": "2024-05-06T05:17:26.178264",
     "exception": false,
     "start_time": "2024-05-06T05:17:26.147663",
     "status": "completed"
    },
    "tags": []
   },
   "outputs": [],
   "source": [
    "# lasso = Pipeline([('scaler', StandardScaler()),\n",
    "#                  ('lasso', Lasso(**lasso_params))])"
   ]
  },
  {
   "cell_type": "code",
   "execution_count": 24,
   "id": "5a5d3891",
   "metadata": {
    "execution": {
     "iopub.execute_input": "2024-05-06T05:17:26.224611Z",
     "iopub.status.busy": "2024-05-06T05:17:26.224249Z",
     "iopub.status.idle": "2024-05-06T05:17:26.229327Z",
     "shell.execute_reply": "2024-05-06T05:17:26.227997Z"
    },
    "papermill": {
     "duration": 0.03086,
     "end_time": "2024-05-06T05:17:26.231491",
     "exception": false,
     "start_time": "2024-05-06T05:17:26.200631",
     "status": "completed"
    },
    "tags": []
   },
   "outputs": [],
   "source": [
    "linear = Pipeline([('scaler', StandardScaler()),\n",
    "                  ('lin', LinearRegression())])"
   ]
  },
  {
   "cell_type": "code",
   "execution_count": 25,
   "id": "a64ed04c",
   "metadata": {
    "_cell_guid": "040577f6-4277-420b-ae30-f2c9b256fca8",
    "_uuid": "443cd0da-b79f-4095-8f6e-802b04458995",
    "collapsed": false,
    "execution": {
     "iopub.execute_input": "2024-05-06T05:17:26.277560Z",
     "iopub.status.busy": "2024-05-06T05:17:26.277160Z",
     "iopub.status.idle": "2024-05-06T05:17:26.281938Z",
     "shell.execute_reply": "2024-05-06T05:17:26.280623Z"
    },
    "jupyter": {
     "outputs_hidden": false
    },
    "papermill": {
     "duration": 0.030812,
     "end_time": "2024-05-06T05:17:26.284333",
     "exception": false,
     "start_time": "2024-05-06T05:17:26.253521",
     "status": "completed"
    },
    "tags": []
   },
   "outputs": [],
   "source": [
    "# param_grid = {\n",
    "#     'ridge__alpha':[0.001, 0.01, 0.1, 10, 50, 100],\n",
    "#     'ridge__fit_intercept':[True,False],\n",
    "#     'ridge__solver':['auto', 'svd', 'cholesky', 'lsqr', 'sparse_cg', 'sag'],\n",
    "#     'ridge__tol':[1e-4,1e-3,1e-2]\n",
    "# }"
   ]
  },
  {
   "cell_type": "code",
   "execution_count": 26,
   "id": "4a8eea7a",
   "metadata": {
    "execution": {
     "iopub.execute_input": "2024-05-06T05:17:26.333113Z",
     "iopub.status.busy": "2024-05-06T05:17:26.332712Z",
     "iopub.status.idle": "2024-05-06T05:17:26.337660Z",
     "shell.execute_reply": "2024-05-06T05:17:26.336521Z"
    },
    "papermill": {
     "duration": 0.032289,
     "end_time": "2024-05-06T05:17:26.339906",
     "exception": false,
     "start_time": "2024-05-06T05:17:26.307617",
     "status": "completed"
    },
    "tags": []
   },
   "outputs": [],
   "source": [
    "# param_grid = {\n",
    "#     'n_estimators': [700, 800,1000, 1200],\n",
    "#     'max_depth':[9, 12, 15],\n",
    "#     'min_samples_split': [2, 4, 6],\n",
    "#     'min_samples_leaf' : [2, 5, 7],\n",
    "# }, "
   ]
  },
  {
   "cell_type": "code",
   "execution_count": 27,
   "id": "ea3d6c0f",
   "metadata": {
    "execution": {
     "iopub.execute_input": "2024-05-06T05:17:26.386799Z",
     "iopub.status.busy": "2024-05-06T05:17:26.385734Z",
     "iopub.status.idle": "2024-05-06T05:17:26.390571Z",
     "shell.execute_reply": "2024-05-06T05:17:26.389473Z"
    },
    "papermill": {
     "duration": 0.031012,
     "end_time": "2024-05-06T05:17:26.392915",
     "exception": false,
     "start_time": "2024-05-06T05:17:26.361903",
     "status": "completed"
    },
    "tags": []
   },
   "outputs": [],
   "source": [
    "# rf = RandomForestRegressor()"
   ]
  },
  {
   "cell_type": "code",
   "execution_count": 28,
   "id": "28fc28a7",
   "metadata": {
    "_cell_guid": "cef2f8e5-8af7-4c86-8a1c-73ae5c9830b6",
    "_uuid": "44f01b94-da98-4116-8e06-8982a9d2347b",
    "collapsed": false,
    "execution": {
     "iopub.execute_input": "2024-05-06T05:17:26.439925Z",
     "iopub.status.busy": "2024-05-06T05:17:26.439510Z",
     "iopub.status.idle": "2024-05-06T05:17:26.443845Z",
     "shell.execute_reply": "2024-05-06T05:17:26.442702Z"
    },
    "jupyter": {
     "outputs_hidden": false
    },
    "papermill": {
     "duration": 0.031023,
     "end_time": "2024-05-06T05:17:26.446163",
     "exception": false,
     "start_time": "2024-05-06T05:17:26.415140",
     "status": "completed"
    },
    "tags": []
   },
   "outputs": [],
   "source": [
    "# grid_search = GridSearchCV(rf, param_grid, scoring = 'r2', cv = 4)"
   ]
  },
  {
   "cell_type": "code",
   "execution_count": 29,
   "id": "d828cdc4",
   "metadata": {
    "execution": {
     "iopub.execute_input": "2024-05-06T05:17:26.494883Z",
     "iopub.status.busy": "2024-05-06T05:17:26.494511Z",
     "iopub.status.idle": "2024-05-06T05:17:26.498186Z",
     "shell.execute_reply": "2024-05-06T05:17:26.497322Z"
    },
    "papermill": {
     "duration": 0.030702,
     "end_time": "2024-05-06T05:17:26.500335",
     "exception": false,
     "start_time": "2024-05-06T05:17:26.469633",
     "status": "completed"
    },
    "tags": []
   },
   "outputs": [],
   "source": [
    "# rf.fit(X_train, y_train)"
   ]
  },
  {
   "cell_type": "code",
   "execution_count": 30,
   "id": "6167c235",
   "metadata": {
    "_cell_guid": "085e8eb1-c7b3-4f9e-a38a-dea5faa91a65",
    "_uuid": "cc43b85e-0c17-4504-a2e4-40920819a97d",
    "collapsed": false,
    "execution": {
     "iopub.execute_input": "2024-05-06T05:17:26.547794Z",
     "iopub.status.busy": "2024-05-06T05:17:26.547419Z",
     "iopub.status.idle": "2024-05-06T05:17:26.551726Z",
     "shell.execute_reply": "2024-05-06T05:17:26.550411Z"
    },
    "jupyter": {
     "outputs_hidden": false
    },
    "papermill": {
     "duration": 0.031016,
     "end_time": "2024-05-06T05:17:26.554095",
     "exception": false,
     "start_time": "2024-05-06T05:17:26.523079",
     "status": "completed"
    },
    "tags": []
   },
   "outputs": [],
   "source": [
    "# pipeline.fit(X_train, y_train)\n",
    "\n",
    "# # # Get the best parameters and model\n",
    "# # # best_param = grid_search.best_params_\n",
    "# # # print(best_param)\n",
    "# # # best_model = grid_search.best_estimator_\n",
    "# # # print(best_model)"
   ]
  },
  {
   "cell_type": "code",
   "execution_count": 31,
   "id": "6035a291",
   "metadata": {
    "execution": {
     "iopub.execute_input": "2024-05-06T05:17:26.600513Z",
     "iopub.status.busy": "2024-05-06T05:17:26.600120Z",
     "iopub.status.idle": "2024-05-06T05:17:26.604433Z",
     "shell.execute_reply": "2024-05-06T05:17:26.603293Z"
    },
    "papermill": {
     "duration": 0.030836,
     "end_time": "2024-05-06T05:17:26.606639",
     "exception": false,
     "start_time": "2024-05-06T05:17:26.575803",
     "status": "completed"
    },
    "tags": []
   },
   "outputs": [],
   "source": [
    "# lasso.fit(X_train,y_train)"
   ]
  },
  {
   "cell_type": "code",
   "execution_count": 32,
   "id": "f08b57a3",
   "metadata": {
    "execution": {
     "iopub.execute_input": "2024-05-06T05:17:26.652766Z",
     "iopub.status.busy": "2024-05-06T05:17:26.652417Z",
     "iopub.status.idle": "2024-05-06T05:17:29.676510Z",
     "shell.execute_reply": "2024-05-06T05:17:29.675294Z"
    },
    "papermill": {
     "duration": 3.050228,
     "end_time": "2024-05-06T05:17:29.679001",
     "exception": false,
     "start_time": "2024-05-06T05:17:26.628773",
     "status": "completed"
    },
    "tags": []
   },
   "outputs": [
    {
     "data": {
      "text/html": [
       "<style>#sk-container-id-1 {color: black;background-color: white;}#sk-container-id-1 pre{padding: 0;}#sk-container-id-1 div.sk-toggleable {background-color: white;}#sk-container-id-1 label.sk-toggleable__label {cursor: pointer;display: block;width: 100%;margin-bottom: 0;padding: 0.3em;box-sizing: border-box;text-align: center;}#sk-container-id-1 label.sk-toggleable__label-arrow:before {content: \"▸\";float: left;margin-right: 0.25em;color: #696969;}#sk-container-id-1 label.sk-toggleable__label-arrow:hover:before {color: black;}#sk-container-id-1 div.sk-estimator:hover label.sk-toggleable__label-arrow:before {color: black;}#sk-container-id-1 div.sk-toggleable__content {max-height: 0;max-width: 0;overflow: hidden;text-align: left;background-color: #f0f8ff;}#sk-container-id-1 div.sk-toggleable__content pre {margin: 0.2em;color: black;border-radius: 0.25em;background-color: #f0f8ff;}#sk-container-id-1 input.sk-toggleable__control:checked~div.sk-toggleable__content {max-height: 200px;max-width: 100%;overflow: auto;}#sk-container-id-1 input.sk-toggleable__control:checked~label.sk-toggleable__label-arrow:before {content: \"▾\";}#sk-container-id-1 div.sk-estimator input.sk-toggleable__control:checked~label.sk-toggleable__label {background-color: #d4ebff;}#sk-container-id-1 div.sk-label input.sk-toggleable__control:checked~label.sk-toggleable__label {background-color: #d4ebff;}#sk-container-id-1 input.sk-hidden--visually {border: 0;clip: rect(1px 1px 1px 1px);clip: rect(1px, 1px, 1px, 1px);height: 1px;margin: -1px;overflow: hidden;padding: 0;position: absolute;width: 1px;}#sk-container-id-1 div.sk-estimator {font-family: monospace;background-color: #f0f8ff;border: 1px dotted black;border-radius: 0.25em;box-sizing: border-box;margin-bottom: 0.5em;}#sk-container-id-1 div.sk-estimator:hover {background-color: #d4ebff;}#sk-container-id-1 div.sk-parallel-item::after {content: \"\";width: 100%;border-bottom: 1px solid gray;flex-grow: 1;}#sk-container-id-1 div.sk-label:hover label.sk-toggleable__label {background-color: #d4ebff;}#sk-container-id-1 div.sk-serial::before {content: \"\";position: absolute;border-left: 1px solid gray;box-sizing: border-box;top: 0;bottom: 0;left: 50%;z-index: 0;}#sk-container-id-1 div.sk-serial {display: flex;flex-direction: column;align-items: center;background-color: white;padding-right: 0.2em;padding-left: 0.2em;position: relative;}#sk-container-id-1 div.sk-item {position: relative;z-index: 1;}#sk-container-id-1 div.sk-parallel {display: flex;align-items: stretch;justify-content: center;background-color: white;position: relative;}#sk-container-id-1 div.sk-item::before, #sk-container-id-1 div.sk-parallel-item::before {content: \"\";position: absolute;border-left: 1px solid gray;box-sizing: border-box;top: 0;bottom: 0;left: 50%;z-index: -1;}#sk-container-id-1 div.sk-parallel-item {display: flex;flex-direction: column;z-index: 1;position: relative;background-color: white;}#sk-container-id-1 div.sk-parallel-item:first-child::after {align-self: flex-end;width: 50%;}#sk-container-id-1 div.sk-parallel-item:last-child::after {align-self: flex-start;width: 50%;}#sk-container-id-1 div.sk-parallel-item:only-child::after {width: 0;}#sk-container-id-1 div.sk-dashed-wrapped {border: 1px dashed gray;margin: 0 0.4em 0.5em 0.4em;box-sizing: border-box;padding-bottom: 0.4em;background-color: white;}#sk-container-id-1 div.sk-label label {font-family: monospace;font-weight: bold;display: inline-block;line-height: 1.2em;}#sk-container-id-1 div.sk-label-container {text-align: center;}#sk-container-id-1 div.sk-container {/* jupyter's `normalize.less` sets `[hidden] { display: none; }` but bootstrap.min.css set `[hidden] { display: none !important; }` so we also need the `!important` here to be able to override the default hidden behavior on the sphinx rendered scikit-learn.org. See: https://github.com/scikit-learn/scikit-learn/issues/21755 */display: inline-block !important;position: relative;}#sk-container-id-1 div.sk-text-repr-fallback {display: none;}</style><div id=\"sk-container-id-1\" class=\"sk-top-container\"><div class=\"sk-text-repr-fallback\"><pre>Pipeline(steps=[(&#x27;scaler&#x27;, StandardScaler()), (&#x27;lin&#x27;, LinearRegression())])</pre><b>In a Jupyter environment, please rerun this cell to show the HTML representation or trust the notebook. <br />On GitHub, the HTML representation is unable to render, please try loading this page with nbviewer.org.</b></div><div class=\"sk-container\" hidden><div class=\"sk-item sk-dashed-wrapped\"><div class=\"sk-label-container\"><div class=\"sk-label sk-toggleable\"><input class=\"sk-toggleable__control sk-hidden--visually\" id=\"sk-estimator-id-1\" type=\"checkbox\" ><label for=\"sk-estimator-id-1\" class=\"sk-toggleable__label sk-toggleable__label-arrow\">Pipeline</label><div class=\"sk-toggleable__content\"><pre>Pipeline(steps=[(&#x27;scaler&#x27;, StandardScaler()), (&#x27;lin&#x27;, LinearRegression())])</pre></div></div></div><div class=\"sk-serial\"><div class=\"sk-item\"><div class=\"sk-estimator sk-toggleable\"><input class=\"sk-toggleable__control sk-hidden--visually\" id=\"sk-estimator-id-2\" type=\"checkbox\" ><label for=\"sk-estimator-id-2\" class=\"sk-toggleable__label sk-toggleable__label-arrow\">StandardScaler</label><div class=\"sk-toggleable__content\"><pre>StandardScaler()</pre></div></div></div><div class=\"sk-item\"><div class=\"sk-estimator sk-toggleable\"><input class=\"sk-toggleable__control sk-hidden--visually\" id=\"sk-estimator-id-3\" type=\"checkbox\" ><label for=\"sk-estimator-id-3\" class=\"sk-toggleable__label sk-toggleable__label-arrow\">LinearRegression</label><div class=\"sk-toggleable__content\"><pre>LinearRegression()</pre></div></div></div></div></div></div></div>"
      ],
      "text/plain": [
       "Pipeline(steps=[('scaler', StandardScaler()), ('lin', LinearRegression())])"
      ]
     },
     "execution_count": 32,
     "metadata": {},
     "output_type": "execute_result"
    }
   ],
   "source": [
    "linear.fit(X_train,y_train)"
   ]
  },
  {
   "cell_type": "code",
   "execution_count": 33,
   "id": "43aac3da",
   "metadata": {
    "_cell_guid": "304491e0-d6ca-48aa-b08a-30f89c285ee9",
    "_uuid": "62bd5191-8a69-4ec2-b2b8-2e033e7d218e",
    "collapsed": false,
    "execution": {
     "iopub.execute_input": "2024-05-06T05:17:29.727470Z",
     "iopub.status.busy": "2024-05-06T05:17:29.727065Z",
     "iopub.status.idle": "2024-05-06T05:17:29.733302Z",
     "shell.execute_reply": "2024-05-06T05:17:29.732425Z"
    },
    "jupyter": {
     "outputs_hidden": false
    },
    "papermill": {
     "duration": 0.033466,
     "end_time": "2024-05-06T05:17:29.735459",
     "exception": false,
     "start_time": "2024-05-06T05:17:29.701993",
     "status": "completed"
    },
    "tags": []
   },
   "outputs": [
    {
     "data": {
      "text/plain": [
       "\"\\n{'ridge__alpha': 0.1, 'ridge__fit_intercept': True, 'ridge__solver': 'sag', 'ridge__tol': 0.001}\\nPipeline(steps=[('scaler', StandardScaler()),\\n                ('ridge', Ridge(alpha=0.1, solver='sag', tol=0.001))])\\n\""
      ]
     },
     "execution_count": 33,
     "metadata": {},
     "output_type": "execute_result"
    }
   ],
   "source": [
    "'''\n",
    "{'ridge__alpha': 0.1, 'ridge__fit_intercept': True, 'ridge__solver': 'sag', 'ridge__tol': 0.001}\n",
    "Pipeline(steps=[('scaler', StandardScaler()),\n",
    "                ('ridge', Ridge(alpha=0.1, solver='sag', tol=0.001))])\n",
    "'''"
   ]
  },
  {
   "cell_type": "code",
   "execution_count": 34,
   "id": "f3365215",
   "metadata": {
    "execution": {
     "iopub.execute_input": "2024-05-06T05:17:29.785279Z",
     "iopub.status.busy": "2024-05-06T05:17:29.784615Z",
     "iopub.status.idle": "2024-05-06T05:17:29.788321Z",
     "shell.execute_reply": "2024-05-06T05:17:29.787535Z"
    },
    "papermill": {
     "duration": 0.031259,
     "end_time": "2024-05-06T05:17:29.790582",
     "exception": false,
     "start_time": "2024-05-06T05:17:29.759323",
     "status": "completed"
    },
    "tags": []
   },
   "outputs": [],
   "source": [
    "# # # Use cross validation to evaluate the model\n",
    "# score = cross_val_score(rf, X_train, y_train, scoring = 'r2', n_jobs = -1, cv = 5)\n",
    "# gs_score = score.mean()"
   ]
  },
  {
   "cell_type": "code",
   "execution_count": 35,
   "id": "c87ed143",
   "metadata": {
    "execution": {
     "iopub.execute_input": "2024-05-06T05:17:29.837955Z",
     "iopub.status.busy": "2024-05-06T05:17:29.837266Z",
     "iopub.status.idle": "2024-05-06T05:17:29.841526Z",
     "shell.execute_reply": "2024-05-06T05:17:29.840517Z"
    },
    "papermill": {
     "duration": 0.030178,
     "end_time": "2024-05-06T05:17:29.843794",
     "exception": false,
     "start_time": "2024-05-06T05:17:29.813616",
     "status": "completed"
    },
    "tags": []
   },
   "outputs": [],
   "source": [
    "# gs_score"
   ]
  },
  {
   "cell_type": "code",
   "execution_count": 36,
   "id": "e5af55e3",
   "metadata": {
    "_cell_guid": "02f137bf-ed55-4998-9492-a27a8e4a8885",
    "_uuid": "f5a2acd5-1dbf-4610-9805-7833f8a36aaa",
    "collapsed": false,
    "execution": {
     "iopub.execute_input": "2024-05-06T05:17:29.891442Z",
     "iopub.status.busy": "2024-05-06T05:17:29.890365Z",
     "iopub.status.idle": "2024-05-06T05:17:29.895306Z",
     "shell.execute_reply": "2024-05-06T05:17:29.894108Z"
    },
    "jupyter": {
     "outputs_hidden": false
    },
    "papermill": {
     "duration": 0.031128,
     "end_time": "2024-05-06T05:17:29.897631",
     "exception": false,
     "start_time": "2024-05-06T05:17:29.866503",
     "status": "completed"
    },
    "tags": []
   },
   "outputs": [],
   "source": [
    "# # Use cross validation to evaluate the model\n",
    "# score = cross_val_score(pipeline, X_train, y_train, scoring = 'r2', n_jobs = -1, cv = 5, )\n",
    "# pipeline_score = score.mean()"
   ]
  },
  {
   "cell_type": "code",
   "execution_count": 37,
   "id": "7c86120a",
   "metadata": {
    "_cell_guid": "0eccbdfb-7928-4df0-80b6-3fc8cfd841ca",
    "_uuid": "931f06dd-a536-4c1a-ac20-6e3ffee1881c",
    "collapsed": false,
    "execution": {
     "iopub.execute_input": "2024-05-06T05:17:29.945553Z",
     "iopub.status.busy": "2024-05-06T05:17:29.944468Z",
     "iopub.status.idle": "2024-05-06T05:17:29.948594Z",
     "shell.execute_reply": "2024-05-06T05:17:29.947849Z"
    },
    "jupyter": {
     "outputs_hidden": false
    },
    "papermill": {
     "duration": 0.030682,
     "end_time": "2024-05-06T05:17:29.950729",
     "exception": false,
     "start_time": "2024-05-06T05:17:29.920047",
     "status": "completed"
    },
    "tags": []
   },
   "outputs": [],
   "source": [
    "# pipeline_score"
   ]
  },
  {
   "cell_type": "code",
   "execution_count": 38,
   "id": "7758e67e",
   "metadata": {
    "execution": {
     "iopub.execute_input": "2024-05-06T05:17:29.999088Z",
     "iopub.status.busy": "2024-05-06T05:17:29.998495Z",
     "iopub.status.idle": "2024-05-06T05:17:30.003026Z",
     "shell.execute_reply": "2024-05-06T05:17:30.001883Z"
    },
    "papermill": {
     "duration": 0.032118,
     "end_time": "2024-05-06T05:17:30.005700",
     "exception": false,
     "start_time": "2024-05-06T05:17:29.973582",
     "status": "completed"
    },
    "tags": []
   },
   "outputs": [],
   "source": [
    "# # Use cross validation to evaluate the model\n",
    "# score = cross_val_score(lasso, X_train, y_train, scoring = 'r2', n_jobs = -1, cv = 5, )\n",
    "# lasso_score = score.mean()"
   ]
  },
  {
   "cell_type": "code",
   "execution_count": 39,
   "id": "42a35bd1",
   "metadata": {
    "execution": {
     "iopub.execute_input": "2024-05-06T05:17:30.057187Z",
     "iopub.status.busy": "2024-05-06T05:17:30.056518Z",
     "iopub.status.idle": "2024-05-06T05:17:30.060619Z",
     "shell.execute_reply": "2024-05-06T05:17:30.059560Z"
    },
    "papermill": {
     "duration": 0.034826,
     "end_time": "2024-05-06T05:17:30.062986",
     "exception": false,
     "start_time": "2024-05-06T05:17:30.028160",
     "status": "completed"
    },
    "tags": []
   },
   "outputs": [],
   "source": [
    "# lasso_score"
   ]
  },
  {
   "cell_type": "code",
   "execution_count": 40,
   "id": "7b07d407",
   "metadata": {
    "execution": {
     "iopub.execute_input": "2024-05-06T05:17:30.110751Z",
     "iopub.status.busy": "2024-05-06T05:17:30.110099Z",
     "iopub.status.idle": "2024-05-06T05:17:40.329970Z",
     "shell.execute_reply": "2024-05-06T05:17:40.328699Z"
    },
    "papermill": {
     "duration": 10.247201,
     "end_time": "2024-05-06T05:17:40.332648",
     "exception": false,
     "start_time": "2024-05-06T05:17:30.085447",
     "status": "completed"
    },
    "tags": []
   },
   "outputs": [],
   "source": [
    "# Use cross validation to evaluate the model\n",
    "score = cross_val_score(linear, X_train, y_train, scoring = 'r2', n_jobs = -1, cv = 5, )\n",
    "linear_score = score.mean()"
   ]
  },
  {
   "cell_type": "code",
   "execution_count": 41,
   "id": "28529103",
   "metadata": {
    "execution": {
     "iopub.execute_input": "2024-05-06T05:17:40.381724Z",
     "iopub.status.busy": "2024-05-06T05:17:40.380574Z",
     "iopub.status.idle": "2024-05-06T05:17:40.387999Z",
     "shell.execute_reply": "2024-05-06T05:17:40.387109Z"
    },
    "papermill": {
     "duration": 0.034661,
     "end_time": "2024-05-06T05:17:40.390016",
     "exception": false,
     "start_time": "2024-05-06T05:17:40.355355",
     "status": "completed"
    },
    "tags": []
   },
   "outputs": [
    {
     "data": {
      "text/plain": [
       "0.8450335594868493"
      ]
     },
     "execution_count": 41,
     "metadata": {},
     "output_type": "execute_result"
    }
   ],
   "source": [
    "linear_score"
   ]
  },
  {
   "cell_type": "code",
   "execution_count": 42,
   "id": "818375d1",
   "metadata": {
    "_cell_guid": "de3d6932-0446-4c01-aa85-8f20d4744a1f",
    "_uuid": "badbf50f-1570-48c1-9c7b-888cb5e5a429",
    "collapsed": false,
    "execution": {
     "iopub.execute_input": "2024-05-06T05:17:40.437814Z",
     "iopub.status.busy": "2024-05-06T05:17:40.436749Z",
     "iopub.status.idle": "2024-05-06T05:17:40.520589Z",
     "shell.execute_reply": "2024-05-06T05:17:40.519096Z"
    },
    "jupyter": {
     "outputs_hidden": false
    },
    "papermill": {
     "duration": 0.111695,
     "end_time": "2024-05-06T05:17:40.524095",
     "exception": false,
     "start_time": "2024-05-06T05:17:40.412400",
     "status": "completed"
    },
    "tags": []
   },
   "outputs": [],
   "source": [
    "# Predict the model\n",
    "y_pred = linear.predict(X_test)"
   ]
  },
  {
   "cell_type": "code",
   "execution_count": 43,
   "id": "2f287142",
   "metadata": {
    "_cell_guid": "98797275-06f1-4a0a-b477-59e5b09276df",
    "_uuid": "e9b51a3e-3f06-40ce-bab7-88332d0a83ea",
    "collapsed": false,
    "execution": {
     "iopub.execute_input": "2024-05-06T05:17:40.609475Z",
     "iopub.status.busy": "2024-05-06T05:17:40.608867Z",
     "iopub.status.idle": "2024-05-06T05:17:40.614802Z",
     "shell.execute_reply": "2024-05-06T05:17:40.613579Z"
    },
    "jupyter": {
     "outputs_hidden": false
    },
    "papermill": {
     "duration": 0.052016,
     "end_time": "2024-05-06T05:17:40.617701",
     "exception": false,
     "start_time": "2024-05-06T05:17:40.565685",
     "status": "completed"
    },
    "tags": []
   },
   "outputs": [],
   "source": [
    "# pipeline_test_mse = mean_squared_error(y_test, y_pred)\n",
    "# pipeline_test_mse"
   ]
  },
  {
   "cell_type": "code",
   "execution_count": 44,
   "id": "56b7c664",
   "metadata": {
    "_cell_guid": "ed323728-4f0b-4066-b55d-66edde15b0fb",
    "_uuid": "49e85bf0-c4b8-4e61-9d01-db3f4f8f0823",
    "collapsed": false,
    "execution": {
     "iopub.execute_input": "2024-05-06T05:17:40.673058Z",
     "iopub.status.busy": "2024-05-06T05:17:40.672695Z",
     "iopub.status.idle": "2024-05-06T05:17:40.682237Z",
     "shell.execute_reply": "2024-05-06T05:17:40.681170Z"
    },
    "jupyter": {
     "outputs_hidden": false
    },
    "papermill": {
     "duration": 0.035789,
     "end_time": "2024-05-06T05:17:40.684400",
     "exception": false,
     "start_time": "2024-05-06T05:17:40.648611",
     "status": "completed"
    },
    "tags": []
   },
   "outputs": [
    {
     "data": {
      "text/plain": [
       "0.8449592473240668"
      ]
     },
     "execution_count": 44,
     "metadata": {},
     "output_type": "execute_result"
    }
   ],
   "source": [
    "# Our metric which is going to be used for checking\n",
    "gs_r2 = r2_score(y_test, y_pred)\n",
    "gs_r2"
   ]
  },
  {
   "cell_type": "markdown",
   "id": "ce4e1f2d",
   "metadata": {
    "_cell_guid": "3ab7cbe4-0ece-4ffa-bb1f-32326688d9e2",
    "_uuid": "29a16df9-5f24-4b4d-8b9d-f97e7f790d05",
    "papermill": {
     "duration": 0.022977,
     "end_time": "2024-05-06T05:17:40.730169",
     "exception": false,
     "start_time": "2024-05-06T05:17:40.707192",
     "status": "completed"
    },
    "tags": []
   },
   "source": [
    "### 0.844!!! Looks decent for a first attempt..."
   ]
  },
  {
   "cell_type": "code",
   "execution_count": 45,
   "id": "7ce49432",
   "metadata": {
    "_cell_guid": "74b1d9e0-ccf3-4b08-826b-93bc21d720ff",
    "_uuid": "0354681f-bdb6-425f-9441-081042ab08b8",
    "collapsed": false,
    "execution": {
     "iopub.execute_input": "2024-05-06T05:17:40.778649Z",
     "iopub.status.busy": "2024-05-06T05:17:40.777955Z",
     "iopub.status.idle": "2024-05-06T05:17:41.028274Z",
     "shell.execute_reply": "2024-05-06T05:17:41.026817Z"
    },
    "jupyter": {
     "outputs_hidden": false
    },
    "papermill": {
     "duration": 0.277663,
     "end_time": "2024-05-06T05:17:41.031315",
     "exception": false,
     "start_time": "2024-05-06T05:17:40.753652",
     "status": "completed"
    },
    "tags": []
   },
   "outputs": [],
   "source": [
    "# Prediction on test data\n",
    "pred = linear.predict(test)"
   ]
  },
  {
   "cell_type": "code",
   "execution_count": 46,
   "id": "522f1569",
   "metadata": {
    "_cell_guid": "1c697fff-802c-4fcf-89c1-0937d9361448",
    "_uuid": "ff1dcb94-7a47-4543-9919-e5a44b0f7599",
    "collapsed": false,
    "execution": {
     "iopub.execute_input": "2024-05-06T05:17:41.114905Z",
     "iopub.status.busy": "2024-05-06T05:17:41.114332Z",
     "iopub.status.idle": "2024-05-06T05:17:42.784519Z",
     "shell.execute_reply": "2024-05-06T05:17:42.783375Z"
    },
    "jupyter": {
     "outputs_hidden": false
    },
    "papermill": {
     "duration": 1.715187,
     "end_time": "2024-05-06T05:17:42.787062",
     "exception": false,
     "start_time": "2024-05-06T05:17:41.071875",
     "status": "completed"
    },
    "tags": []
   },
   "outputs": [],
   "source": [
    "# Now the output \n",
    "output = pd.DataFrame({'id' : test.id, 'FloodProbability' : pred})\n",
    "output.to_csv('submission.csv', index = False)"
   ]
  },
  {
   "cell_type": "code",
   "execution_count": 47,
   "id": "5ee87e2e",
   "metadata": {
    "_cell_guid": "4e982abf-8419-4dbd-8e51-ec99a2c99af2",
    "_uuid": "5580cb2c-278d-488c-b5d6-405c4390faac",
    "collapsed": false,
    "execution": {
     "iopub.execute_input": "2024-05-06T05:17:42.835472Z",
     "iopub.status.busy": "2024-05-06T05:17:42.834835Z",
     "iopub.status.idle": "2024-05-06T05:17:42.846800Z",
     "shell.execute_reply": "2024-05-06T05:17:42.845571Z"
    },
    "jupyter": {
     "outputs_hidden": false
    },
    "papermill": {
     "duration": 0.039103,
     "end_time": "2024-05-06T05:17:42.849454",
     "exception": false,
     "start_time": "2024-05-06T05:17:42.810351",
     "status": "completed"
    },
    "tags": []
   },
   "outputs": [
    {
     "data": {
      "text/html": [
       "<div>\n",
       "<style scoped>\n",
       "    .dataframe tbody tr th:only-of-type {\n",
       "        vertical-align: middle;\n",
       "    }\n",
       "\n",
       "    .dataframe tbody tr th {\n",
       "        vertical-align: top;\n",
       "    }\n",
       "\n",
       "    .dataframe thead th {\n",
       "        text-align: right;\n",
       "    }\n",
       "</style>\n",
       "<table border=\"1\" class=\"dataframe\">\n",
       "  <thead>\n",
       "    <tr style=\"text-align: right;\">\n",
       "      <th></th>\n",
       "      <th>id</th>\n",
       "      <th>FloodProbability</th>\n",
       "    </tr>\n",
       "  </thead>\n",
       "  <tbody>\n",
       "    <tr>\n",
       "      <th>0</th>\n",
       "      <td>1117957</td>\n",
       "      <td>0.574377</td>\n",
       "    </tr>\n",
       "    <tr>\n",
       "      <th>1</th>\n",
       "      <td>1117958</td>\n",
       "      <td>0.455075</td>\n",
       "    </tr>\n",
       "    <tr>\n",
       "      <th>2</th>\n",
       "      <td>1117959</td>\n",
       "      <td>0.454755</td>\n",
       "    </tr>\n",
       "    <tr>\n",
       "      <th>3</th>\n",
       "      <td>1117960</td>\n",
       "      <td>0.466517</td>\n",
       "    </tr>\n",
       "    <tr>\n",
       "      <th>4</th>\n",
       "      <td>1117961</td>\n",
       "      <td>0.466690</td>\n",
       "    </tr>\n",
       "    <tr>\n",
       "      <th>...</th>\n",
       "      <td>...</td>\n",
       "      <td>...</td>\n",
       "    </tr>\n",
       "    <tr>\n",
       "      <th>745300</th>\n",
       "      <td>1863257</td>\n",
       "      <td>0.477455</td>\n",
       "    </tr>\n",
       "    <tr>\n",
       "      <th>745301</th>\n",
       "      <td>1863258</td>\n",
       "      <td>0.450226</td>\n",
       "    </tr>\n",
       "    <tr>\n",
       "      <th>745302</th>\n",
       "      <td>1863259</td>\n",
       "      <td>0.624909</td>\n",
       "    </tr>\n",
       "    <tr>\n",
       "      <th>745303</th>\n",
       "      <td>1863260</td>\n",
       "      <td>0.551579</td>\n",
       "    </tr>\n",
       "    <tr>\n",
       "      <th>745304</th>\n",
       "      <td>1863261</td>\n",
       "      <td>0.512224</td>\n",
       "    </tr>\n",
       "  </tbody>\n",
       "</table>\n",
       "<p>745305 rows × 2 columns</p>\n",
       "</div>"
      ],
      "text/plain": [
       "             id  FloodProbability\n",
       "0       1117957          0.574377\n",
       "1       1117958          0.455075\n",
       "2       1117959          0.454755\n",
       "3       1117960          0.466517\n",
       "4       1117961          0.466690\n",
       "...         ...               ...\n",
       "745300  1863257          0.477455\n",
       "745301  1863258          0.450226\n",
       "745302  1863259          0.624909\n",
       "745303  1863260          0.551579\n",
       "745304  1863261          0.512224\n",
       "\n",
       "[745305 rows x 2 columns]"
      ]
     },
     "execution_count": 47,
     "metadata": {},
     "output_type": "execute_result"
    }
   ],
   "source": [
    "output"
   ]
  },
  {
   "cell_type": "code",
   "execution_count": null,
   "id": "6186b2b5",
   "metadata": {
    "_cell_guid": "8f6081aa-59a6-40d9-ad46-17adcc4486ec",
    "_uuid": "01545a56-7c43-4d07-b3e7-6330404c37b5",
    "collapsed": false,
    "jupyter": {
     "outputs_hidden": false
    },
    "papermill": {
     "duration": 0.023542,
     "end_time": "2024-05-06T05:17:42.895945",
     "exception": false,
     "start_time": "2024-05-06T05:17:42.872403",
     "status": "completed"
    },
    "tags": []
   },
   "outputs": [],
   "source": []
  }
 ],
 "metadata": {
  "kaggle": {
   "accelerator": "none",
   "dataSources": [
    {
     "databundleVersionId": 8121328,
     "sourceId": 73278,
     "sourceType": "competition"
    }
   ],
   "dockerImageVersionId": 30698,
   "isGpuEnabled": false,
   "isInternetEnabled": true,
   "language": "python",
   "sourceType": "notebook"
  },
  "kernelspec": {
   "display_name": "Python 3",
   "language": "python",
   "name": "python3"
  },
  "language_info": {
   "codemirror_mode": {
    "name": "ipython",
    "version": 3
   },
   "file_extension": ".py",
   "mimetype": "text/x-python",
   "name": "python",
   "nbconvert_exporter": "python",
   "pygments_lexer": "ipython3",
   "version": "3.10.13"
  },
  "papermill": {
   "default_parameters": {},
   "duration": 46.419968,
   "end_time": "2024-05-06T05:17:45.541021",
   "environment_variables": {},
   "exception": null,
   "input_path": "__notebook__.ipynb",
   "output_path": "__notebook__.ipynb",
   "parameters": {},
   "start_time": "2024-05-06T05:16:59.121053",
   "version": "2.5.0"
  }
 },
 "nbformat": 4,
 "nbformat_minor": 5
}
