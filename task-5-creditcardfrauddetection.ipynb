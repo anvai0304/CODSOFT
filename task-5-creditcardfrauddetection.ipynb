{
 "cells": [
  {
   "cell_type": "code",
   "execution_count": 1,
   "id": "e51aa148",
   "metadata": {
    "_cell_guid": "b1076dfc-b9ad-4769-8c92-a6c4dae69d19",
    "_uuid": "8f2839f25d086af736a60e9eeb907d3b93b6e0e5",
    "execution": {
     "iopub.execute_input": "2024-01-13T16:24:29.332306Z",
     "iopub.status.busy": "2024-01-13T16:24:29.331905Z",
     "iopub.status.idle": "2024-01-13T16:24:30.949349Z",
     "shell.execute_reply": "2024-01-13T16:24:30.948132Z"
    },
    "papermill": {
     "duration": 1.630286,
     "end_time": "2024-01-13T16:24:30.952136",
     "exception": false,
     "start_time": "2024-01-13T16:24:29.321850",
     "status": "completed"
    },
    "tags": []
   },
   "outputs": [],
   "source": [
    "import numpy as np\n",
    "import pandas as pd\n",
    "import matplotlib.pyplot as plt\n",
    "%matplotlib inline\n",
    "import seaborn as sns"
   ]
  },
  {
   "cell_type": "markdown",
   "id": "0ac0a350",
   "metadata": {
    "papermill": {
     "duration": 0.007833,
     "end_time": "2024-01-13T16:24:30.968409",
     "exception": false,
     "start_time": "2024-01-13T16:24:30.960576",
     "status": "completed"
    },
    "tags": []
   },
   "source": [
    "### Load The Data"
   ]
  },
  {
   "cell_type": "code",
   "execution_count": 2,
   "id": "0b91f2c5",
   "metadata": {
    "execution": {
     "iopub.execute_input": "2024-01-13T16:24:30.986298Z",
     "iopub.status.busy": "2024-01-13T16:24:30.985732Z",
     "iopub.status.idle": "2024-01-13T16:24:35.293521Z",
     "shell.execute_reply": "2024-01-13T16:24:35.292320Z"
    },
    "papermill": {
     "duration": 4.320266,
     "end_time": "2024-01-13T16:24:35.296770",
     "exception": false,
     "start_time": "2024-01-13T16:24:30.976504",
     "status": "completed"
    },
    "tags": []
   },
   "outputs": [],
   "source": [
    "card = pd.read_csv('/kaggle/input/credit-card-dataset/creditcard.csv')"
   ]
  },
  {
   "cell_type": "code",
   "execution_count": 3,
   "id": "fa762d52",
   "metadata": {
    "execution": {
     "iopub.execute_input": "2024-01-13T16:24:35.314761Z",
     "iopub.status.busy": "2024-01-13T16:24:35.314368Z",
     "iopub.status.idle": "2024-01-13T16:24:35.323198Z",
     "shell.execute_reply": "2024-01-13T16:24:35.322055Z"
    },
    "papermill": {
     "duration": 0.020586,
     "end_time": "2024-01-13T16:24:35.325595",
     "exception": false,
     "start_time": "2024-01-13T16:24:35.305009",
     "status": "completed"
    },
    "tags": []
   },
   "outputs": [
    {
     "data": {
      "text/plain": [
       "(284807, 31)"
      ]
     },
     "execution_count": 3,
     "metadata": {},
     "output_type": "execute_result"
    }
   ],
   "source": [
    "card.shape"
   ]
  },
  {
   "cell_type": "code",
   "execution_count": 4,
   "id": "da65eb1a",
   "metadata": {
    "execution": {
     "iopub.execute_input": "2024-01-13T16:24:35.343972Z",
     "iopub.status.busy": "2024-01-13T16:24:35.343296Z",
     "iopub.status.idle": "2024-01-13T16:24:35.381682Z",
     "shell.execute_reply": "2024-01-13T16:24:35.380554Z"
    },
    "papermill": {
     "duration": 0.049945,
     "end_time": "2024-01-13T16:24:35.383911",
     "exception": false,
     "start_time": "2024-01-13T16:24:35.333966",
     "status": "completed"
    },
    "tags": []
   },
   "outputs": [
    {
     "data": {
      "text/html": [
       "<div>\n",
       "<style scoped>\n",
       "    .dataframe tbody tr th:only-of-type {\n",
       "        vertical-align: middle;\n",
       "    }\n",
       "\n",
       "    .dataframe tbody tr th {\n",
       "        vertical-align: top;\n",
       "    }\n",
       "\n",
       "    .dataframe thead th {\n",
       "        text-align: right;\n",
       "    }\n",
       "</style>\n",
       "<table border=\"1\" class=\"dataframe\">\n",
       "  <thead>\n",
       "    <tr style=\"text-align: right;\">\n",
       "      <th></th>\n",
       "      <th>Time</th>\n",
       "      <th>V1</th>\n",
       "      <th>V2</th>\n",
       "      <th>V3</th>\n",
       "      <th>V4</th>\n",
       "      <th>V5</th>\n",
       "      <th>V6</th>\n",
       "      <th>V7</th>\n",
       "      <th>V8</th>\n",
       "      <th>V9</th>\n",
       "      <th>...</th>\n",
       "      <th>V21</th>\n",
       "      <th>V22</th>\n",
       "      <th>V23</th>\n",
       "      <th>V24</th>\n",
       "      <th>V25</th>\n",
       "      <th>V26</th>\n",
       "      <th>V27</th>\n",
       "      <th>V28</th>\n",
       "      <th>Amount</th>\n",
       "      <th>Class</th>\n",
       "    </tr>\n",
       "  </thead>\n",
       "  <tbody>\n",
       "    <tr>\n",
       "      <th>0</th>\n",
       "      <td>0.0</td>\n",
       "      <td>-1.359807</td>\n",
       "      <td>-0.072781</td>\n",
       "      <td>2.536347</td>\n",
       "      <td>1.378155</td>\n",
       "      <td>-0.338321</td>\n",
       "      <td>0.462388</td>\n",
       "      <td>0.239599</td>\n",
       "      <td>0.098698</td>\n",
       "      <td>0.363787</td>\n",
       "      <td>...</td>\n",
       "      <td>-0.018307</td>\n",
       "      <td>0.277838</td>\n",
       "      <td>-0.110474</td>\n",
       "      <td>0.066928</td>\n",
       "      <td>0.128539</td>\n",
       "      <td>-0.189115</td>\n",
       "      <td>0.133558</td>\n",
       "      <td>-0.021053</td>\n",
       "      <td>149.62</td>\n",
       "      <td>0</td>\n",
       "    </tr>\n",
       "    <tr>\n",
       "      <th>1</th>\n",
       "      <td>0.0</td>\n",
       "      <td>1.191857</td>\n",
       "      <td>0.266151</td>\n",
       "      <td>0.166480</td>\n",
       "      <td>0.448154</td>\n",
       "      <td>0.060018</td>\n",
       "      <td>-0.082361</td>\n",
       "      <td>-0.078803</td>\n",
       "      <td>0.085102</td>\n",
       "      <td>-0.255425</td>\n",
       "      <td>...</td>\n",
       "      <td>-0.225775</td>\n",
       "      <td>-0.638672</td>\n",
       "      <td>0.101288</td>\n",
       "      <td>-0.339846</td>\n",
       "      <td>0.167170</td>\n",
       "      <td>0.125895</td>\n",
       "      <td>-0.008983</td>\n",
       "      <td>0.014724</td>\n",
       "      <td>2.69</td>\n",
       "      <td>0</td>\n",
       "    </tr>\n",
       "    <tr>\n",
       "      <th>2</th>\n",
       "      <td>1.0</td>\n",
       "      <td>-1.358354</td>\n",
       "      <td>-1.340163</td>\n",
       "      <td>1.773209</td>\n",
       "      <td>0.379780</td>\n",
       "      <td>-0.503198</td>\n",
       "      <td>1.800499</td>\n",
       "      <td>0.791461</td>\n",
       "      <td>0.247676</td>\n",
       "      <td>-1.514654</td>\n",
       "      <td>...</td>\n",
       "      <td>0.247998</td>\n",
       "      <td>0.771679</td>\n",
       "      <td>0.909412</td>\n",
       "      <td>-0.689281</td>\n",
       "      <td>-0.327642</td>\n",
       "      <td>-0.139097</td>\n",
       "      <td>-0.055353</td>\n",
       "      <td>-0.059752</td>\n",
       "      <td>378.66</td>\n",
       "      <td>0</td>\n",
       "    </tr>\n",
       "    <tr>\n",
       "      <th>3</th>\n",
       "      <td>1.0</td>\n",
       "      <td>-0.966272</td>\n",
       "      <td>-0.185226</td>\n",
       "      <td>1.792993</td>\n",
       "      <td>-0.863291</td>\n",
       "      <td>-0.010309</td>\n",
       "      <td>1.247203</td>\n",
       "      <td>0.237609</td>\n",
       "      <td>0.377436</td>\n",
       "      <td>-1.387024</td>\n",
       "      <td>...</td>\n",
       "      <td>-0.108300</td>\n",
       "      <td>0.005274</td>\n",
       "      <td>-0.190321</td>\n",
       "      <td>-1.175575</td>\n",
       "      <td>0.647376</td>\n",
       "      <td>-0.221929</td>\n",
       "      <td>0.062723</td>\n",
       "      <td>0.061458</td>\n",
       "      <td>123.50</td>\n",
       "      <td>0</td>\n",
       "    </tr>\n",
       "    <tr>\n",
       "      <th>4</th>\n",
       "      <td>2.0</td>\n",
       "      <td>-1.158233</td>\n",
       "      <td>0.877737</td>\n",
       "      <td>1.548718</td>\n",
       "      <td>0.403034</td>\n",
       "      <td>-0.407193</td>\n",
       "      <td>0.095921</td>\n",
       "      <td>0.592941</td>\n",
       "      <td>-0.270533</td>\n",
       "      <td>0.817739</td>\n",
       "      <td>...</td>\n",
       "      <td>-0.009431</td>\n",
       "      <td>0.798278</td>\n",
       "      <td>-0.137458</td>\n",
       "      <td>0.141267</td>\n",
       "      <td>-0.206010</td>\n",
       "      <td>0.502292</td>\n",
       "      <td>0.219422</td>\n",
       "      <td>0.215153</td>\n",
       "      <td>69.99</td>\n",
       "      <td>0</td>\n",
       "    </tr>\n",
       "  </tbody>\n",
       "</table>\n",
       "<p>5 rows × 31 columns</p>\n",
       "</div>"
      ],
      "text/plain": [
       "   Time        V1        V2        V3        V4        V5        V6        V7  \\\n",
       "0   0.0 -1.359807 -0.072781  2.536347  1.378155 -0.338321  0.462388  0.239599   \n",
       "1   0.0  1.191857  0.266151  0.166480  0.448154  0.060018 -0.082361 -0.078803   \n",
       "2   1.0 -1.358354 -1.340163  1.773209  0.379780 -0.503198  1.800499  0.791461   \n",
       "3   1.0 -0.966272 -0.185226  1.792993 -0.863291 -0.010309  1.247203  0.237609   \n",
       "4   2.0 -1.158233  0.877737  1.548718  0.403034 -0.407193  0.095921  0.592941   \n",
       "\n",
       "         V8        V9  ...       V21       V22       V23       V24       V25  \\\n",
       "0  0.098698  0.363787  ... -0.018307  0.277838 -0.110474  0.066928  0.128539   \n",
       "1  0.085102 -0.255425  ... -0.225775 -0.638672  0.101288 -0.339846  0.167170   \n",
       "2  0.247676 -1.514654  ...  0.247998  0.771679  0.909412 -0.689281 -0.327642   \n",
       "3  0.377436 -1.387024  ... -0.108300  0.005274 -0.190321 -1.175575  0.647376   \n",
       "4 -0.270533  0.817739  ... -0.009431  0.798278 -0.137458  0.141267 -0.206010   \n",
       "\n",
       "        V26       V27       V28  Amount  Class  \n",
       "0 -0.189115  0.133558 -0.021053  149.62      0  \n",
       "1  0.125895 -0.008983  0.014724    2.69      0  \n",
       "2 -0.139097 -0.055353 -0.059752  378.66      0  \n",
       "3 -0.221929  0.062723  0.061458  123.50      0  \n",
       "4  0.502292  0.219422  0.215153   69.99      0  \n",
       "\n",
       "[5 rows x 31 columns]"
      ]
     },
     "execution_count": 4,
     "metadata": {},
     "output_type": "execute_result"
    }
   ],
   "source": [
    "card.head()"
   ]
  },
  {
   "cell_type": "markdown",
   "id": "3d490958",
   "metadata": {
    "papermill": {
     "duration": 0.008157,
     "end_time": "2024-01-13T16:24:35.400602",
     "exception": false,
     "start_time": "2024-01-13T16:24:35.392445",
     "status": "completed"
    },
    "tags": []
   },
   "source": [
    "#### Fraud transaction is denoted by Class '1' and not a fraud transaction is denoted by Class '0'"
   ]
  },
  {
   "cell_type": "code",
   "execution_count": 5,
   "id": "10a0bdb8",
   "metadata": {
    "execution": {
     "iopub.execute_input": "2024-01-13T16:24:35.419151Z",
     "iopub.status.busy": "2024-01-13T16:24:35.418758Z",
     "iopub.status.idle": "2024-01-13T16:24:35.433675Z",
     "shell.execute_reply": "2024-01-13T16:24:35.432860Z"
    },
    "papermill": {
     "duration": 0.026585,
     "end_time": "2024-01-13T16:24:35.435626",
     "exception": false,
     "start_time": "2024-01-13T16:24:35.409041",
     "status": "completed"
    },
    "tags": []
   },
   "outputs": [
    {
     "data": {
      "text/plain": [
       "Class\n",
       "0    284315\n",
       "1       492\n",
       "Name: count, dtype: int64"
      ]
     },
     "execution_count": 5,
     "metadata": {},
     "output_type": "execute_result"
    }
   ],
   "source": [
    "card['Class'].value_counts()"
   ]
  },
  {
   "cell_type": "markdown",
   "id": "8aa1e20c",
   "metadata": {
    "papermill": {
     "duration": 0.00832,
     "end_time": "2024-01-13T16:24:35.452708",
     "exception": false,
     "start_time": "2024-01-13T16:24:35.444388",
     "status": "completed"
    },
    "tags": []
   },
   "source": [
    "### We can see that our target variable has imbalanced data"
   ]
  },
  {
   "cell_type": "code",
   "execution_count": 6,
   "id": "9d785eb4",
   "metadata": {
    "execution": {
     "iopub.execute_input": "2024-01-13T16:24:35.472914Z",
     "iopub.status.busy": "2024-01-13T16:24:35.471778Z",
     "iopub.status.idle": "2024-01-13T16:24:35.479409Z",
     "shell.execute_reply": "2024-01-13T16:24:35.478413Z"
    },
    "papermill": {
     "duration": 0.019672,
     "end_time": "2024-01-13T16:24:35.481492",
     "exception": false,
     "start_time": "2024-01-13T16:24:35.461820",
     "status": "completed"
    },
    "tags": []
   },
   "outputs": [
    {
     "data": {
      "text/plain": [
       "0    0\n",
       "1    0\n",
       "2    0\n",
       "3    0\n",
       "4    0\n",
       "Name: Class, dtype: int64"
      ]
     },
     "execution_count": 6,
     "metadata": {},
     "output_type": "execute_result"
    }
   ],
   "source": [
    "# Target variable\n",
    "y = card['Class']\n",
    "y.head()"
   ]
  },
  {
   "cell_type": "code",
   "execution_count": 7,
   "id": "2c8348b0",
   "metadata": {
    "execution": {
     "iopub.execute_input": "2024-01-13T16:24:35.501227Z",
     "iopub.status.busy": "2024-01-13T16:24:35.500282Z",
     "iopub.status.idle": "2024-01-13T16:24:35.555435Z",
     "shell.execute_reply": "2024-01-13T16:24:35.554241Z"
    },
    "papermill": {
     "duration": 0.067366,
     "end_time": "2024-01-13T16:24:35.557824",
     "exception": false,
     "start_time": "2024-01-13T16:24:35.490458",
     "status": "completed"
    },
    "tags": []
   },
   "outputs": [
    {
     "data": {
      "text/html": [
       "<div>\n",
       "<style scoped>\n",
       "    .dataframe tbody tr th:only-of-type {\n",
       "        vertical-align: middle;\n",
       "    }\n",
       "\n",
       "    .dataframe tbody tr th {\n",
       "        vertical-align: top;\n",
       "    }\n",
       "\n",
       "    .dataframe thead th {\n",
       "        text-align: right;\n",
       "    }\n",
       "</style>\n",
       "<table border=\"1\" class=\"dataframe\">\n",
       "  <thead>\n",
       "    <tr style=\"text-align: right;\">\n",
       "      <th></th>\n",
       "      <th>Time</th>\n",
       "      <th>V1</th>\n",
       "      <th>V2</th>\n",
       "      <th>V3</th>\n",
       "      <th>V4</th>\n",
       "      <th>V5</th>\n",
       "      <th>V6</th>\n",
       "      <th>V7</th>\n",
       "      <th>V8</th>\n",
       "      <th>V9</th>\n",
       "      <th>...</th>\n",
       "      <th>V20</th>\n",
       "      <th>V21</th>\n",
       "      <th>V22</th>\n",
       "      <th>V23</th>\n",
       "      <th>V24</th>\n",
       "      <th>V25</th>\n",
       "      <th>V26</th>\n",
       "      <th>V27</th>\n",
       "      <th>V28</th>\n",
       "      <th>Amount</th>\n",
       "    </tr>\n",
       "  </thead>\n",
       "  <tbody>\n",
       "    <tr>\n",
       "      <th>0</th>\n",
       "      <td>0.0</td>\n",
       "      <td>-1.359807</td>\n",
       "      <td>-0.072781</td>\n",
       "      <td>2.536347</td>\n",
       "      <td>1.378155</td>\n",
       "      <td>-0.338321</td>\n",
       "      <td>0.462388</td>\n",
       "      <td>0.239599</td>\n",
       "      <td>0.098698</td>\n",
       "      <td>0.363787</td>\n",
       "      <td>...</td>\n",
       "      <td>0.251412</td>\n",
       "      <td>-0.018307</td>\n",
       "      <td>0.277838</td>\n",
       "      <td>-0.110474</td>\n",
       "      <td>0.066928</td>\n",
       "      <td>0.128539</td>\n",
       "      <td>-0.189115</td>\n",
       "      <td>0.133558</td>\n",
       "      <td>-0.021053</td>\n",
       "      <td>149.62</td>\n",
       "    </tr>\n",
       "    <tr>\n",
       "      <th>1</th>\n",
       "      <td>0.0</td>\n",
       "      <td>1.191857</td>\n",
       "      <td>0.266151</td>\n",
       "      <td>0.166480</td>\n",
       "      <td>0.448154</td>\n",
       "      <td>0.060018</td>\n",
       "      <td>-0.082361</td>\n",
       "      <td>-0.078803</td>\n",
       "      <td>0.085102</td>\n",
       "      <td>-0.255425</td>\n",
       "      <td>...</td>\n",
       "      <td>-0.069083</td>\n",
       "      <td>-0.225775</td>\n",
       "      <td>-0.638672</td>\n",
       "      <td>0.101288</td>\n",
       "      <td>-0.339846</td>\n",
       "      <td>0.167170</td>\n",
       "      <td>0.125895</td>\n",
       "      <td>-0.008983</td>\n",
       "      <td>0.014724</td>\n",
       "      <td>2.69</td>\n",
       "    </tr>\n",
       "    <tr>\n",
       "      <th>2</th>\n",
       "      <td>1.0</td>\n",
       "      <td>-1.358354</td>\n",
       "      <td>-1.340163</td>\n",
       "      <td>1.773209</td>\n",
       "      <td>0.379780</td>\n",
       "      <td>-0.503198</td>\n",
       "      <td>1.800499</td>\n",
       "      <td>0.791461</td>\n",
       "      <td>0.247676</td>\n",
       "      <td>-1.514654</td>\n",
       "      <td>...</td>\n",
       "      <td>0.524980</td>\n",
       "      <td>0.247998</td>\n",
       "      <td>0.771679</td>\n",
       "      <td>0.909412</td>\n",
       "      <td>-0.689281</td>\n",
       "      <td>-0.327642</td>\n",
       "      <td>-0.139097</td>\n",
       "      <td>-0.055353</td>\n",
       "      <td>-0.059752</td>\n",
       "      <td>378.66</td>\n",
       "    </tr>\n",
       "    <tr>\n",
       "      <th>3</th>\n",
       "      <td>1.0</td>\n",
       "      <td>-0.966272</td>\n",
       "      <td>-0.185226</td>\n",
       "      <td>1.792993</td>\n",
       "      <td>-0.863291</td>\n",
       "      <td>-0.010309</td>\n",
       "      <td>1.247203</td>\n",
       "      <td>0.237609</td>\n",
       "      <td>0.377436</td>\n",
       "      <td>-1.387024</td>\n",
       "      <td>...</td>\n",
       "      <td>-0.208038</td>\n",
       "      <td>-0.108300</td>\n",
       "      <td>0.005274</td>\n",
       "      <td>-0.190321</td>\n",
       "      <td>-1.175575</td>\n",
       "      <td>0.647376</td>\n",
       "      <td>-0.221929</td>\n",
       "      <td>0.062723</td>\n",
       "      <td>0.061458</td>\n",
       "      <td>123.50</td>\n",
       "    </tr>\n",
       "    <tr>\n",
       "      <th>4</th>\n",
       "      <td>2.0</td>\n",
       "      <td>-1.158233</td>\n",
       "      <td>0.877737</td>\n",
       "      <td>1.548718</td>\n",
       "      <td>0.403034</td>\n",
       "      <td>-0.407193</td>\n",
       "      <td>0.095921</td>\n",
       "      <td>0.592941</td>\n",
       "      <td>-0.270533</td>\n",
       "      <td>0.817739</td>\n",
       "      <td>...</td>\n",
       "      <td>0.408542</td>\n",
       "      <td>-0.009431</td>\n",
       "      <td>0.798278</td>\n",
       "      <td>-0.137458</td>\n",
       "      <td>0.141267</td>\n",
       "      <td>-0.206010</td>\n",
       "      <td>0.502292</td>\n",
       "      <td>0.219422</td>\n",
       "      <td>0.215153</td>\n",
       "      <td>69.99</td>\n",
       "    </tr>\n",
       "  </tbody>\n",
       "</table>\n",
       "<p>5 rows × 30 columns</p>\n",
       "</div>"
      ],
      "text/plain": [
       "   Time        V1        V2        V3        V4        V5        V6        V7  \\\n",
       "0   0.0 -1.359807 -0.072781  2.536347  1.378155 -0.338321  0.462388  0.239599   \n",
       "1   0.0  1.191857  0.266151  0.166480  0.448154  0.060018 -0.082361 -0.078803   \n",
       "2   1.0 -1.358354 -1.340163  1.773209  0.379780 -0.503198  1.800499  0.791461   \n",
       "3   1.0 -0.966272 -0.185226  1.792993 -0.863291 -0.010309  1.247203  0.237609   \n",
       "4   2.0 -1.158233  0.877737  1.548718  0.403034 -0.407193  0.095921  0.592941   \n",
       "\n",
       "         V8        V9  ...       V20       V21       V22       V23       V24  \\\n",
       "0  0.098698  0.363787  ...  0.251412 -0.018307  0.277838 -0.110474  0.066928   \n",
       "1  0.085102 -0.255425  ... -0.069083 -0.225775 -0.638672  0.101288 -0.339846   \n",
       "2  0.247676 -1.514654  ...  0.524980  0.247998  0.771679  0.909412 -0.689281   \n",
       "3  0.377436 -1.387024  ... -0.208038 -0.108300  0.005274 -0.190321 -1.175575   \n",
       "4 -0.270533  0.817739  ...  0.408542 -0.009431  0.798278 -0.137458  0.141267   \n",
       "\n",
       "        V25       V26       V27       V28  Amount  \n",
       "0  0.128539 -0.189115  0.133558 -0.021053  149.62  \n",
       "1  0.167170  0.125895 -0.008983  0.014724    2.69  \n",
       "2 -0.327642 -0.139097 -0.055353 -0.059752  378.66  \n",
       "3  0.647376 -0.221929  0.062723  0.061458  123.50  \n",
       "4 -0.206010  0.502292  0.219422  0.215153   69.99  \n",
       "\n",
       "[5 rows x 30 columns]"
      ]
     },
     "execution_count": 7,
     "metadata": {},
     "output_type": "execute_result"
    }
   ],
   "source": [
    "X = card.drop(['Class'], axis = 1)\n",
    "X.head()"
   ]
  },
  {
   "cell_type": "markdown",
   "id": "8627d548",
   "metadata": {
    "papermill": {
     "duration": 0.009474,
     "end_time": "2024-01-13T16:24:35.576379",
     "exception": false,
     "start_time": "2024-01-13T16:24:35.566905",
     "status": "completed"
    },
    "tags": []
   },
   "source": [
    "### Split the data into training and testing"
   ]
  },
  {
   "cell_type": "code",
   "execution_count": 8,
   "id": "0efbec42",
   "metadata": {
    "execution": {
     "iopub.execute_input": "2024-01-13T16:24:35.596518Z",
     "iopub.status.busy": "2024-01-13T16:24:35.596094Z",
     "iopub.status.idle": "2024-01-13T16:24:36.029966Z",
     "shell.execute_reply": "2024-01-13T16:24:36.028824Z"
    },
    "papermill": {
     "duration": 0.447117,
     "end_time": "2024-01-13T16:24:36.032768",
     "exception": false,
     "start_time": "2024-01-13T16:24:35.585651",
     "status": "completed"
    },
    "tags": []
   },
   "outputs": [],
   "source": [
    "from sklearn.model_selection import train_test_split\n",
    "\n",
    "X_train,X_test,y_train,y_test = train_test_split(X,y,test_size = 0.3, random_state = 42)"
   ]
  },
  {
   "cell_type": "markdown",
   "id": "33dca684",
   "metadata": {
    "papermill": {
     "duration": 0.009037,
     "end_time": "2024-01-13T16:24:36.051404",
     "exception": false,
     "start_time": "2024-01-13T16:24:36.042367",
     "status": "completed"
    },
    "tags": []
   },
   "source": [
    "## Classification Models: \n",
    "### Random Forest Classifier"
   ]
  },
  {
   "cell_type": "code",
   "execution_count": 9,
   "id": "0ce939bd",
   "metadata": {
    "execution": {
     "iopub.execute_input": "2024-01-13T16:24:36.072087Z",
     "iopub.status.busy": "2024-01-13T16:24:36.071653Z",
     "iopub.status.idle": "2024-01-13T16:24:36.334964Z",
     "shell.execute_reply": "2024-01-13T16:24:36.333793Z"
    },
    "papermill": {
     "duration": 0.276486,
     "end_time": "2024-01-13T16:24:36.337771",
     "exception": false,
     "start_time": "2024-01-13T16:24:36.061285",
     "status": "completed"
    },
    "tags": []
   },
   "outputs": [],
   "source": [
    "from sklearn.ensemble import RandomForestClassifier\n",
    "from sklearn.metrics import classification_report,accuracy_score,confusion_matrix"
   ]
  },
  {
   "cell_type": "markdown",
   "id": "0304e12c",
   "metadata": {
    "papermill": {
     "duration": 0.008925,
     "end_time": "2024-01-13T16:24:36.356499",
     "exception": false,
     "start_time": "2024-01-13T16:24:36.347574",
     "status": "completed"
    },
    "tags": []
   },
   "source": [
    "#### 1. Random Forest Classifier"
   ]
  },
  {
   "cell_type": "code",
   "execution_count": 10,
   "id": "84c611ac",
   "metadata": {
    "execution": {
     "iopub.execute_input": "2024-01-13T16:24:36.376719Z",
     "iopub.status.busy": "2024-01-13T16:24:36.376307Z",
     "iopub.status.idle": "2024-01-13T16:24:36.381150Z",
     "shell.execute_reply": "2024-01-13T16:24:36.380013Z"
    },
    "papermill": {
     "duration": 0.017455,
     "end_time": "2024-01-13T16:24:36.383291",
     "exception": false,
     "start_time": "2024-01-13T16:24:36.365836",
     "status": "completed"
    },
    "tags": []
   },
   "outputs": [],
   "source": [
    "# Model \n",
    "model = RandomForestClassifier()"
   ]
  },
  {
   "cell_type": "code",
   "execution_count": 11,
   "id": "77f5fbdf",
   "metadata": {
    "execution": {
     "iopub.execute_input": "2024-01-13T16:24:36.403209Z",
     "iopub.status.busy": "2024-01-13T16:24:36.402782Z",
     "iopub.status.idle": "2024-01-13T16:28:51.605664Z",
     "shell.execute_reply": "2024-01-13T16:28:51.604369Z"
    },
    "papermill": {
     "duration": 255.216287,
     "end_time": "2024-01-13T16:28:51.608719",
     "exception": false,
     "start_time": "2024-01-13T16:24:36.392432",
     "status": "completed"
    },
    "tags": []
   },
   "outputs": [],
   "source": [
    "# Fit the model\n",
    "model.fit(X_train,y_train)\n",
    "\n",
    "# Predict the model\n",
    "y_pred = model.predict(X_test)"
   ]
  },
  {
   "cell_type": "code",
   "execution_count": 12,
   "id": "fc17e767",
   "metadata": {
    "execution": {
     "iopub.execute_input": "2024-01-13T16:28:51.630093Z",
     "iopub.status.busy": "2024-01-13T16:28:51.629670Z",
     "iopub.status.idle": "2024-01-13T16:28:51.774382Z",
     "shell.execute_reply": "2024-01-13T16:28:51.773111Z"
    },
    "papermill": {
     "duration": 0.159728,
     "end_time": "2024-01-13T16:28:51.778226",
     "exception": false,
     "start_time": "2024-01-13T16:28:51.618498",
     "status": "completed"
    },
    "tags": []
   },
   "outputs": [
    {
     "name": "stdout",
     "output_type": "stream",
     "text": [
      "[[85298     9]\n",
      " [   25   111]]\n",
      "              precision    recall  f1-score   support\n",
      "\n",
      "           0       1.00      1.00      1.00     85307\n",
      "           1       0.93      0.82      0.87       136\n",
      "\n",
      "    accuracy                           1.00     85443\n",
      "   macro avg       0.96      0.91      0.93     85443\n",
      "weighted avg       1.00      1.00      1.00     85443\n",
      "\n",
      "0.999602073897218\n"
     ]
    }
   ],
   "source": [
    "print(confusion_matrix(y_test,y_pred))\n",
    "print(classification_report(y_test,y_pred))\n",
    "print(accuracy_score(y_test,y_pred))"
   ]
  },
  {
   "cell_type": "markdown",
   "id": "ca5a9756",
   "metadata": {
    "papermill": {
     "duration": 0.00921,
     "end_time": "2024-01-13T16:28:51.863796",
     "exception": false,
     "start_time": "2024-01-13T16:28:51.854586",
     "status": "completed"
    },
    "tags": []
   },
   "source": [
    "### Above result given by Random Forest Classifier is an amazing one, but we have to consider the fact that we have imbalanced data."
   ]
  },
  {
   "cell_type": "markdown",
   "id": "bc65f98f",
   "metadata": {
    "papermill": {
     "duration": 0.00898,
     "end_time": "2024-01-13T16:28:51.882160",
     "exception": false,
     "start_time": "2024-01-13T16:28:51.873180",
     "status": "completed"
    },
    "tags": []
   },
   "source": [
    "#### Now, to overcome these, we have a few methods, and we will try some, let's check whether we get even more improved results or a depreciated one.\n",
    "#### Most common - Undersampling and Oversampling"
   ]
  },
  {
   "cell_type": "markdown",
   "id": "a1f9f4e4",
   "metadata": {
    "papermill": {
     "duration": 0.009088,
     "end_time": "2024-01-13T16:28:51.900940",
     "exception": false,
     "start_time": "2024-01-13T16:28:51.891852",
     "status": "completed"
    },
    "tags": []
   },
   "source": [
    "## Undersampling :\n",
    "##### This is a method in which the higher valued data is decreased and brought to near-abouts with the other data. Generally, this can be used for \n",
    "##### smaller datasets, as for bigger ones, it leads to loss in data, which affects the performance of the model poorly."
   ]
  },
  {
   "cell_type": "code",
   "execution_count": 13,
   "id": "ccc9ee48",
   "metadata": {
    "execution": {
     "iopub.execute_input": "2024-01-13T16:28:51.921953Z",
     "iopub.status.busy": "2024-01-13T16:28:51.921567Z",
     "iopub.status.idle": "2024-01-13T16:28:51.925716Z",
     "shell.execute_reply": "2024-01-13T16:28:51.924926Z"
    },
    "papermill": {
     "duration": 0.01724,
     "end_time": "2024-01-13T16:28:51.927663",
     "exception": false,
     "start_time": "2024-01-13T16:28:51.910423",
     "status": "completed"
    },
    "tags": []
   },
   "outputs": [],
   "source": [
    "# To keep a count of class count\n",
    "from collections import Counter"
   ]
  },
  {
   "cell_type": "code",
   "execution_count": 14,
   "id": "1d772177",
   "metadata": {
    "execution": {
     "iopub.execute_input": "2024-01-13T16:28:51.948311Z",
     "iopub.status.busy": "2024-01-13T16:28:51.947564Z",
     "iopub.status.idle": "2024-01-13T16:28:52.098760Z",
     "shell.execute_reply": "2024-01-13T16:28:52.097680Z"
    },
    "papermill": {
     "duration": 0.164339,
     "end_time": "2024-01-13T16:28:52.101463",
     "exception": false,
     "start_time": "2024-01-13T16:28:51.937124",
     "status": "completed"
    },
    "tags": []
   },
   "outputs": [],
   "source": [
    "from imblearn.under_sampling import NearMiss"
   ]
  },
  {
   "cell_type": "code",
   "execution_count": 15,
   "id": "93a89f78",
   "metadata": {
    "execution": {
     "iopub.execute_input": "2024-01-13T16:28:52.124610Z",
     "iopub.status.busy": "2024-01-13T16:28:52.124010Z",
     "iopub.status.idle": "2024-01-13T16:28:52.129395Z",
     "shell.execute_reply": "2024-01-13T16:28:52.128078Z"
    },
    "papermill": {
     "duration": 0.020153,
     "end_time": "2024-01-13T16:28:52.131630",
     "exception": false,
     "start_time": "2024-01-13T16:28:52.111477",
     "status": "completed"
    },
    "tags": []
   },
   "outputs": [],
   "source": [
    "under_sample = NearMiss(sampling_strategy = 0.7)"
   ]
  },
  {
   "cell_type": "code",
   "execution_count": 16,
   "id": "44d952c6",
   "metadata": {
    "execution": {
     "iopub.execute_input": "2024-01-13T16:28:52.152259Z",
     "iopub.status.busy": "2024-01-13T16:28:52.151853Z",
     "iopub.status.idle": "2024-01-13T16:28:52.715012Z",
     "shell.execute_reply": "2024-01-13T16:28:52.714061Z"
    },
    "papermill": {
     "duration": 0.576638,
     "end_time": "2024-01-13T16:28:52.717677",
     "exception": false,
     "start_time": "2024-01-13T16:28:52.141039",
     "status": "completed"
    },
    "tags": []
   },
   "outputs": [],
   "source": [
    "X_train_us,y_train_us = under_sample.fit_resample(X_train,y_train)"
   ]
  },
  {
   "cell_type": "code",
   "execution_count": 17,
   "id": "d97dd439",
   "metadata": {
    "execution": {
     "iopub.execute_input": "2024-01-13T16:28:52.738086Z",
     "iopub.status.busy": "2024-01-13T16:28:52.737714Z",
     "iopub.status.idle": "2024-01-13T16:28:52.770981Z",
     "shell.execute_reply": "2024-01-13T16:28:52.769856Z"
    },
    "papermill": {
     "duration": 0.04643,
     "end_time": "2024-01-13T16:28:52.773388",
     "exception": false,
     "start_time": "2024-01-13T16:28:52.726958",
     "status": "completed"
    },
    "tags": []
   },
   "outputs": [
    {
     "name": "stdout",
     "output_type": "stream",
     "text": [
      "Before fit: Counter({0: 199008, 1: 356})\n",
      "After fit: Counter({0: 508, 1: 356})\n"
     ]
    }
   ],
   "source": [
    "print('Before fit:',Counter(y_train))\n",
    "print('After fit:',Counter(y_train_us))"
   ]
  },
  {
   "cell_type": "markdown",
   "id": "88b70360",
   "metadata": {
    "papermill": {
     "duration": 0.009175,
     "end_time": "2024-01-13T16:28:52.792020",
     "exception": false,
     "start_time": "2024-01-13T16:28:52.782845",
     "status": "completed"
    },
    "tags": []
   },
   "source": [
    "##### We can see that the number of class '0's have been decreased, and the lower valued data is about 70 percent off the higher valued data."
   ]
  },
  {
   "cell_type": "code",
   "execution_count": 18,
   "id": "a18ba686",
   "metadata": {
    "execution": {
     "iopub.execute_input": "2024-01-13T16:28:52.813324Z",
     "iopub.status.busy": "2024-01-13T16:28:52.812060Z",
     "iopub.status.idle": "2024-01-13T16:28:52.817040Z",
     "shell.execute_reply": "2024-01-13T16:28:52.816231Z"
    },
    "papermill": {
     "duration": 0.017857,
     "end_time": "2024-01-13T16:28:52.819225",
     "exception": false,
     "start_time": "2024-01-13T16:28:52.801368",
     "status": "completed"
    },
    "tags": []
   },
   "outputs": [],
   "source": [
    "model = RandomForestClassifier()"
   ]
  },
  {
   "cell_type": "code",
   "execution_count": 19,
   "id": "cc5bc14b",
   "metadata": {
    "execution": {
     "iopub.execute_input": "2024-01-13T16:28:52.840216Z",
     "iopub.status.busy": "2024-01-13T16:28:52.839539Z",
     "iopub.status.idle": "2024-01-13T16:28:53.926695Z",
     "shell.execute_reply": "2024-01-13T16:28:53.925712Z"
    },
    "papermill": {
     "duration": 1.100569,
     "end_time": "2024-01-13T16:28:53.929232",
     "exception": false,
     "start_time": "2024-01-13T16:28:52.828663",
     "status": "completed"
    },
    "tags": []
   },
   "outputs": [],
   "source": [
    "model.fit(X_train_us,y_train_us)\n",
    "y_pred = model.predict(X_test)"
   ]
  },
  {
   "cell_type": "code",
   "execution_count": 20,
   "id": "ab3a881f",
   "metadata": {
    "execution": {
     "iopub.execute_input": "2024-01-13T16:28:53.951242Z",
     "iopub.status.busy": "2024-01-13T16:28:53.950559Z",
     "iopub.status.idle": "2024-01-13T16:28:54.116498Z",
     "shell.execute_reply": "2024-01-13T16:28:54.115327Z"
    },
    "papermill": {
     "duration": 0.179871,
     "end_time": "2024-01-13T16:28:54.119148",
     "exception": false,
     "start_time": "2024-01-13T16:28:53.939277",
     "status": "completed"
    },
    "tags": []
   },
   "outputs": [
    {
     "name": "stdout",
     "output_type": "stream",
     "text": [
      "[[61695 23612]\n",
      " [    7   129]]\n",
      "              precision    recall  f1-score   support\n",
      "\n",
      "           0       1.00      0.72      0.84     85307\n",
      "           1       0.01      0.95      0.01       136\n",
      "\n",
      "    accuracy                           0.72     85443\n",
      "   macro avg       0.50      0.84      0.43     85443\n",
      "weighted avg       1.00      0.72      0.84     85443\n",
      "\n",
      "0.7235700993644886\n"
     ]
    }
   ],
   "source": [
    "print(confusion_matrix(y_test,y_pred))\n",
    "print(classification_report(y_test,y_pred))\n",
    "print(accuracy_score(y_test,y_pred))"
   ]
  },
  {
   "cell_type": "markdown",
   "id": "bedb42c6",
   "metadata": {
    "papermill": {
     "duration": 0.009349,
     "end_time": "2024-01-13T16:28:54.139716",
     "exception": false,
     "start_time": "2024-01-13T16:28:54.130367",
     "status": "completed"
    },
    "tags": []
   },
   "source": [
    "##### As we can see, loss in data due to under sampling has lowered the performance of the model.\n",
    "\n",
    "#### Let's check with over sampling :"
   ]
  },
  {
   "cell_type": "markdown",
   "id": "f75812cd",
   "metadata": {
    "papermill": {
     "duration": 0.009289,
     "end_time": "2024-01-13T16:28:54.158594",
     "exception": false,
     "start_time": "2024-01-13T16:28:54.149305",
     "status": "completed"
    },
    "tags": []
   },
   "source": [
    "## Over Sampling :\n",
    "##### This is a method in which the lower valued data is increased to within some distance of the higher valued data."
   ]
  },
  {
   "cell_type": "code",
   "execution_count": 21,
   "id": "a0281ce1",
   "metadata": {
    "execution": {
     "iopub.execute_input": "2024-01-13T16:28:54.179551Z",
     "iopub.status.busy": "2024-01-13T16:28:54.179127Z",
     "iopub.status.idle": "2024-01-13T16:28:54.183089Z",
     "shell.execute_reply": "2024-01-13T16:28:54.182278Z"
    },
    "papermill": {
     "duration": 0.017223,
     "end_time": "2024-01-13T16:28:54.185230",
     "exception": false,
     "start_time": "2024-01-13T16:28:54.168007",
     "status": "completed"
    },
    "tags": []
   },
   "outputs": [],
   "source": [
    "from imblearn.over_sampling import RandomOverSampler"
   ]
  },
  {
   "cell_type": "code",
   "execution_count": 22,
   "id": "6865281f",
   "metadata": {
    "execution": {
     "iopub.execute_input": "2024-01-13T16:28:54.206673Z",
     "iopub.status.busy": "2024-01-13T16:28:54.205644Z",
     "iopub.status.idle": "2024-01-13T16:28:54.211304Z",
     "shell.execute_reply": "2024-01-13T16:28:54.210495Z"
    },
    "papermill": {
     "duration": 0.018637,
     "end_time": "2024-01-13T16:28:54.213447",
     "exception": false,
     "start_time": "2024-01-13T16:28:54.194810",
     "status": "completed"
    },
    "tags": []
   },
   "outputs": [],
   "source": [
    "os = RandomOverSampler(sampling_strategy = 0.8, random_state = 42)\n",
    "model = RandomForestClassifier()"
   ]
  },
  {
   "cell_type": "code",
   "execution_count": 23,
   "id": "52ad8687",
   "metadata": {
    "execution": {
     "iopub.execute_input": "2024-01-13T16:28:54.235321Z",
     "iopub.status.busy": "2024-01-13T16:28:54.234120Z",
     "iopub.status.idle": "2024-01-13T16:28:54.429354Z",
     "shell.execute_reply": "2024-01-13T16:28:54.428115Z"
    },
    "papermill": {
     "duration": 0.208501,
     "end_time": "2024-01-13T16:28:54.431795",
     "exception": false,
     "start_time": "2024-01-13T16:28:54.223294",
     "status": "completed"
    },
    "tags": []
   },
   "outputs": [],
   "source": [
    "X_train_os,y_train_os = os.fit_resample(X_train,y_train)"
   ]
  },
  {
   "cell_type": "code",
   "execution_count": 24,
   "id": "ef60b5ea",
   "metadata": {
    "execution": {
     "iopub.execute_input": "2024-01-13T16:28:54.453303Z",
     "iopub.status.busy": "2024-01-13T16:28:54.452532Z",
     "iopub.status.idle": "2024-01-13T16:28:54.532022Z",
     "shell.execute_reply": "2024-01-13T16:28:54.530882Z"
    },
    "papermill": {
     "duration": 0.093673,
     "end_time": "2024-01-13T16:28:54.535199",
     "exception": false,
     "start_time": "2024-01-13T16:28:54.441526",
     "status": "completed"
    },
    "tags": []
   },
   "outputs": [
    {
     "name": "stdout",
     "output_type": "stream",
     "text": [
      "Before fit: Counter({0: 199008, 1: 356})\n",
      "After fit: Counter({0: 199008, 1: 159206})\n"
     ]
    }
   ],
   "source": [
    "print('Before fit:',Counter(y_train))\n",
    "print('After fit:',Counter(y_train_os))"
   ]
  },
  {
   "cell_type": "markdown",
   "id": "298d3274",
   "metadata": {
    "papermill": {
     "duration": 0.009327,
     "end_time": "2024-01-13T16:28:54.554251",
     "exception": false,
     "start_time": "2024-01-13T16:28:54.544924",
     "status": "completed"
    },
    "tags": []
   },
   "source": [
    "##### We have brought the lower valued data about 80 percent closer to the higher valued data, now let's see if our model improves."
   ]
  },
  {
   "cell_type": "code",
   "execution_count": 25,
   "id": "3c09de57",
   "metadata": {
    "execution": {
     "iopub.execute_input": "2024-01-13T16:28:54.575511Z",
     "iopub.status.busy": "2024-01-13T16:28:54.574719Z",
     "iopub.status.idle": "2024-01-13T16:32:30.541311Z",
     "shell.execute_reply": "2024-01-13T16:32:30.539972Z"
    },
    "papermill": {
     "duration": 215.980613,
     "end_time": "2024-01-13T16:32:30.544349",
     "exception": false,
     "start_time": "2024-01-13T16:28:54.563736",
     "status": "completed"
    },
    "tags": []
   },
   "outputs": [],
   "source": [
    "model.fit(X_train_os,y_train_os)\n",
    "y_pred = model.predict(X_test)"
   ]
  },
  {
   "cell_type": "code",
   "execution_count": 26,
   "id": "0949f0c5",
   "metadata": {
    "execution": {
     "iopub.execute_input": "2024-01-13T16:32:30.566092Z",
     "iopub.status.busy": "2024-01-13T16:32:30.565686Z",
     "iopub.status.idle": "2024-01-13T16:32:30.708424Z",
     "shell.execute_reply": "2024-01-13T16:32:30.707128Z"
    },
    "papermill": {
     "duration": 0.156278,
     "end_time": "2024-01-13T16:32:30.710891",
     "exception": false,
     "start_time": "2024-01-13T16:32:30.554613",
     "status": "completed"
    },
    "tags": []
   },
   "outputs": [
    {
     "name": "stdout",
     "output_type": "stream",
     "text": [
      "[[85302     5]\n",
      " [   26   110]]\n",
      "              precision    recall  f1-score   support\n",
      "\n",
      "           0       1.00      1.00      1.00     85307\n",
      "           1       0.96      0.81      0.88       136\n",
      "\n",
      "    accuracy                           1.00     85443\n",
      "   macro avg       0.98      0.90      0.94     85443\n",
      "weighted avg       1.00      1.00      1.00     85443\n",
      "\n",
      "0.9996371850239341\n"
     ]
    }
   ],
   "source": [
    "print(confusion_matrix(y_test,y_pred))\n",
    "print(classification_report(y_test,y_pred))\n",
    "print(accuracy_score(y_test,y_pred))"
   ]
  },
  {
   "cell_type": "markdown",
   "id": "9032bcbf",
   "metadata": {
    "papermill": {
     "duration": 0.009643,
     "end_time": "2024-01-13T16:32:30.730571",
     "exception": false,
     "start_time": "2024-01-13T16:32:30.720928",
     "status": "completed"
    },
    "tags": []
   },
   "source": [
    "#### After applying oversampling, we made the count of Class '1' close to about 80 percent to the count of Class '0', and our model even improved slightly!!"
   ]
  },
  {
   "cell_type": "markdown",
   "id": "81a2e1ef",
   "metadata": {
    "papermill": {
     "duration": 0.009556,
     "end_time": "2024-01-13T16:32:30.750462",
     "exception": false,
     "start_time": "2024-01-13T16:32:30.740906",
     "status": "completed"
    },
    "tags": []
   },
   "source": [
    "### This was an amazing task which made me learn about imbalanced data, and gave good understanding about undersampling and oversampling."
   ]
  }
 ],
 "metadata": {
  "kaggle": {
   "accelerator": "none",
   "dataSources": [
    {
     "datasetId": 4298174,
     "sourceId": 7393374,
     "sourceType": "datasetVersion"
    }
   ],
   "dockerImageVersionId": 30635,
   "isGpuEnabled": false,
   "isInternetEnabled": true,
   "language": "python",
   "sourceType": "notebook"
  },
  "kernelspec": {
   "display_name": "Python 3",
   "language": "python",
   "name": "python3"
  },
  "language_info": {
   "codemirror_mode": {
    "name": "ipython",
    "version": 3
   },
   "file_extension": ".py",
   "mimetype": "text/x-python",
   "name": "python",
   "nbconvert_exporter": "python",
   "pygments_lexer": "ipython3",
   "version": "3.10.12"
  },
  "papermill": {
   "default_parameters": {},
   "duration": 485.151051,
   "end_time": "2024-01-13T16:32:31.382786",
   "environment_variables": {},
   "exception": null,
   "input_path": "__notebook__.ipynb",
   "output_path": "__notebook__.ipynb",
   "parameters": {},
   "start_time": "2024-01-13T16:24:26.231735",
   "version": "2.4.0"
  }
 },
 "nbformat": 4,
 "nbformat_minor": 5
}
